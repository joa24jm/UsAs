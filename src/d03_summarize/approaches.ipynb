{
 "cells": [
  {
   "cell_type": "markdown",
   "source": [
    "# Summarize the different split approaches for all datasets"
   ],
   "metadata": {
    "collapsed": false
   }
  },
  {
   "cell_type": "markdown",
   "source": [
    "- [ ] Read in all datasets\n",
    "- [ ] Bring into one table\n",
    "- [ ] Format the output"
   ],
   "metadata": {
    "collapsed": false
   }
  },
  {
   "cell_type": "code",
   "execution_count": 1,
   "outputs": [],
   "source": [
    "# imports\n",
    "import pandas as pd\n",
    "import helpers_summarize"
   ],
   "metadata": {
    "collapsed": false
   }
  },
  {
   "cell_type": "code",
   "execution_count": 2,
   "outputs": [],
   "source": [
    "df = helpers_summarize.load_approach_tables()"
   ],
   "metadata": {
    "collapsed": false
   }
  },
  {
   "cell_type": "markdown",
   "source": [
    "## What is the average rank of an approach with its std?"
   ],
   "metadata": {
    "collapsed": false
   }
  },
  {
   "cell_type": "code",
   "execution_count": 18,
   "outputs": [],
   "source": [
    "idxs = [idx for idx in df.transpose().index if 'f1' in idx]\n",
    "df_ranks = df.rank(ascending=False).transpose().loc[idxs, :]"
   ],
   "metadata": {
    "collapsed": false
   }
  },
  {
   "cell_type": "code",
   "execution_count": 39,
   "outputs": [
    {
     "data": {
      "text/plain": "                          average_rank  average_rank_std\ntime_cut                          1.43              0.79\nanswer_cut                        3.43              1.51\nbl_user_based_last                3.57              1.40\nbl_user_based_all                 3.71              2.29\naverage_user                      3.86              0.69\nuser_wise                         5.00              1.67\nbl_assessment_based_last          6.86              0.69\nbl_assessment_based_all           7.71              0.49",
      "text/html": "<div>\n<style scoped>\n    .dataframe tbody tr th:only-of-type {\n        vertical-align: middle;\n    }\n\n    .dataframe tbody tr th {\n        vertical-align: top;\n    }\n\n    .dataframe thead th {\n        text-align: right;\n    }\n</style>\n<table border=\"1\" class=\"dataframe\">\n  <thead>\n    <tr style=\"text-align: right;\">\n      <th></th>\n      <th>average_rank</th>\n      <th>average_rank_std</th>\n    </tr>\n  </thead>\n  <tbody>\n    <tr>\n      <th>time_cut</th>\n      <td>1.43</td>\n      <td>0.79</td>\n    </tr>\n    <tr>\n      <th>answer_cut</th>\n      <td>3.43</td>\n      <td>1.51</td>\n    </tr>\n    <tr>\n      <th>bl_user_based_last</th>\n      <td>3.57</td>\n      <td>1.40</td>\n    </tr>\n    <tr>\n      <th>bl_user_based_all</th>\n      <td>3.71</td>\n      <td>2.29</td>\n    </tr>\n    <tr>\n      <th>average_user</th>\n      <td>3.86</td>\n      <td>0.69</td>\n    </tr>\n    <tr>\n      <th>user_wise</th>\n      <td>5.00</td>\n      <td>1.67</td>\n    </tr>\n    <tr>\n      <th>bl_assessment_based_last</th>\n      <td>6.86</td>\n      <td>0.69</td>\n    </tr>\n    <tr>\n      <th>bl_assessment_based_all</th>\n      <td>7.71</td>\n      <td>0.49</td>\n    </tr>\n  </tbody>\n</table>\n</div>"
     },
     "execution_count": 39,
     "metadata": {},
     "output_type": "execute_result"
    }
   ],
   "source": [
    "result = pd.DataFrame(df_ranks.mean().apply(lambda x: round(x, 2)))\n",
    "result.rename(columns={0:'average_rank'}, inplace=True)\n",
    "result['average_rank_std'] = df_ranks.std().apply(lambda x: round(x, 2))\n",
    "result.sort_values(by='average_rank')"
   ],
   "metadata": {
    "collapsed": false
   }
  },
  {
   "cell_type": "markdown",
   "source": [
    "The approaches where do not take users into account lead to an overestimation of the performance of the classifier in the testset. That is, if we allow users to be present in both the test and the train set"
   ],
   "metadata": {
    "collapsed": false
   }
  }
 ],
 "metadata": {
  "kernelspec": {
   "display_name": "Python 3",
   "language": "python",
   "name": "python3"
  },
  "language_info": {
   "codemirror_mode": {
    "name": "ipython",
    "version": 2
   },
   "file_extension": ".py",
   "mimetype": "text/x-python",
   "name": "python",
   "nbconvert_exporter": "python",
   "pygments_lexer": "ipython2",
   "version": "2.7.6"
  }
 },
 "nbformat": 4,
 "nbformat_minor": 0
}
