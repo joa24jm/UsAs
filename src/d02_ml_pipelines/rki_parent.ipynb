{
 "cells": [
  {
   "cell_type": "markdown",
   "metadata": {
    "tags": []
   },
   "source": [
    "# ML Pipeline for the CH Parents"
   ]
  },
  {
   "cell_type": "markdown",
   "metadata": {
    "tags": []
   },
   "source": [
    "## Purpose of this notebook\n",
    "- [x]  Prepare dataframe for ML\n",
    "- [x]  Create baseline models\n",
    "    - [x]  User-based\n",
    "        - [x]  last known assessment *of this user*\n",
    "        - [x]  all known assessments *of this user*\n",
    "    - [x]  Assessment-based\n",
    "        - [x]  last known assessment\n",
    "        - [x]  all assessments\n",
    "- [x]  Perform different split approaches to get different model solutions\n",
    "    - [x]  User-Cut\n",
    "    - [x]  Time-Cut\n",
    "    - [x]  User-wise\n",
    "    - [x]  Average-user\n",
    "- [x]  Evalulate all approaches in one table in terms of performance and robustness\n",
    "- [ ] Review approaches"
   ]
  },
  {
   "cell_type": "markdown",
   "metadata": {
    "tags": []
   },
   "source": [
    "## Prepare dataframe for ML"
   ]
  },
  {
   "cell_type": "code",
   "execution_count": 1,
   "metadata": {},
   "outputs": [],
   "source": [
    "# imports\n",
    "import pandas as pd\n",
    "import numpy as np\n",
    "from sklearn.preprocessing import LabelEncoder\n",
    "from sklearn.model_selection import cross_val_score, ShuffleSplit\n",
    "from sklearn.metrics import f1_score, confusion_matrix\n",
    "import seaborn as sns\n",
    "import matplotlib.pyplot as plt\n",
    "from sklearn.model_selection import GroupKFold\n",
    "from sklearn.ensemble import RandomForestClassifier\n",
    "\n",
    "# to import own modules, a workaround - assuming the curent working directory is the folder (your/local/path/UsAs/src/d01_analysis\n",
    "import sys\n",
    "sys.path.insert(0, \"../..\")\n",
    "\n",
    "from src.d00_utils import helpers, process_rki_parent_dataset"
   ]
  },
  {
   "cell_type": "code",
   "execution_count": 2,
   "metadata": {},
   "outputs": [],
   "source": [
    "# suppress annoying warnings\n",
    "pd.options.mode.chained_assignment = None"
   ]
  },
  {
   "cell_type": "code",
   "execution_count": 3,
   "metadata": {},
   "outputs": [],
   "source": [
    "# read in df\n",
    "df = pd.read_csv('../../data/d02_processed/rki_parent.csv')\n",
    "df.set_index('answer_id', inplace=True)"
   ]
  },
  {
   "cell_type": "code",
   "execution_count": 4,
   "metadata": {
    "collapsed": false,
    "jupyter": {
     "outputs_hidden": false
    }
   },
   "outputs": [
    {
     "data": {
      "text/plain": [
       "count    9553.000000\n",
       "mean        0.201612\n",
       "std         0.536531\n",
       "min         0.000000\n",
       "25%         0.000000\n",
       "50%         0.000000\n",
       "75%         0.000000\n",
       "max         3.000000\n",
       "Name: phq9_i, dtype: float64"
      ]
     },
     "execution_count": 4,
     "metadata": {},
     "output_type": "execute_result"
    }
   ],
   "source": [
    "df.phq9_i.describe()"
   ]
  },
  {
   "cell_type": "code",
   "execution_count": 5,
   "metadata": {
    "collapsed": false,
    "jupyter": {
     "outputs_hidden": false
    }
   },
   "outputs": [
    {
     "data": {
      "text/html": [
       "<div>\n",
       "<style scoped>\n",
       "    .dataframe tbody tr th:only-of-type {\n",
       "        vertical-align: middle;\n",
       "    }\n",
       "\n",
       "    .dataframe tbody tr th {\n",
       "        vertical-align: top;\n",
       "    }\n",
       "\n",
       "    .dataframe thead th {\n",
       "        text-align: right;\n",
       "    }\n",
       "</style>\n",
       "<table border=\"1\" class=\"dataframe\">\n",
       "  <thead>\n",
       "    <tr style=\"text-align: right;\">\n",
       "      <th></th>\n",
       "      <th>questionnaire_id</th>\n",
       "      <th>user_id</th>\n",
       "      <th>created_at</th>\n",
       "      <th>pers</th>\n",
       "      <th>a_ort</th>\n",
       "      <th>a_lohn</th>\n",
       "      <th>covid1</th>\n",
       "      <th>covid2</th>\n",
       "      <th>covid3</th>\n",
       "      <th>mhem1</th>\n",
       "      <th>...</th>\n",
       "      <th>schlaf_7</th>\n",
       "      <th>sport2</th>\n",
       "      <th>alk_1</th>\n",
       "      <th>alk_2</th>\n",
       "      <th>feedback</th>\n",
       "      <th>phqpd_b</th>\n",
       "      <th>phqpd_c</th>\n",
       "      <th>phqpd_d</th>\n",
       "      <th>phq9_score</th>\n",
       "      <th>phq9_score_t1</th>\n",
       "    </tr>\n",
       "    <tr>\n",
       "      <th>answer_id</th>\n",
       "      <th></th>\n",
       "      <th></th>\n",
       "      <th></th>\n",
       "      <th></th>\n",
       "      <th></th>\n",
       "      <th></th>\n",
       "      <th></th>\n",
       "      <th></th>\n",
       "      <th></th>\n",
       "      <th></th>\n",
       "      <th></th>\n",
       "      <th></th>\n",
       "      <th></th>\n",
       "      <th></th>\n",
       "      <th></th>\n",
       "      <th></th>\n",
       "      <th></th>\n",
       "      <th></th>\n",
       "      <th></th>\n",
       "      <th></th>\n",
       "      <th></th>\n",
       "    </tr>\n",
       "  </thead>\n",
       "  <tbody>\n",
       "    <tr>\n",
       "      <th>19</th>\n",
       "      <td>2</td>\n",
       "      <td>7</td>\n",
       "      <td>2020-07-23 14:12:43</td>\n",
       "      <td>1</td>\n",
       "      <td>1</td>\n",
       "      <td>0</td>\n",
       "      <td>0</td>\n",
       "      <td>0</td>\n",
       "      <td>0</td>\n",
       "      <td>2</td>\n",
       "      <td>...</td>\n",
       "      <td>0</td>\n",
       "      <td>3</td>\n",
       "      <td>0</td>\n",
       "      <td>NaN</td>\n",
       "      <td>1.0</td>\n",
       "      <td>NaN</td>\n",
       "      <td>NaN</td>\n",
       "      <td>NaN</td>\n",
       "      <td>0</td>\n",
       "      <td>0.0</td>\n",
       "    </tr>\n",
       "    <tr>\n",
       "      <th>22</th>\n",
       "      <td>2</td>\n",
       "      <td>7</td>\n",
       "      <td>2020-07-24 14:14:17</td>\n",
       "      <td>1</td>\n",
       "      <td>1</td>\n",
       "      <td>0</td>\n",
       "      <td>0</td>\n",
       "      <td>0</td>\n",
       "      <td>0</td>\n",
       "      <td>2</td>\n",
       "      <td>...</td>\n",
       "      <td>0</td>\n",
       "      <td>3</td>\n",
       "      <td>0</td>\n",
       "      <td>NaN</td>\n",
       "      <td>1.0</td>\n",
       "      <td>NaN</td>\n",
       "      <td>NaN</td>\n",
       "      <td>NaN</td>\n",
       "      <td>0</td>\n",
       "      <td>0.0</td>\n",
       "    </tr>\n",
       "    <tr>\n",
       "      <th>115</th>\n",
       "      <td>2</td>\n",
       "      <td>152</td>\n",
       "      <td>2020-07-28 09:58:47</td>\n",
       "      <td>1</td>\n",
       "      <td>2</td>\n",
       "      <td>0</td>\n",
       "      <td>0</td>\n",
       "      <td>0</td>\n",
       "      <td>0</td>\n",
       "      <td>1</td>\n",
       "      <td>...</td>\n",
       "      <td>0</td>\n",
       "      <td>4</td>\n",
       "      <td>1</td>\n",
       "      <td>0.0</td>\n",
       "      <td>1.0</td>\n",
       "      <td>NaN</td>\n",
       "      <td>NaN</td>\n",
       "      <td>NaN</td>\n",
       "      <td>0</td>\n",
       "      <td>0.0</td>\n",
       "    </tr>\n",
       "    <tr>\n",
       "      <th>155</th>\n",
       "      <td>2</td>\n",
       "      <td>140</td>\n",
       "      <td>2020-07-28 20:41:39</td>\n",
       "      <td>1</td>\n",
       "      <td>2</td>\n",
       "      <td>1</td>\n",
       "      <td>0</td>\n",
       "      <td>0</td>\n",
       "      <td>0</td>\n",
       "      <td>3</td>\n",
       "      <td>...</td>\n",
       "      <td>0</td>\n",
       "      <td>2</td>\n",
       "      <td>4</td>\n",
       "      <td>NaN</td>\n",
       "      <td>1.0</td>\n",
       "      <td>NaN</td>\n",
       "      <td>NaN</td>\n",
       "      <td>NaN</td>\n",
       "      <td>0</td>\n",
       "      <td>0.0</td>\n",
       "    </tr>\n",
       "    <tr>\n",
       "      <th>162</th>\n",
       "      <td>2</td>\n",
       "      <td>114</td>\n",
       "      <td>2020-07-29 04:08:12</td>\n",
       "      <td>1</td>\n",
       "      <td>2</td>\n",
       "      <td>0</td>\n",
       "      <td>0</td>\n",
       "      <td>0</td>\n",
       "      <td>0</td>\n",
       "      <td>2</td>\n",
       "      <td>...</td>\n",
       "      <td>1</td>\n",
       "      <td>1</td>\n",
       "      <td>3</td>\n",
       "      <td>1.0</td>\n",
       "      <td>1.0</td>\n",
       "      <td>NaN</td>\n",
       "      <td>NaN</td>\n",
       "      <td>NaN</td>\n",
       "      <td>1</td>\n",
       "      <td>0.0</td>\n",
       "    </tr>\n",
       "  </tbody>\n",
       "</table>\n",
       "<p>5 rows × 76 columns</p>\n",
       "</div>"
      ],
      "text/plain": [
       "           questionnaire_id  user_id           created_at  pers  a_ort  \\\n",
       "answer_id                                                                \n",
       "19                        2        7  2020-07-23 14:12:43     1      1   \n",
       "22                        2        7  2020-07-24 14:14:17     1      1   \n",
       "115                       2      152  2020-07-28 09:58:47     1      2   \n",
       "155                       2      140  2020-07-28 20:41:39     1      2   \n",
       "162                       2      114  2020-07-29 04:08:12     1      2   \n",
       "\n",
       "           a_lohn  covid1  covid2  covid3  mhem1  ...  schlaf_7  sport2  \\\n",
       "answer_id                                         ...                     \n",
       "19              0       0       0       0      2  ...         0       3   \n",
       "22              0       0       0       0      2  ...         0       3   \n",
       "115             0       0       0       0      1  ...         0       4   \n",
       "155             1       0       0       0      3  ...         0       2   \n",
       "162             0       0       0       0      2  ...         1       1   \n",
       "\n",
       "           alk_1  alk_2  feedback  phqpd_b  phqpd_c  phqpd_d  phq9_score  \\\n",
       "answer_id                                                                  \n",
       "19             0    NaN       1.0      NaN      NaN      NaN           0   \n",
       "22             0    NaN       1.0      NaN      NaN      NaN           0   \n",
       "115            1    0.0       1.0      NaN      NaN      NaN           0   \n",
       "155            4    NaN       1.0      NaN      NaN      NaN           0   \n",
       "162            3    1.0       1.0      NaN      NaN      NaN           1   \n",
       "\n",
       "           phq9_score_t1  \n",
       "answer_id                 \n",
       "19                   0.0  \n",
       "22                   0.0  \n",
       "115                  0.0  \n",
       "155                  0.0  \n",
       "162                  0.0  \n",
       "\n",
       "[5 rows x 76 columns]"
      ]
     },
     "execution_count": 5,
     "metadata": {},
     "output_type": "execute_result"
    }
   ],
   "source": [
    "df.head()"
   ]
  },
  {
   "cell_type": "markdown",
   "metadata": {},
   "source": [
    "Define test data to evaluate all approaches on the same testset.\n",
    "\n",
    "20 % of the users shall be taken for test, 80 % for trying out different approaches."
   ]
  },
  {
   "cell_type": "code",
   "execution_count": 6,
   "metadata": {},
   "outputs": [
    {
     "data": {
      "text/html": [
       "<div>\n",
       "<style scoped>\n",
       "    .dataframe tbody tr th:only-of-type {\n",
       "        vertical-align: middle;\n",
       "    }\n",
       "\n",
       "    .dataframe tbody tr th {\n",
       "        vertical-align: top;\n",
       "    }\n",
       "\n",
       "    .dataframe thead th {\n",
       "        text-align: right;\n",
       "    }\n",
       "</style>\n",
       "<table border=\"1\" class=\"dataframe\">\n",
       "  <thead>\n",
       "    <tr style=\"text-align: right;\">\n",
       "      <th></th>\n",
       "      <th>questionnaire_id</th>\n",
       "      <th>user_id</th>\n",
       "      <th>pers</th>\n",
       "      <th>a_ort</th>\n",
       "      <th>a_lohn</th>\n",
       "      <th>covid1</th>\n",
       "      <th>covid2</th>\n",
       "      <th>covid3</th>\n",
       "      <th>mhem1</th>\n",
       "      <th>pt_aktuell2</th>\n",
       "      <th>...</th>\n",
       "      <th>schlaf_7</th>\n",
       "      <th>sport2</th>\n",
       "      <th>alk_1</th>\n",
       "      <th>alk_2</th>\n",
       "      <th>feedback</th>\n",
       "      <th>phqpd_b</th>\n",
       "      <th>phqpd_c</th>\n",
       "      <th>phqpd_d</th>\n",
       "      <th>phq9_score</th>\n",
       "      <th>phq9_score_t1</th>\n",
       "    </tr>\n",
       "  </thead>\n",
       "  <tbody>\n",
       "    <tr>\n",
       "      <th>count</th>\n",
       "      <td>9607.000000</td>\n",
       "      <td>9607.000000</td>\n",
       "      <td>9607.000000</td>\n",
       "      <td>9607.000000</td>\n",
       "      <td>9607.000000</td>\n",
       "      <td>9607.000000</td>\n",
       "      <td>9607.000000</td>\n",
       "      <td>9607.000000</td>\n",
       "      <td>9607.000000</td>\n",
       "      <td>9607.000000</td>\n",
       "      <td>...</td>\n",
       "      <td>9607.000000</td>\n",
       "      <td>9607.000000</td>\n",
       "      <td>9607.000000</td>\n",
       "      <td>5514.000000</td>\n",
       "      <td>9607.000000</td>\n",
       "      <td>1994.000000</td>\n",
       "      <td>1784.000000</td>\n",
       "      <td>1752.000000</td>\n",
       "      <td>9607.000000</td>\n",
       "      <td>9607.000000</td>\n",
       "    </tr>\n",
       "    <tr>\n",
       "      <th>mean</th>\n",
       "      <td>7.190382</td>\n",
       "      <td>3410.559592</td>\n",
       "      <td>1.002394</td>\n",
       "      <td>1.736859</td>\n",
       "      <td>0.199750</td>\n",
       "      <td>0.085354</td>\n",
       "      <td>0.356407</td>\n",
       "      <td>0.070886</td>\n",
       "      <td>2.285209</td>\n",
       "      <td>1.753305</td>\n",
       "      <td>...</td>\n",
       "      <td>0.857292</td>\n",
       "      <td>2.857812</td>\n",
       "      <td>1.085563</td>\n",
       "      <td>0.758433</td>\n",
       "      <td>0.629957</td>\n",
       "      <td>0.604313</td>\n",
       "      <td>0.470852</td>\n",
       "      <td>0.503995</td>\n",
       "      <td>0.977204</td>\n",
       "      <td>0.975018</td>\n",
       "    </tr>\n",
       "    <tr>\n",
       "      <th>std</th>\n",
       "      <td>3.818967</td>\n",
       "      <td>2851.269369</td>\n",
       "      <td>0.048873</td>\n",
       "      <td>0.686624</td>\n",
       "      <td>0.476786</td>\n",
       "      <td>0.398050</td>\n",
       "      <td>0.747796</td>\n",
       "      <td>0.256647</td>\n",
       "      <td>0.816020</td>\n",
       "      <td>0.538477</td>\n",
       "      <td>...</td>\n",
       "      <td>1.093931</td>\n",
       "      <td>1.370618</td>\n",
       "      <td>1.239810</td>\n",
       "      <td>0.941634</td>\n",
       "      <td>0.482841</td>\n",
       "      <td>0.489120</td>\n",
       "      <td>0.499290</td>\n",
       "      <td>0.500127</td>\n",
       "      <td>1.160008</td>\n",
       "      <td>1.162518</td>\n",
       "    </tr>\n",
       "    <tr>\n",
       "      <th>min</th>\n",
       "      <td>2.000000</td>\n",
       "      <td>7.000000</td>\n",
       "      <td>1.000000</td>\n",
       "      <td>1.000000</td>\n",
       "      <td>0.000000</td>\n",
       "      <td>0.000000</td>\n",
       "      <td>0.000000</td>\n",
       "      <td>0.000000</td>\n",
       "      <td>1.000000</td>\n",
       "      <td>0.000000</td>\n",
       "      <td>...</td>\n",
       "      <td>0.000000</td>\n",
       "      <td>1.000000</td>\n",
       "      <td>0.000000</td>\n",
       "      <td>0.000000</td>\n",
       "      <td>0.000000</td>\n",
       "      <td>0.000000</td>\n",
       "      <td>0.000000</td>\n",
       "      <td>0.000000</td>\n",
       "      <td>0.000000</td>\n",
       "      <td>0.000000</td>\n",
       "    </tr>\n",
       "    <tr>\n",
       "      <th>25%</th>\n",
       "      <td>2.000000</td>\n",
       "      <td>1007.500000</td>\n",
       "      <td>1.000000</td>\n",
       "      <td>1.000000</td>\n",
       "      <td>0.000000</td>\n",
       "      <td>0.000000</td>\n",
       "      <td>0.000000</td>\n",
       "      <td>0.000000</td>\n",
       "      <td>2.000000</td>\n",
       "      <td>2.000000</td>\n",
       "      <td>...</td>\n",
       "      <td>0.000000</td>\n",
       "      <td>2.000000</td>\n",
       "      <td>0.000000</td>\n",
       "      <td>0.000000</td>\n",
       "      <td>0.000000</td>\n",
       "      <td>0.000000</td>\n",
       "      <td>0.000000</td>\n",
       "      <td>0.000000</td>\n",
       "      <td>0.000000</td>\n",
       "      <td>0.000000</td>\n",
       "    </tr>\n",
       "    <tr>\n",
       "      <th>50%</th>\n",
       "      <td>10.000000</td>\n",
       "      <td>2882.000000</td>\n",
       "      <td>1.000000</td>\n",
       "      <td>2.000000</td>\n",
       "      <td>0.000000</td>\n",
       "      <td>0.000000</td>\n",
       "      <td>0.000000</td>\n",
       "      <td>0.000000</td>\n",
       "      <td>2.000000</td>\n",
       "      <td>2.000000</td>\n",
       "      <td>...</td>\n",
       "      <td>0.000000</td>\n",
       "      <td>3.000000</td>\n",
       "      <td>1.000000</td>\n",
       "      <td>0.000000</td>\n",
       "      <td>1.000000</td>\n",
       "      <td>1.000000</td>\n",
       "      <td>0.000000</td>\n",
       "      <td>1.000000</td>\n",
       "      <td>1.000000</td>\n",
       "      <td>1.000000</td>\n",
       "    </tr>\n",
       "    <tr>\n",
       "      <th>75%</th>\n",
       "      <td>10.000000</td>\n",
       "      <td>5233.000000</td>\n",
       "      <td>1.000000</td>\n",
       "      <td>2.000000</td>\n",
       "      <td>0.000000</td>\n",
       "      <td>0.000000</td>\n",
       "      <td>0.000000</td>\n",
       "      <td>0.000000</td>\n",
       "      <td>3.000000</td>\n",
       "      <td>2.000000</td>\n",
       "      <td>...</td>\n",
       "      <td>1.000000</td>\n",
       "      <td>4.000000</td>\n",
       "      <td>2.000000</td>\n",
       "      <td>1.000000</td>\n",
       "      <td>1.000000</td>\n",
       "      <td>1.000000</td>\n",
       "      <td>1.000000</td>\n",
       "      <td>1.000000</td>\n",
       "      <td>2.000000</td>\n",
       "      <td>2.000000</td>\n",
       "    </tr>\n",
       "    <tr>\n",
       "      <th>max</th>\n",
       "      <td>10.000000</td>\n",
       "      <td>11376.000000</td>\n",
       "      <td>2.000000</td>\n",
       "      <td>3.000000</td>\n",
       "      <td>2.000000</td>\n",
       "      <td>2.000000</td>\n",
       "      <td>2.000000</td>\n",
       "      <td>1.000000</td>\n",
       "      <td>5.000000</td>\n",
       "      <td>2.000000</td>\n",
       "      <td>...</td>\n",
       "      <td>4.000000</td>\n",
       "      <td>5.000000</td>\n",
       "      <td>4.000000</td>\n",
       "      <td>4.000000</td>\n",
       "      <td>1.000000</td>\n",
       "      <td>1.000000</td>\n",
       "      <td>1.000000</td>\n",
       "      <td>1.000000</td>\n",
       "      <td>4.000000</td>\n",
       "      <td>4.000000</td>\n",
       "    </tr>\n",
       "  </tbody>\n",
       "</table>\n",
       "<p>8 rows × 75 columns</p>\n",
       "</div>"
      ],
      "text/plain": [
       "       questionnaire_id       user_id         pers        a_ort       a_lohn  \\\n",
       "count       9607.000000   9607.000000  9607.000000  9607.000000  9607.000000   \n",
       "mean           7.190382   3410.559592     1.002394     1.736859     0.199750   \n",
       "std            3.818967   2851.269369     0.048873     0.686624     0.476786   \n",
       "min            2.000000      7.000000     1.000000     1.000000     0.000000   \n",
       "25%            2.000000   1007.500000     1.000000     1.000000     0.000000   \n",
       "50%           10.000000   2882.000000     1.000000     2.000000     0.000000   \n",
       "75%           10.000000   5233.000000     1.000000     2.000000     0.000000   \n",
       "max           10.000000  11376.000000     2.000000     3.000000     2.000000   \n",
       "\n",
       "            covid1       covid2       covid3        mhem1  pt_aktuell2  ...  \\\n",
       "count  9607.000000  9607.000000  9607.000000  9607.000000  9607.000000  ...   \n",
       "mean      0.085354     0.356407     0.070886     2.285209     1.753305  ...   \n",
       "std       0.398050     0.747796     0.256647     0.816020     0.538477  ...   \n",
       "min       0.000000     0.000000     0.000000     1.000000     0.000000  ...   \n",
       "25%       0.000000     0.000000     0.000000     2.000000     2.000000  ...   \n",
       "50%       0.000000     0.000000     0.000000     2.000000     2.000000  ...   \n",
       "75%       0.000000     0.000000     0.000000     3.000000     2.000000  ...   \n",
       "max       2.000000     2.000000     1.000000     5.000000     2.000000  ...   \n",
       "\n",
       "          schlaf_7       sport2        alk_1        alk_2     feedback  \\\n",
       "count  9607.000000  9607.000000  9607.000000  5514.000000  9607.000000   \n",
       "mean      0.857292     2.857812     1.085563     0.758433     0.629957   \n",
       "std       1.093931     1.370618     1.239810     0.941634     0.482841   \n",
       "min       0.000000     1.000000     0.000000     0.000000     0.000000   \n",
       "25%       0.000000     2.000000     0.000000     0.000000     0.000000   \n",
       "50%       0.000000     3.000000     1.000000     0.000000     1.000000   \n",
       "75%       1.000000     4.000000     2.000000     1.000000     1.000000   \n",
       "max       4.000000     5.000000     4.000000     4.000000     1.000000   \n",
       "\n",
       "           phqpd_b      phqpd_c      phqpd_d   phq9_score  phq9_score_t1  \n",
       "count  1994.000000  1784.000000  1752.000000  9607.000000    9607.000000  \n",
       "mean      0.604313     0.470852     0.503995     0.977204       0.975018  \n",
       "std       0.489120     0.499290     0.500127     1.160008       1.162518  \n",
       "min       0.000000     0.000000     0.000000     0.000000       0.000000  \n",
       "25%       0.000000     0.000000     0.000000     0.000000       0.000000  \n",
       "50%       1.000000     0.000000     1.000000     1.000000       1.000000  \n",
       "75%       1.000000     1.000000     1.000000     2.000000       2.000000  \n",
       "max       1.000000     1.000000     1.000000     4.000000       4.000000  \n",
       "\n",
       "[8 rows x 75 columns]"
      ]
     },
     "execution_count": 6,
     "metadata": {},
     "output_type": "execute_result"
    }
   ],
   "source": [
    "df.describe()"
   ]
  },
  {
   "cell_type": "code",
   "execution_count": 7,
   "metadata": {},
   "outputs": [],
   "source": [
    "# create a random_state\n",
    "random_state = 1994\n",
    "seed = 2023"
   ]
  },
  {
   "cell_type": "code",
   "execution_count": 8,
   "metadata": {},
   "outputs": [],
   "source": [
    "# first 80 % of users into train, second 20 % into test\n",
    "df_train, df_test = helpers.create_train_and_test_set(df, sort_users=True, seed=seed)"
   ]
  },
  {
   "cell_type": "code",
   "execution_count": 9,
   "metadata": {},
   "outputs": [],
   "source": [
    "# define features and target\n",
    "features = process_rki_parent_dataset.get_features(df)\n",
    "target = 'phq9_score_t1'\n",
    "time_col = 'created_at'\n",
    "user_col = 'user_id'\n",
    "\n",
    "# set up for classification - target is already categorical, no bins or LabelEncoding required\n",
    "bins = None\n",
    "LE = None\n",
    "\n",
    "# preare dataset and model\n",
    "model, X_train, X_test, y_train, y_test, _ = helpers.prepare_and_instantiate(df_train, df_test, features, target, bins, LE, fit=False, cut=False)\n",
    "\n",
    "# Create mapping\n",
    "mapping = {0: 'None',\n",
    "           1: 'Mild',\n",
    "           2: 'Moderate',\n",
    "           3: 'Moderate-to-Severe',\n",
    "           4: 'Severe'}\n",
    "\n",
    "# cross validation setup\n",
    "n_splits = 5\n",
    "test_size = 1/n_splits\n",
    "\n",
    "# preprare results dic\n",
    "approaches = helpers.get_approaches()\n",
    "results_dic = {approach: {'f1':None, 'std':None} for approach in approaches}\n",
    "\n"
   ]
  },
  {
   "cell_type": "code",
   "execution_count": 10,
   "metadata": {},
   "outputs": [
    {
     "data": {
      "text/plain": [
       "['bl_user_based_last',\n",
       " 'bl_user_based_all',\n",
       " 'bl_assessment_based_last',\n",
       " 'bl_assessment_based_all',\n",
       " 'user_cut',\n",
       " 'time_cut',\n",
       " 'user_wise',\n",
       " 'average_user']"
      ]
     },
     "execution_count": 10,
     "metadata": {},
     "output_type": "execute_result"
    }
   ],
   "source": [
    "approaches"
   ]
  },
  {
   "cell_type": "markdown",
   "metadata": {
    "tags": []
   },
   "source": [
    "## Create baseline models"
   ]
  },
  {
   "attachments": {
    "d5f4b42a-67ef-4eab-bbc3-e25e7076b815.png": {
     "image/png": "[encoded data removed]"
    }
   },
   "cell_type": "markdown",
   "metadata": {},
   "source": [
    "![image.png](attachment:d5f4b42a-67ef-4eab-bbc3-e25e7076b815.png)"
   ]
  },
  {
   "cell_type": "code",
   "execution_count": 11,
   "metadata": {},
   "outputs": [
    {
     "name": "stdout",
     "output_type": "stream",
     "text": [
      "Approach:\t all\n",
      "0.0    736\n",
      "1.0    466\n",
      "2.0    222\n",
      "3.0    126\n",
      "4.0     68\n",
      "Name: phq9_score_t1, dtype: int64\n",
      "0.0    755\n",
      "1.0    440\n",
      "2.0    215\n",
      "3.0    136\n",
      "4.0     72\n",
      "Name: phq9_score_t1, dtype: int64\n",
      "0.0    758\n",
      "1.0    442\n",
      "2.0    195\n",
      "3.0    130\n",
      "4.0     93\n",
      "Name: phq9_score_t1, dtype: int64\n",
      "0.0    769\n",
      "1.0    445\n",
      "2.0    217\n",
      "3.0    133\n",
      "4.0     54\n",
      "Name: phq9_score_t1, dtype: int64\n",
      "0.0    786\n",
      "1.0    461\n",
      "2.0    201\n",
      "3.0    107\n",
      "4.0     63\n",
      "Name: phq9_score_t1, dtype: int64\n",
      "Performance within TRAIN\n",
      "Assessment approach\n",
      "f1_weighted mean \t 0.3009142221589704\n",
      "standarddeviation \t 0.011073975544990877\n",
      "#################################################\n",
      "User approach\n",
      "f1_weighted mean \t 0.6675050660851507\n",
      "standarddeviation \t 0.005675707194031125\n",
      "Performance within TEST\n",
      "Final score assessment approach:\t 0.3165092596635912\n"
     ]
    },
    {
     "data": {
      "image/png": "[encoded data removed]",
      "text/plain": [
       "<Figure size 432x288 with 2 Axes>"
      ]
     },
     "metadata": {
      "needs_background": "light"
     },
     "output_type": "display_data"
    },
    {
     "name": "stdout",
     "output_type": "stream",
     "text": [
      "Final score user approach:\t 0.6982994375086824\n"
     ]
    },
    {
     "data": {
      "image/png": "[encoded data removed]",
      "text/plain": [
       "<Figure size 432x288 with 2 Axes>"
      ]
     },
     "metadata": {
      "needs_background": "light"
     },
     "output_type": "display_data"
    },
    {
     "name": "stdout",
     "output_type": "stream",
     "text": [
      "Approach:\t last\n",
      "0.0    736\n",
      "1.0    466\n",
      "2.0    222\n",
      "3.0    126\n",
      "4.0     68\n",
      "Name: phq9_score_t1, dtype: int64\n",
      "0.0    755\n",
      "1.0    440\n",
      "2.0    215\n",
      "3.0    136\n",
      "4.0     72\n",
      "Name: phq9_score_t1, dtype: int64\n",
      "0.0    758\n",
      "1.0    442\n",
      "2.0    195\n",
      "3.0    130\n",
      "4.0     93\n",
      "Name: phq9_score_t1, dtype: int64\n",
      "0.0    769\n",
      "1.0    445\n",
      "2.0    217\n",
      "3.0    133\n",
      "4.0     54\n",
      "Name: phq9_score_t1, dtype: int64\n",
      "0.0    786\n",
      "1.0    461\n",
      "2.0    201\n",
      "3.0    107\n",
      "4.0     63\n",
      "Name: phq9_score_t1, dtype: int64\n",
      "Performance within TRAIN\n",
      "Assessment approach\n",
      "f1_weighted mean \t 0.3239339224410569\n",
      "standarddeviation \t 0.012970909939273932\n",
      "#################################################\n",
      "User approach\n",
      "f1_weighted mean \t 0.6034568624051714\n",
      "standarddeviation \t 0.008048318185686165\n",
      "Performance within TEST\n",
      "Final score assessment approach:\t 0.3134099138466827\n"
     ]
    },
    {
     "data": {
      "image/png": "[encoded data removed]",
      "text/plain": [
       "<Figure size 432x288 with 2 Axes>"
      ]
     },
     "metadata": {
      "needs_background": "light"
     },
     "output_type": "display_data"
    },
    {
     "name": "stdout",
     "output_type": "stream",
     "text": [
      "Final score user approach:\t 0.671352043917892\n"
     ]
    },
    {
     "data": {
      "image/png": "[encoded data removed]",
      "text/plain": [
       "<Figure size 432x288 with 2 Axes>"
      ]
     },
     "metadata": {
      "needs_background": "light"
     },
     "output_type": "display_data"
    }
   ],
   "source": [
    "# instantiate model\n",
    "model = helpers.baseline_model()\n",
    "\n",
    "# define constants\n",
    "for approach in ['all', 'last']:\n",
    "    print('Approach:\\t', approach)\n",
    "\n",
    "    # train model in cross validation\n",
    "    cv = ShuffleSplit(n_splits=n_splits, test_size=test_size, random_state=random_state)\n",
    "    scores_a = []\n",
    "    scores_u = []\n",
    "    for _, val_indices in cv.split(df_train):\n",
    "\n",
    "        # divide all train data into folds\n",
    "        df_train_val_fold = df_train.iloc[val_indices, :]\n",
    "\n",
    "        # get baseline prediction\n",
    "        y_pred_a = model.get_baseline_assessment_prediction(data=df_train_val_fold, target_name=target, \n",
    "                                                            approach=approach, time_col = time_col, mode=True)\n",
    "        y_pred_u = model.get_baseline_user_prediction(data=df_train_val_fold, target_name=target, \n",
    "                                                      approach=approach, time_col = time_col, mode=True)\n",
    "        y_true = df_train_val_fold[target]\n",
    "\n",
    "        assert y_pred_a.shape[0] == y_true.shape[0]\n",
    "        print(y_true.value_counts(dropna=False))\n",
    "\n",
    "        # calculate score\n",
    "        f1_score_test_a = f1_score(y_true, y_pred_a, average='weighted')\n",
    "        f1_score_test_u = f1_score(y_true, y_pred_u, average='weighted')\n",
    "        scores_a.append(f1_score_test_a)\n",
    "        scores_u.append(f1_score_test_u)\n",
    "\n",
    "    # validate model\n",
    "    print('Performance within TRAIN')\n",
    "    print('Assessment approach')\n",
    "    print('f1_weighted mean \\t', np.array(scores_a).mean())\n",
    "    print('standarddeviation \\t', np.array(scores_a).std())\n",
    "    print('#################################################')\n",
    "    print('User approach')\n",
    "    print('f1_weighted mean \\t', np.array(scores_u).mean())\n",
    "    print('standarddeviation \\t', np.array(scores_u).std())\n",
    "    # evaluate on test set\n",
    "\n",
    "    # assessment------------------------------------------------------------------------------\n",
    "    y_pred_a = model.get_baseline_assessment_prediction(data=df_test, target_name=target, \n",
    "                                                        approach=approach, mode=True).values\n",
    "\n",
    "    f1_score_test_a = f1_score(y_test, y_pred_a, average='weighted')\n",
    "    std = np.array(scores_a).std()\n",
    "    final_score_a = f1_score_test_a - 0.5 * std\n",
    "\n",
    "    print('Performance within TEST')\n",
    "    print('Final score assessment approach:\\t', final_score_a)\n",
    "    \n",
    "    results_dic[f'bl_assessment_based_{approach}']['f1'] = final_score_a\n",
    "    results_dic[f'bl_assessment_based_{approach}']['std'] = std\n",
    "\n",
    "\n",
    "\n",
    "    # visualize confusion matrix\n",
    "    # assessment\n",
    "    helpers.visualize_confusion_matrix(y_test, y_pred_a, mapping, final_score_a)\n",
    "\n",
    "    # user------------------------------------------------------------------------------------\n",
    "\n",
    "    y_pred_u = model.get_baseline_user_prediction(data=df_test, target_name=target, approach=approach).values\n",
    "    f1_score_test_u = f1_score(y_test, y_pred_u, average='weighted')\n",
    "    std = np.array(scores_u).std()\n",
    "    final_score_u = f1_score_test_u - 0.5 * std\n",
    "    \n",
    "    results_dic[f'bl_user_based_{approach}']['f1'] = final_score_u\n",
    "    results_dic[f'bl_user_based_{approach}']['std'] = std\n",
    "\n",
    "    print('Final score user approach:\\t', final_score_u)\n",
    "\n",
    "\n",
    "\n",
    "    helpers.visualize_confusion_matrix(y_test, y_pred_u, mapping, final_score_u)"
   ]
  },
  {
   "cell_type": "markdown",
   "metadata": {
    "tags": []
   },
   "source": [
    "#### Assessment approach\n",
    " - `last`: #TODO interpret\n",
    " - `all`:  #TODO interpret\n",
    " \n",
    "#### User approach\n",
    " - `last`: #TODO interpret\n",
    " - `all`:  #TODO interpret"
   ]
  },
  {
   "cell_type": "markdown",
   "metadata": {
    "tags": []
   },
   "source": [
    "## Perform different split approaches to get different model solutions"
   ]
  },
  {
   "cell_type": "markdown",
   "metadata": {},
   "source": [
    "### Approach | Assessment | User-Cut"
   ]
  },
  {
   "cell_type": "code",
   "execution_count": 12,
   "metadata": {},
   "outputs": [
    {
     "name": "stdout",
     "output_type": "stream",
     "text": [
      "Performance within train\n",
      "f1_weighted mean  0.6579585299600818\n",
      "standarddeviation  0.0374873292381105\n"
     ]
    },
    {
     "data": {
      "image/png": "[encoded data removed]",
      "text/plain": [
       "<Figure size 432x288 with 2 Axes>"
      ]
     },
     "metadata": {
      "needs_background": "light"
     },
     "output_type": "display_data"
    }
   ],
   "source": [
    "# instantiate model\n",
    "model = RandomForestClassifier(random_state=random_state)\n",
    "\n",
    "# split by user\n",
    "df_train, df_test = helpers.create_train_and_test_set(df, sort_users=True, seed=seed)\n",
    "\n",
    "# get data\n",
    "model, X_train, X_test, y_train, y_test, _ = helpers.prepare_and_instantiate(df_train, df_test, features, target, bins, LE, fit=False, cut=False)\n",
    "\n",
    "# train model\n",
    "cv = GroupKFold(n_splits = n_splits)# in each fold, user groups are distinct\n",
    "scores = cross_val_score(model, X_train, y_train, cv=cv, scoring='f1_weighted', groups=df_train.user_id)\n",
    "\n",
    "# validate model\n",
    "print('Performance within train')\n",
    "print('f1_weighted mean ', scores.mean())\n",
    "print('standarddeviation ', scores.std())\n",
    "\n",
    "y_pred, f1_final = helpers.fit_and_calc_score(model, X_train, X_test, y_train, y_test, scores)\n",
    "\n",
    "# visualize confusion matrix\n",
    "helpers.visualize_confusion_matrix(y_test, y_pred, mapping, f1_final)\n",
    "\n",
    "# write to results dict\n",
    "approach = 'user_cut'\n",
    "results_dic[approach]['f1'] = f1_final\n",
    "results_dic[approach]['val-mean'] = scores.mean()\n",
    "results_dic[approach]['std'] = scores.std()"
   ]
  },
  {
   "cell_type": "markdown",
   "metadata": {},
   "source": [
    "With the standard random shuffle and ignoring user aspects, the model is better than random guessing. However, without having the information that user groups exist, the score is well below 60 %."
   ]
  },
  {
   "cell_type": "markdown",
   "metadata": {},
   "source": [
    "### Approach | Assessment | Time-cut"
   ]
  },
  {
   "cell_type": "code",
   "execution_count": 13,
   "metadata": {},
   "outputs": [
    {
     "name": "stdout",
     "output_type": "stream",
     "text": [
      "Performance within train\n",
      "f1_weighted mean  0.699\n",
      "standarddeviation  0.012\n"
     ]
    },
    {
     "data": {
      "image/png": "[encoded data removed]",
      "text/plain": [
       "<Figure size 432x288 with 2 Axes>"
      ]
     },
     "metadata": {
      "needs_background": "light"
     },
     "output_type": "display_data"
    }
   ],
   "source": [
    "# create new model instance\n",
    "model, _, _, _, _, _ = helpers.prepare_and_instantiate(df_train, df_test, features, target, bins, LE, fit=False, cut=False)\n",
    "\n",
    "# create a group column. Each group belongs to a dategroup. The first 20% of the train data belong to date_group_1, the next 20% belong to date_group_2, and so on.\n",
    "groups = np.sort(np.random.randint(low=1, high=5+1, size = df_train.shape[0]))\n",
    "\n",
    "# train model\n",
    "cv = ShuffleSplit(n_splits=n_splits, test_size=test_size, random_state=random_state)\n",
    "scores = cross_val_score(model, X_train, y_train, cv=cv, scoring='f1_weighted', groups=groups)\n",
    "\n",
    "# validate model\n",
    "print('Performance within train')\n",
    "print('f1_weighted mean ', round(scores.mean(), 3))\n",
    "print('standarddeviation ', round(scores.std(), 3))\n",
    "\n",
    "y_pred, f1_final = helpers.fit_and_calc_score(model, X_train, X_test, y_train, y_test, scores)\n",
    "\n",
    "# visualize confusion matrix\n",
    "helpers.visualize_confusion_matrix(y_test, y_pred, mapping, f1_final)\n",
    "\n",
    "# write to results dict\n",
    "approach = 'time_cut'\n",
    "results_dic[approach]['f1'] = f1_final\n",
    "results_dic[approach]['val-mean'] = scores.mean()\n",
    "results_dic[approach]['std'] = scores.std()"
   ]
  },
  {
   "cell_type": "markdown",
   "metadata": {},
   "source": [
    "Making a precise differentiation with evenly sized time chunks, the model improves to the random approach. This might be due to the fact that some users joined the study later, so there was an indirect grouped kfold validation. The score improves from the random approach by 3%-points."
   ]
  },
  {
   "cell_type": "markdown",
   "metadata": {},
   "source": [
    "### Approach | User | Average-user"
   ]
  },
  {
   "cell_type": "markdown",
   "metadata": {},
   "source": [
    "For each assesment, check the user id and calculate the mean of all answers known by this user so far. These mean replace the reported assessments."
   ]
  },
  {
   "cell_type": "code",
   "execution_count": 14,
   "metadata": {},
   "outputs": [
    {
     "name": "stdout",
     "output_type": "stream",
     "text": [
      "Performance within train\n",
      "f1_weighted mean  0.6672566761880594\n",
      "standarddeviation  0.03785711344101287\n"
     ]
    },
    {
     "data": {
      "image/png": "[encoded data removed]",
      "text/plain": [
       "<Figure size 432x288 with 2 Axes>"
      ]
     },
     "metadata": {
      "needs_background": "light"
     },
     "output_type": "display_data"
    }
   ],
   "source": [
    "# calculate grouped cumulative means for all assessments of all users3\n",
    "df_train_avg_user = helpers.calc_cum_mean(df_train, features, user_id='user_id')\n",
    "df_test_avg_user = helpers.calc_cum_mean(df_test, features, user_id='user_id')\n",
    "\n",
    "# prepare data and model\n",
    "model, X_train, X_test, y_train, y_test, LE = helpers.prepare_and_instantiate(df_train_avg_user, df_test_avg_user, features, target, bins, LE, fit=False, cut=False)\n",
    "\n",
    "# train model\n",
    "cv = GroupKFold(n_splits=n_splits)\n",
    "scores = cross_val_score(model, X_train, y_train, cv=cv, scoring='f1_weighted', groups=df_train_avg_user.user_id)\n",
    "\n",
    "# validate model\n",
    "print('Performance within train')\n",
    "print('f1_weighted mean ', scores.mean())\n",
    "print('standarddeviation ', scores.std())\n",
    "\n",
    "# fit and calculate\n",
    "y_pred, f1_final = helpers.fit_and_calc_score(model, X_train, X_test, y_train, y_test, scores)\n",
    "\n",
    "# visualize confusion matrix\n",
    "helpers.visualize_confusion_matrix(y_test, y_pred, mapping, f1_final)\n",
    "\n",
    "# write to results dict\n",
    "approach = 'average_user'\n",
    "results_dic[approach]['f1'] = f1_final\n",
    "results_dic[approach]['val-mean'] = scores.mean()\n",
    "results_dic[approach]['std'] = scores.std()"
   ]
  },
  {
   "cell_type": "markdown",
   "metadata": {},
   "source": [
    "# TODO Interpet"
   ]
  },
  {
   "cell_type": "markdown",
   "metadata": {},
   "source": [
    "## Approach | User | User-wise-model"
   ]
  },
  {
   "cell_type": "code",
   "execution_count": 15,
   "metadata": {},
   "outputs": [],
   "source": [
    "user_dfs = helpers.create_user_dfs(df_test, min_assessments=10)"
   ]
  },
  {
   "cell_type": "code",
   "execution_count": 16,
   "metadata": {},
   "outputs": [
    {
     "name": "stdout",
     "output_type": "stream",
     "text": [
      "mean within train for per user: 0.7188126399255966\n",
      "std within train for per user: 0.32616629565038596\n"
     ]
    },
    {
     "data": {
      "image/png": "[encoded data removed]",
      "text/plain": [
       "<Figure size 432x288 with 2 Axes>"
      ]
     },
     "metadata": {
      "needs_background": "light"
     },
     "output_type": "display_data"
    }
   ],
   "source": [
    "y_preds, y_tests, all_scores, all_f1s_final, n_assessments_training= [], [], [], [], []\n",
    "\n",
    "\n",
    "for i, user_df in enumerate(user_dfs):\n",
    "    \n",
    "    # sort by assessment\n",
    "    user_df = user_df.sort_values(by=time_col)\n",
    "    \n",
    "    # create train and test assessments\n",
    "    # 70 % position idx\n",
    "    idx70 = int(\"{:.0f}\".format(user_df.shape[0]*.7))\n",
    "    train_assessments = user_df.iloc[:idx70, :]\n",
    "    test_assessments  = user_df.iloc[idx70:, :]\n",
    "    # preare dataset and model\n",
    "    model, X_train, X_test, y_train, y_test, LE = helpers.prepare_and_instantiate(train_assessments, test_assessments, features, target, bins, LE, fit=False, cut=False)\n",
    "    \n",
    "    cv = ShuffleSplit(n_splits=n_splits, test_size=test_size, random_state=random_state)\n",
    "    scores = cross_val_score(model, X_train, y_train, cv=cv, scoring='f1_weighted')\n",
    "\n",
    "    # fit and calculate\n",
    "    y_pred, f1_final = helpers.fit_and_calc_score(model, X_train, X_test, y_train, y_test, scores)\n",
    "\n",
    "    all_f1s_final.append(f1_final)\n",
    "    all_scores.extend(scores)\n",
    "    y_tests.extend(y_test)\n",
    "    y_preds.extend(y_pred)\n",
    "\n",
    "# calculate final score\n",
    "_, f1_final = helpers.calc_final_score(np.array(all_scores), y_preds, y_tests)\n",
    "\n",
    "# print results\n",
    "print('mean within train for per user:', np.array(all_scores).mean())\n",
    "print('std within train for per user:', np.array(all_scores).std())\n",
    "\n",
    "# visualize confusion matrix\n",
    "helpers.visualize_confusion_matrix(y_tests, y_preds, mapping, f1_final)    \n",
    "\n",
    "# write to results dict\n",
    "approach = 'user_wise'\n",
    "results_dic[approach]['f1'] = f1_final\n",
    "results_dic[approach]['std'] = scores.std()"
   ]
  },
  {
   "cell_type": "markdown",
   "metadata": {
    "tags": []
   },
   "source": [
    "## Evalulate all approaches in one table in terms of performance and robustness"
   ]
  },
  {
   "cell_type": "code",
   "execution_count": 18,
   "metadata": {},
   "outputs": [
    {
     "data": {
      "text/html": [
       "<div>\n",
       "<style scoped>\n",
       "    .dataframe tbody tr th:only-of-type {\n",
       "        vertical-align: middle;\n",
       "    }\n",
       "\n",
       "    .dataframe tbody tr th {\n",
       "        vertical-align: top;\n",
       "    }\n",
       "\n",
       "    .dataframe thead th {\n",
       "        text-align: right;\n",
       "    }\n",
       "</style>\n",
       "<table border=\"1\" class=\"dataframe\">\n",
       "  <thead>\n",
       "    <tr style=\"text-align: right;\">\n",
       "      <th></th>\n",
       "      <th>f1</th>\n",
       "      <th>std</th>\n",
       "      <th>val-mean</th>\n",
       "    </tr>\n",
       "  </thead>\n",
       "  <tbody>\n",
       "    <tr>\n",
       "      <th>bl_assessment_based_last</th>\n",
       "      <td>0.313410</td>\n",
       "      <td>0.012971</td>\n",
       "      <td>NaN</td>\n",
       "    </tr>\n",
       "    <tr>\n",
       "      <th>bl_assessment_based_all</th>\n",
       "      <td>0.316509</td>\n",
       "      <td>0.011074</td>\n",
       "      <td>NaN</td>\n",
       "    </tr>\n",
       "    <tr>\n",
       "      <th>user_wise</th>\n",
       "      <td>0.550553</td>\n",
       "      <td>0.000000</td>\n",
       "      <td>NaN</td>\n",
       "    </tr>\n",
       "    <tr>\n",
       "      <th>user_cut</th>\n",
       "      <td>0.617935</td>\n",
       "      <td>0.037487</td>\n",
       "      <td>0.657959</td>\n",
       "    </tr>\n",
       "    <tr>\n",
       "      <th>average_user</th>\n",
       "      <td>0.622417</td>\n",
       "      <td>0.037857</td>\n",
       "      <td>0.667257</td>\n",
       "    </tr>\n",
       "    <tr>\n",
       "      <th>time_cut</th>\n",
       "      <td>0.630523</td>\n",
       "      <td>0.012311</td>\n",
       "      <td>0.698672</td>\n",
       "    </tr>\n",
       "    <tr>\n",
       "      <th>bl_user_based_last</th>\n",
       "      <td>0.671352</td>\n",
       "      <td>0.008048</td>\n",
       "      <td>NaN</td>\n",
       "    </tr>\n",
       "    <tr>\n",
       "      <th>bl_user_based_all</th>\n",
       "      <td>0.698299</td>\n",
       "      <td>0.005676</td>\n",
       "      <td>NaN</td>\n",
       "    </tr>\n",
       "  </tbody>\n",
       "</table>\n",
       "</div>"
      ],
      "text/plain": [
       "                                f1       std  val-mean\n",
       "bl_assessment_based_last  0.313410  0.012971       NaN\n",
       "bl_assessment_based_all   0.316509  0.011074       NaN\n",
       "user_wise                 0.550553  0.000000       NaN\n",
       "user_cut                  0.617935  0.037487  0.657959\n",
       "average_user              0.622417  0.037857  0.667257\n",
       "time_cut                  0.630523  0.012311  0.698672\n",
       "bl_user_based_last        0.671352  0.008048       NaN\n",
       "bl_user_based_all         0.698299  0.005676       NaN"
      ]
     },
     "execution_count": 18,
     "metadata": {},
     "output_type": "execute_result"
    }
   ],
   "source": [
    "res_df = pd.DataFrame.from_dict(results_dic, orient=\"index\").sort_values(by='f1')\n",
    "res_df.to_csv(f'../../results/tables/approaches/sorted_users/single_dataset/rki_parent.csv', index_label='approach')\n",
    "res_df"
   ]
  },
  {
   "cell_type": "code",
   "execution_count": null,
   "metadata": {
    "collapsed": false,
    "jupyter": {
     "outputs_hidden": false
    }
   },
   "outputs": [],
   "source": []
  }
 ],
 "metadata": {
  "kernelspec": {
   "display_name": "Python 3 (ipykernel)",
   "language": "python",
   "name": "python3"
  },
  "language_info": {
   "codemirror_mode": {
    "name": "ipython",
    "version": 3
   },
   "file_extension": ".py",
   "mimetype": "text/x-python",
   "name": "python",
   "nbconvert_exporter": "python",
   "pygments_lexer": "ipython3",
   "version": "3.9.0"
  }
 },
 "nbformat": 4,
 "nbformat_minor": 4
}
