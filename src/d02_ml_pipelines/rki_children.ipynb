{
 "cells": [
  {
   "cell_type": "markdown",
   "metadata": {
    "tags": []
   },
   "source": [
    "# ML Pipeline for the RKI Heart dataset"
   ]
  },
  {
   "cell_type": "markdown",
   "metadata": {
    "tags": []
   },
   "source": [
    "## Purpose of this notebook\n",
    "- [x]  Prepare dataframe for ML\n",
    "- [x]  Create baseline models\n",
    "    - [x]  User-based\n",
    "        - [x]  last known assessment *of this user*\n",
    "        - [x]  all known assessments *of this user*\n",
    "    - [x]  Assessment-based\n",
    "        - [x]  last known assessment\n",
    "        - [x]  all assessments\n",
    "- [x]  Perform different split approaches to get different model solutions\n",
    "    - [x]  User-Cut\n",
    "    - [x]  Time-Cut\n",
    "    - [x]  User-wise\n",
    "    - [x]  Average-user\n",
    "- [x]  Evalulate all approaches in one table in terms of performance and robustness\n",
    "- [ ] Review approaches"
   ]
  },
  {
   "cell_type": "markdown",
   "metadata": {
    "tags": []
   },
   "source": [
    "## Prepare dataframe for ML"
   ]
  },
  {
   "cell_type": "code",
   "execution_count": 1,
   "metadata": {},
   "outputs": [],
   "source": [
    "# imports\n",
    "import pandas as pd\n",
    "import numpy as np\n",
    "from sklearn.preprocessing import LabelEncoder\n",
    "from sklearn.model_selection import cross_val_score, ShuffleSplit\n",
    "from sklearn.metrics import f1_score, confusion_matrix\n",
    "import seaborn as sns\n",
    "import matplotlib.pyplot as plt\n",
    "from sklearn.model_selection import GroupKFold\n",
    "from sklearn.ensemble import RandomForestClassifier\n",
    "\n",
    "# to import own modules, a workaround - assuming the curent working directory is the folder (your/local/path/UsAs/src/d01_analysis\n",
    "import sys\n",
    "sys.path.insert(0, \"../..\")\n",
    "\n",
    "from src.d00_utils import helpers, process_rki_children_dataset"
   ]
  },
  {
   "cell_type": "code",
   "execution_count": 2,
   "metadata": {},
   "outputs": [],
   "source": [
    "# suppress annoying warnings\n",
    "pd.options.mode.chained_assignment = None"
   ]
  },
  {
   "cell_type": "code",
   "execution_count": 3,
   "metadata": {},
   "outputs": [],
   "source": [
    "# read in df\n",
    "df = pd.read_csv('../../data/d02_processed/rki_children.csv')\n",
    "df.set_index('answer_id', inplace=True)"
   ]
  },
  {
   "cell_type": "code",
   "execution_count": 4,
   "metadata": {
    "collapsed": false,
    "jupyter": {
     "outputs_hidden": false
    }
   },
   "outputs": [
    {
     "data": {
      "text/html": [
       "<div>\n",
       "<style scoped>\n",
       "    .dataframe tbody tr th:only-of-type {\n",
       "        vertical-align: middle;\n",
       "    }\n",
       "\n",
       "    .dataframe tbody tr th {\n",
       "        vertical-align: top;\n",
       "    }\n",
       "\n",
       "    .dataframe thead th {\n",
       "        text-align: right;\n",
       "    }\n",
       "</style>\n",
       "<table border=\"1\" class=\"dataframe\">\n",
       "  <thead>\n",
       "    <tr style=\"text-align: right;\">\n",
       "      <th></th>\n",
       "      <th>questionnaire_id</th>\n",
       "      <th>user_id</th>\n",
       "      <th>created_at</th>\n",
       "      <th>kj_cv_inf</th>\n",
       "      <th>kj_cv_fam</th>\n",
       "      <th>kj_cvad</th>\n",
       "      <th>kj_school4</th>\n",
       "      <th>kj_restr_cur</th>\n",
       "      <th>kj_restr_day</th>\n",
       "      <th>kj_restr_out</th>\n",
       "      <th>...</th>\n",
       "      <th>kj_scas3</th>\n",
       "      <th>kj_scas4</th>\n",
       "      <th>kj_scas5</th>\n",
       "      <th>kj_scas6</th>\n",
       "      <th>kj_scas7</th>\n",
       "      <th>kj_scas8</th>\n",
       "      <th>kj_phq_hope</th>\n",
       "      <th>kj_phq_interest</th>\n",
       "      <th>kj_phq_sleep</th>\n",
       "      <th>kj_phq_hope_t1</th>\n",
       "    </tr>\n",
       "    <tr>\n",
       "      <th>answer_id</th>\n",
       "      <th></th>\n",
       "      <th></th>\n",
       "      <th></th>\n",
       "      <th></th>\n",
       "      <th></th>\n",
       "      <th></th>\n",
       "      <th></th>\n",
       "      <th></th>\n",
       "      <th></th>\n",
       "      <th></th>\n",
       "      <th></th>\n",
       "      <th></th>\n",
       "      <th></th>\n",
       "      <th></th>\n",
       "      <th></th>\n",
       "      <th></th>\n",
       "      <th></th>\n",
       "      <th></th>\n",
       "      <th></th>\n",
       "      <th></th>\n",
       "      <th></th>\n",
       "    </tr>\n",
       "  </thead>\n",
       "  <tbody>\n",
       "    <tr>\n",
       "      <th>408</th>\n",
       "      <td>6</td>\n",
       "      <td>295</td>\n",
       "      <td>2020-08-08 14:38:32</td>\n",
       "      <td>0</td>\n",
       "      <td>1</td>\n",
       "      <td>0</td>\n",
       "      <td>3</td>\n",
       "      <td>0</td>\n",
       "      <td>2</td>\n",
       "      <td>2</td>\n",
       "      <td>...</td>\n",
       "      <td>2</td>\n",
       "      <td>1</td>\n",
       "      <td>1</td>\n",
       "      <td>1</td>\n",
       "      <td>1</td>\n",
       "      <td>1</td>\n",
       "      <td>0</td>\n",
       "      <td>1</td>\n",
       "      <td>0</td>\n",
       "      <td>0.0</td>\n",
       "    </tr>\n",
       "    <tr>\n",
       "      <th>1886</th>\n",
       "      <td>6</td>\n",
       "      <td>932</td>\n",
       "      <td>2020-08-15 07:53:20</td>\n",
       "      <td>0</td>\n",
       "      <td>0</td>\n",
       "      <td>0</td>\n",
       "      <td>1</td>\n",
       "      <td>1</td>\n",
       "      <td>2</td>\n",
       "      <td>5</td>\n",
       "      <td>...</td>\n",
       "      <td>1</td>\n",
       "      <td>1</td>\n",
       "      <td>1</td>\n",
       "      <td>1</td>\n",
       "      <td>1</td>\n",
       "      <td>1</td>\n",
       "      <td>2</td>\n",
       "      <td>0</td>\n",
       "      <td>1</td>\n",
       "      <td>1.0</td>\n",
       "    </tr>\n",
       "    <tr>\n",
       "      <th>1925</th>\n",
       "      <td>6</td>\n",
       "      <td>1240</td>\n",
       "      <td>2020-08-15 13:08:08</td>\n",
       "      <td>0</td>\n",
       "      <td>0</td>\n",
       "      <td>0</td>\n",
       "      <td>1</td>\n",
       "      <td>0</td>\n",
       "      <td>4</td>\n",
       "      <td>4</td>\n",
       "      <td>...</td>\n",
       "      <td>2</td>\n",
       "      <td>1</td>\n",
       "      <td>2</td>\n",
       "      <td>1</td>\n",
       "      <td>1</td>\n",
       "      <td>1</td>\n",
       "      <td>0</td>\n",
       "      <td>0</td>\n",
       "      <td>3</td>\n",
       "      <td>1.0</td>\n",
       "    </tr>\n",
       "    <tr>\n",
       "      <th>1926</th>\n",
       "      <td>6</td>\n",
       "      <td>1580</td>\n",
       "      <td>2020-08-15 13:09:51</td>\n",
       "      <td>0</td>\n",
       "      <td>0</td>\n",
       "      <td>0</td>\n",
       "      <td>1</td>\n",
       "      <td>0</td>\n",
       "      <td>2</td>\n",
       "      <td>4</td>\n",
       "      <td>...</td>\n",
       "      <td>1</td>\n",
       "      <td>1</td>\n",
       "      <td>1</td>\n",
       "      <td>1</td>\n",
       "      <td>1</td>\n",
       "      <td>1</td>\n",
       "      <td>1</td>\n",
       "      <td>0</td>\n",
       "      <td>2</td>\n",
       "      <td>1.0</td>\n",
       "    </tr>\n",
       "    <tr>\n",
       "      <th>1927</th>\n",
       "      <td>6</td>\n",
       "      <td>374</td>\n",
       "      <td>2020-08-15 13:41:09</td>\n",
       "      <td>0</td>\n",
       "      <td>0</td>\n",
       "      <td>0</td>\n",
       "      <td>1</td>\n",
       "      <td>0</td>\n",
       "      <td>5</td>\n",
       "      <td>2</td>\n",
       "      <td>...</td>\n",
       "      <td>1</td>\n",
       "      <td>1</td>\n",
       "      <td>3</td>\n",
       "      <td>2</td>\n",
       "      <td>2</td>\n",
       "      <td>1</td>\n",
       "      <td>2</td>\n",
       "      <td>1</td>\n",
       "      <td>1</td>\n",
       "      <td>1.0</td>\n",
       "    </tr>\n",
       "  </tbody>\n",
       "</table>\n",
       "<p>5 rows × 40 columns</p>\n",
       "</div>"
      ],
      "text/plain": [
       "           questionnaire_id  user_id           created_at  kj_cv_inf  \\\n",
       "answer_id                                                              \n",
       "408                       6      295  2020-08-08 14:38:32          0   \n",
       "1886                      6      932  2020-08-15 07:53:20          0   \n",
       "1925                      6     1240  2020-08-15 13:08:08          0   \n",
       "1926                      6     1580  2020-08-15 13:09:51          0   \n",
       "1927                      6      374  2020-08-15 13:41:09          0   \n",
       "\n",
       "           kj_cv_fam  kj_cvad  kj_school4  kj_restr_cur  kj_restr_day  \\\n",
       "answer_id                                                               \n",
       "408                1        0           3             0             2   \n",
       "1886               0        0           1             1             2   \n",
       "1925               0        0           1             0             4   \n",
       "1926               0        0           1             0             2   \n",
       "1927               0        0           1             0             5   \n",
       "\n",
       "           kj_restr_out  ...  kj_scas3  kj_scas4  kj_scas5  kj_scas6  \\\n",
       "answer_id                ...                                           \n",
       "408                   2  ...         2         1         1         1   \n",
       "1886                  5  ...         1         1         1         1   \n",
       "1925                  4  ...         2         1         2         1   \n",
       "1926                  4  ...         1         1         1         1   \n",
       "1927                  2  ...         1         1         3         2   \n",
       "\n",
       "           kj_scas7  kj_scas8  kj_phq_hope  kj_phq_interest  kj_phq_sleep  \\\n",
       "answer_id                                                                   \n",
       "408               1         1            0                1             0   \n",
       "1886              1         1            2                0             1   \n",
       "1925              1         1            0                0             3   \n",
       "1926              1         1            1                0             2   \n",
       "1927              2         1            2                1             1   \n",
       "\n",
       "           kj_phq_hope_t1  \n",
       "answer_id                  \n",
       "408                   0.0  \n",
       "1886                  1.0  \n",
       "1925                  1.0  \n",
       "1926                  1.0  \n",
       "1927                  1.0  \n",
       "\n",
       "[5 rows x 40 columns]"
      ]
     },
     "execution_count": 4,
     "metadata": {},
     "output_type": "execute_result"
    }
   ],
   "source": [
    "df.head()"
   ]
  },
  {
   "cell_type": "markdown",
   "metadata": {},
   "source": [
    "Define test data to evaluate all approaches on the same testset.\n",
    "\n",
    "20 % of the users shall be taken for test, 80 % for trying out different approaches."
   ]
  },
  {
   "cell_type": "code",
   "execution_count": 5,
   "metadata": {},
   "outputs": [
    {
     "data": {
      "text/html": [
       "<div>\n",
       "<style scoped>\n",
       "    .dataframe tbody tr th:only-of-type {\n",
       "        vertical-align: middle;\n",
       "    }\n",
       "\n",
       "    .dataframe tbody tr th {\n",
       "        vertical-align: top;\n",
       "    }\n",
       "\n",
       "    .dataframe thead th {\n",
       "        text-align: right;\n",
       "    }\n",
       "</style>\n",
       "<table border=\"1\" class=\"dataframe\">\n",
       "  <thead>\n",
       "    <tr style=\"text-align: right;\">\n",
       "      <th></th>\n",
       "      <th>questionnaire_id</th>\n",
       "      <th>user_id</th>\n",
       "      <th>kj_cv_inf</th>\n",
       "      <th>kj_cv_fam</th>\n",
       "      <th>kj_cvad</th>\n",
       "      <th>kj_school4</th>\n",
       "      <th>kj_restr_cur</th>\n",
       "      <th>kj_restr_day</th>\n",
       "      <th>kj_restr_out</th>\n",
       "      <th>kj_sport</th>\n",
       "      <th>...</th>\n",
       "      <th>kj_scas3</th>\n",
       "      <th>kj_scas4</th>\n",
       "      <th>kj_scas5</th>\n",
       "      <th>kj_scas6</th>\n",
       "      <th>kj_scas7</th>\n",
       "      <th>kj_scas8</th>\n",
       "      <th>kj_phq_hope</th>\n",
       "      <th>kj_phq_interest</th>\n",
       "      <th>kj_phq_sleep</th>\n",
       "      <th>kj_phq_hope_t1</th>\n",
       "    </tr>\n",
       "  </thead>\n",
       "  <tbody>\n",
       "    <tr>\n",
       "      <th>count</th>\n",
       "      <td>519.000000</td>\n",
       "      <td>519.000000</td>\n",
       "      <td>519.000000</td>\n",
       "      <td>519.000000</td>\n",
       "      <td>519.000000</td>\n",
       "      <td>519.000000</td>\n",
       "      <td>519.000000</td>\n",
       "      <td>519.000000</td>\n",
       "      <td>519.000000</td>\n",
       "      <td>519.000000</td>\n",
       "      <td>...</td>\n",
       "      <td>519.000000</td>\n",
       "      <td>519.000000</td>\n",
       "      <td>519.000000</td>\n",
       "      <td>519.000000</td>\n",
       "      <td>519.000000</td>\n",
       "      <td>519.000000</td>\n",
       "      <td>519.000000</td>\n",
       "      <td>519.000000</td>\n",
       "      <td>519.000000</td>\n",
       "      <td>519.000000</td>\n",
       "    </tr>\n",
       "    <tr>\n",
       "      <th>mean</th>\n",
       "      <td>12.073218</td>\n",
       "      <td>4393.495183</td>\n",
       "      <td>0.165703</td>\n",
       "      <td>0.312139</td>\n",
       "      <td>0.082852</td>\n",
       "      <td>1.620424</td>\n",
       "      <td>0.809249</td>\n",
       "      <td>2.439306</td>\n",
       "      <td>3.745665</td>\n",
       "      <td>2.595376</td>\n",
       "      <td>...</td>\n",
       "      <td>1.315992</td>\n",
       "      <td>1.202312</td>\n",
       "      <td>1.504817</td>\n",
       "      <td>1.736031</td>\n",
       "      <td>1.520231</td>\n",
       "      <td>1.289017</td>\n",
       "      <td>1.094412</td>\n",
       "      <td>1.115607</td>\n",
       "      <td>1.169557</td>\n",
       "      <td>1.096339</td>\n",
       "    </tr>\n",
       "    <tr>\n",
       "      <th>std</th>\n",
       "      <td>3.424085</td>\n",
       "      <td>2637.544395</td>\n",
       "      <td>0.544806</td>\n",
       "      <td>0.463813</td>\n",
       "      <td>0.275924</td>\n",
       "      <td>0.773878</td>\n",
       "      <td>0.686488</td>\n",
       "      <td>1.128636</td>\n",
       "      <td>1.272237</td>\n",
       "      <td>1.283267</td>\n",
       "      <td>...</td>\n",
       "      <td>0.680928</td>\n",
       "      <td>0.534084</td>\n",
       "      <td>0.828706</td>\n",
       "      <td>0.941161</td>\n",
       "      <td>0.830799</td>\n",
       "      <td>0.590542</td>\n",
       "      <td>1.034514</td>\n",
       "      <td>0.977610</td>\n",
       "      <td>1.112477</td>\n",
       "      <td>1.035269</td>\n",
       "    </tr>\n",
       "    <tr>\n",
       "      <th>min</th>\n",
       "      <td>6.000000</td>\n",
       "      <td>295.000000</td>\n",
       "      <td>0.000000</td>\n",
       "      <td>0.000000</td>\n",
       "      <td>0.000000</td>\n",
       "      <td>1.000000</td>\n",
       "      <td>0.000000</td>\n",
       "      <td>1.000000</td>\n",
       "      <td>1.000000</td>\n",
       "      <td>1.000000</td>\n",
       "      <td>...</td>\n",
       "      <td>1.000000</td>\n",
       "      <td>1.000000</td>\n",
       "      <td>1.000000</td>\n",
       "      <td>1.000000</td>\n",
       "      <td>1.000000</td>\n",
       "      <td>1.000000</td>\n",
       "      <td>0.000000</td>\n",
       "      <td>0.000000</td>\n",
       "      <td>0.000000</td>\n",
       "      <td>0.000000</td>\n",
       "    </tr>\n",
       "    <tr>\n",
       "      <th>25%</th>\n",
       "      <td>14.000000</td>\n",
       "      <td>3301.000000</td>\n",
       "      <td>0.000000</td>\n",
       "      <td>0.000000</td>\n",
       "      <td>0.000000</td>\n",
       "      <td>1.000000</td>\n",
       "      <td>0.000000</td>\n",
       "      <td>2.000000</td>\n",
       "      <td>3.000000</td>\n",
       "      <td>1.000000</td>\n",
       "      <td>...</td>\n",
       "      <td>1.000000</td>\n",
       "      <td>1.000000</td>\n",
       "      <td>1.000000</td>\n",
       "      <td>1.000000</td>\n",
       "      <td>1.000000</td>\n",
       "      <td>1.000000</td>\n",
       "      <td>0.000000</td>\n",
       "      <td>0.000000</td>\n",
       "      <td>0.000000</td>\n",
       "      <td>0.000000</td>\n",
       "    </tr>\n",
       "    <tr>\n",
       "      <th>50%</th>\n",
       "      <td>14.000000</td>\n",
       "      <td>4286.000000</td>\n",
       "      <td>0.000000</td>\n",
       "      <td>0.000000</td>\n",
       "      <td>0.000000</td>\n",
       "      <td>1.000000</td>\n",
       "      <td>1.000000</td>\n",
       "      <td>2.000000</td>\n",
       "      <td>4.000000</td>\n",
       "      <td>3.000000</td>\n",
       "      <td>...</td>\n",
       "      <td>1.000000</td>\n",
       "      <td>1.000000</td>\n",
       "      <td>1.000000</td>\n",
       "      <td>1.000000</td>\n",
       "      <td>1.000000</td>\n",
       "      <td>1.000000</td>\n",
       "      <td>1.000000</td>\n",
       "      <td>1.000000</td>\n",
       "      <td>1.000000</td>\n",
       "      <td>1.000000</td>\n",
       "    </tr>\n",
       "    <tr>\n",
       "      <th>75%</th>\n",
       "      <td>14.000000</td>\n",
       "      <td>6285.000000</td>\n",
       "      <td>0.000000</td>\n",
       "      <td>1.000000</td>\n",
       "      <td>0.000000</td>\n",
       "      <td>2.000000</td>\n",
       "      <td>1.000000</td>\n",
       "      <td>3.000000</td>\n",
       "      <td>5.000000</td>\n",
       "      <td>3.000000</td>\n",
       "      <td>...</td>\n",
       "      <td>1.000000</td>\n",
       "      <td>1.000000</td>\n",
       "      <td>2.000000</td>\n",
       "      <td>2.000000</td>\n",
       "      <td>2.000000</td>\n",
       "      <td>1.000000</td>\n",
       "      <td>2.000000</td>\n",
       "      <td>2.000000</td>\n",
       "      <td>2.000000</td>\n",
       "      <td>2.000000</td>\n",
       "    </tr>\n",
       "    <tr>\n",
       "      <th>max</th>\n",
       "      <td>14.000000</td>\n",
       "      <td>11201.000000</td>\n",
       "      <td>2.000000</td>\n",
       "      <td>1.000000</td>\n",
       "      <td>1.000000</td>\n",
       "      <td>3.000000</td>\n",
       "      <td>2.000000</td>\n",
       "      <td>5.000000</td>\n",
       "      <td>5.000000</td>\n",
       "      <td>5.000000</td>\n",
       "      <td>...</td>\n",
       "      <td>4.000000</td>\n",
       "      <td>4.000000</td>\n",
       "      <td>4.000000</td>\n",
       "      <td>4.000000</td>\n",
       "      <td>4.000000</td>\n",
       "      <td>4.000000</td>\n",
       "      <td>3.000000</td>\n",
       "      <td>3.000000</td>\n",
       "      <td>3.000000</td>\n",
       "      <td>3.000000</td>\n",
       "    </tr>\n",
       "  </tbody>\n",
       "</table>\n",
       "<p>8 rows × 39 columns</p>\n",
       "</div>"
      ],
      "text/plain": [
       "       questionnaire_id       user_id   kj_cv_inf   kj_cv_fam     kj_cvad  \\\n",
       "count        519.000000    519.000000  519.000000  519.000000  519.000000   \n",
       "mean          12.073218   4393.495183    0.165703    0.312139    0.082852   \n",
       "std            3.424085   2637.544395    0.544806    0.463813    0.275924   \n",
       "min            6.000000    295.000000    0.000000    0.000000    0.000000   \n",
       "25%           14.000000   3301.000000    0.000000    0.000000    0.000000   \n",
       "50%           14.000000   4286.000000    0.000000    0.000000    0.000000   \n",
       "75%           14.000000   6285.000000    0.000000    1.000000    0.000000   \n",
       "max           14.000000  11201.000000    2.000000    1.000000    1.000000   \n",
       "\n",
       "       kj_school4  kj_restr_cur  kj_restr_day  kj_restr_out    kj_sport  ...  \\\n",
       "count  519.000000    519.000000    519.000000    519.000000  519.000000  ...   \n",
       "mean     1.620424      0.809249      2.439306      3.745665    2.595376  ...   \n",
       "std      0.773878      0.686488      1.128636      1.272237    1.283267  ...   \n",
       "min      1.000000      0.000000      1.000000      1.000000    1.000000  ...   \n",
       "25%      1.000000      0.000000      2.000000      3.000000    1.000000  ...   \n",
       "50%      1.000000      1.000000      2.000000      4.000000    3.000000  ...   \n",
       "75%      2.000000      1.000000      3.000000      5.000000    3.000000  ...   \n",
       "max      3.000000      2.000000      5.000000      5.000000    5.000000  ...   \n",
       "\n",
       "         kj_scas3    kj_scas4    kj_scas5    kj_scas6    kj_scas7    kj_scas8  \\\n",
       "count  519.000000  519.000000  519.000000  519.000000  519.000000  519.000000   \n",
       "mean     1.315992    1.202312    1.504817    1.736031    1.520231    1.289017   \n",
       "std      0.680928    0.534084    0.828706    0.941161    0.830799    0.590542   \n",
       "min      1.000000    1.000000    1.000000    1.000000    1.000000    1.000000   \n",
       "25%      1.000000    1.000000    1.000000    1.000000    1.000000    1.000000   \n",
       "50%      1.000000    1.000000    1.000000    1.000000    1.000000    1.000000   \n",
       "75%      1.000000    1.000000    2.000000    2.000000    2.000000    1.000000   \n",
       "max      4.000000    4.000000    4.000000    4.000000    4.000000    4.000000   \n",
       "\n",
       "       kj_phq_hope  kj_phq_interest  kj_phq_sleep  kj_phq_hope_t1  \n",
       "count   519.000000       519.000000    519.000000      519.000000  \n",
       "mean      1.094412         1.115607      1.169557        1.096339  \n",
       "std       1.034514         0.977610      1.112477        1.035269  \n",
       "min       0.000000         0.000000      0.000000        0.000000  \n",
       "25%       0.000000         0.000000      0.000000        0.000000  \n",
       "50%       1.000000         1.000000      1.000000        1.000000  \n",
       "75%       2.000000         2.000000      2.000000        2.000000  \n",
       "max       3.000000         3.000000      3.000000        3.000000  \n",
       "\n",
       "[8 rows x 39 columns]"
      ]
     },
     "execution_count": 5,
     "metadata": {},
     "output_type": "execute_result"
    }
   ],
   "source": [
    "df.describe()"
   ]
  },
  {
   "cell_type": "code",
   "execution_count": 6,
   "metadata": {},
   "outputs": [],
   "source": [
    "# create a random_state\n",
    "random_state = 1994\n",
    "seed = 2023"
   ]
  },
  {
   "cell_type": "code",
   "execution_count": 7,
   "metadata": {},
   "outputs": [],
   "source": [
    "# first 80 % of users into train, second 20 % into test\n",
    "df_train, df_test = helpers.create_train_and_test_set(df, sort_users=False, seed=seed)"
   ]
  },
  {
   "cell_type": "code",
   "execution_count": 8,
   "metadata": {},
   "outputs": [],
   "source": [
    "# define features and target\n",
    "features = process_rki_children_dataset.get_features()\n",
    "target = 'kj_phq_hope'\n",
    "time_col = 'created_at'\n",
    "user_col = 'user_id'\n",
    "\n",
    "# set up for classification - target is already categorical, no bins or LabelEncoding required\n",
    "bins = None\n",
    "LE = None\n",
    "\n",
    "# preare dataset and model\n",
    "model, X_train, X_test, y_train, y_test, _ = helpers.prepare_and_instantiate(df_train, df_test, features, target, bins, LE, fit=False, cut=False)\n",
    "\n",
    "# Create mapping\n",
    "mapping = {0: 'Not at all',\n",
    "           1: 'Several days',\n",
    "           2: 'More than half the days',\n",
    "           3: 'Nearly every day'}\n",
    "\n",
    "# cross validation setup\n",
    "n_splits = 5\n",
    "test_size = 1/n_splits\n",
    "\n",
    "# preprare results dic\n",
    "approaches = ['bl_user_based_last', 'bl_user_based_all', 'bl_assessment_based_last', 'bl_assessment_based_all',\n",
    "             'answer_cut', 'time_cut', 'user_wise', 'average_user']\n",
    "results_dic = {approach: {'f1':None, 'std':None} for approach in approaches}\n",
    "\n"
   ]
  },
  {
   "cell_type": "markdown",
   "metadata": {
    "tags": []
   },
   "source": [
    "## Create baseline models"
   ]
  },
  {
   "attachments": {
    "d5f4b42a-67ef-4eab-bbc3-e25e7076b815.png": {
     "image/png": "[encoded data removed]"
    }
   },
   "cell_type": "markdown",
   "metadata": {},
   "source": [
    "![image.png](attachment:d5f4b42a-67ef-4eab-bbc3-e25e7076b815.png)"
   ]
  },
  {
   "cell_type": "code",
   "execution_count": 9,
   "metadata": {},
   "outputs": [
    {
     "name": "stdout",
     "output_type": "stream",
     "text": [
      "Approach:\t all\n",
      "Performance within TRAIN\n",
      "Assessment approach\n",
      "f1_weighted mean \t 0.2474619770532418\n",
      "standarddeviation \t 0.02704841862677439\n",
      "#################################################\n",
      "User approach\n",
      "f1_weighted mean \t 0.5914900201453152\n",
      "standarddeviation \t 0.02349773262871526\n",
      "Performance within TEST\n",
      "Final score assessment approach:\t 0.47678191313559243\n"
     ]
    },
    {
     "data": {
      "image/png": "[encoded data removed]",
      "text/plain": [
       "<Figure size 432x288 with 2 Axes>"
      ]
     },
     "metadata": {
      "needs_background": "light"
     },
     "output_type": "display_data"
    },
    {
     "name": "stdout",
     "output_type": "stream",
     "text": [
      "Final score user approach:\t 0.6693435650346037\n"
     ]
    },
    {
     "data": {
      "image/png": "[encoded data removed]",
      "text/plain": [
       "<Figure size 432x288 with 2 Axes>"
      ]
     },
     "metadata": {
      "needs_background": "light"
     },
     "output_type": "display_data"
    },
    {
     "name": "stdout",
     "output_type": "stream",
     "text": [
      "Approach:\t last\n",
      "Performance within TRAIN\n",
      "Assessment approach\n",
      "f1_weighted mean \t 0.28372264402996\n",
      "standarddeviation \t 0.03153749114858669\n",
      "#################################################\n",
      "User approach\n",
      "f1_weighted mean \t 0.4788717914062647\n",
      "standarddeviation \t 0.05246818794479674\n",
      "Performance within TEST\n",
      "Final score assessment approach:\t 0.44067290801021736\n"
     ]
    },
    {
     "data": {
      "image/png": "[encoded data removed]",
      "text/plain": [
       "<Figure size 432x288 with 2 Axes>"
      ]
     },
     "metadata": {
      "needs_background": "light"
     },
     "output_type": "display_data"
    },
    {
     "name": "stdout",
     "output_type": "stream",
     "text": [
      "Final score user approach:\t 0.6179273299956851\n"
     ]
    },
    {
     "data": {
      "image/png": "[encoded data removed]",
      "text/plain": [
       "<Figure size 432x288 with 2 Axes>"
      ]
     },
     "metadata": {
      "needs_background": "light"
     },
     "output_type": "display_data"
    }
   ],
   "source": [
    "# instantiate model\n",
    "model = helpers.baseline_model()\n",
    "\n",
    "# define constants\n",
    "for approach in ['all', 'last']:\n",
    "    print('Approach:\\t', approach)\n",
    "\n",
    "    # train model in cross validation\n",
    "    cv = ShuffleSplit(n_splits=n_splits, test_size=test_size, random_state=random_state)\n",
    "    scores_a = []\n",
    "    scores_u = []\n",
    "    for _, val_indices in cv.split(df_train):\n",
    "\n",
    "        # divide all train data into folds\n",
    "        df_train_val_fold = df_train.iloc[val_indices, :]\n",
    "\n",
    "        # get baseline prediction\n",
    "        y_pred_a = model.get_baseline_assessment_prediction(data=df_train_val_fold, target_name=target, \n",
    "                                                            approach=approach, time_col = time_col, mode=True)\n",
    "        y_pred_u = model.get_baseline_user_prediction(data=df_train_val_fold, target_name=target, \n",
    "                                                      approach=approach, time_col = time_col, mode=True)\n",
    "        y_true = df_train_val_fold[target]\n",
    "\n",
    "        assert y_pred_a.shape[0] == y_true.shape[0]\n",
    "\n",
    "        # calculate score\n",
    "        f1_score_test_a = f1_score(y_true, y_pred_a, average='weighted')\n",
    "        f1_score_test_u = f1_score(y_true, y_pred_u, average='weighted')\n",
    "        scores_a.append(f1_score_test_a)\n",
    "        scores_u.append(f1_score_test_u)\n",
    "\n",
    "    # validate model\n",
    "    print('Performance within TRAIN')\n",
    "    print('Assessment approach')\n",
    "    print('f1_weighted mean \\t', np.array(scores_a).mean())\n",
    "    print('standarddeviation \\t', np.array(scores_a).std())\n",
    "    print('#################################################')\n",
    "    print('User approach')\n",
    "    print('f1_weighted mean \\t', np.array(scores_u).mean())\n",
    "    print('standarddeviation \\t', np.array(scores_u).std())\n",
    "    # evaluate on test set\n",
    "\n",
    "    # assessment------------------------------------------------------------------------------\n",
    "    y_pred_a = model.get_baseline_assessment_prediction(data=df_test, target_name=target, \n",
    "                                                        approach=approach, mode=True).values\n",
    "\n",
    "    f1_score_test_a = f1_score(y_test, y_pred_a, average='weighted')\n",
    "    std = np.array(scores_a).std()\n",
    "    final_score_a = f1_score_test_a - 0.5 * std\n",
    "\n",
    "    print('Performance within TEST')\n",
    "    print('Final score assessment approach:\\t', final_score_a)\n",
    "    \n",
    "    results_dic[f'bl_assessment_based_{approach}']['f1'] = final_score_a\n",
    "    results_dic[f'bl_assessment_based_{approach}']['std'] = std\n",
    "\n",
    "\n",
    "\n",
    "    # visualize confusion matrix\n",
    "    # assessment\n",
    "    helpers.visualize_confusion_matrix(y_test, y_pred_a, mapping, final_score_a)\n",
    "\n",
    "    # user------------------------------------------------------------------------------------\n",
    "\n",
    "    y_pred_u = model.get_baseline_user_prediction(data=df_test, target_name=target, approach=approach, mode=True).values\n",
    "    f1_score_test_u = f1_score(y_test, y_pred_u, average='weighted')\n",
    "    std = np.array(scores_u).std()\n",
    "    final_score_u = f1_score_test_u - 0.5 * std\n",
    "    \n",
    "    results_dic[f'bl_user_based_{approach}']['f1'] = final_score_u\n",
    "    results_dic[f'bl_user_based_{approach}']['std'] = std\n",
    "\n",
    "    print('Final score user approach:\\t', final_score_u)\n",
    "\n",
    "\n",
    "\n",
    "    helpers.visualize_confusion_matrix(y_test, y_pred_u, mapping, final_score_u)"
   ]
  },
  {
   "cell_type": "markdown",
   "metadata": {
    "tags": []
   },
   "source": [
    "#### Assessment approach\n",
    " - `last`: #TODO interpret\n",
    " - `all`:  #TODO interpret\n",
    " \n",
    "#### User approach\n",
    " - `last`: #TODO interpret\n",
    " - `all`:  #TODO interpret"
   ]
  },
  {
   "cell_type": "markdown",
   "metadata": {
    "tags": []
   },
   "source": [
    "## Perform different split approaches to get different model solutions"
   ]
  },
  {
   "cell_type": "markdown",
   "metadata": {},
   "source": [
    "### Approach | Assessment | User-Cut"
   ]
  },
  {
   "cell_type": "code",
   "execution_count": 10,
   "metadata": {},
   "outputs": [
    {
     "name": "stdout",
     "output_type": "stream",
     "text": [
      "Performance within train\n",
      "f1_weighted mean  0.9905938363682625\n",
      "standarddeviation  0.008802415130842024\n"
     ]
    },
    {
     "data": {
      "image/png": "[encoded data removed]",
      "text/plain": [
       "<Figure size 432x288 with 2 Axes>"
      ]
     },
     "metadata": {
      "needs_background": "light"
     },
     "output_type": "display_data"
    }
   ],
   "source": [
    "# instantiate model\n",
    "model = RandomForestClassifier(random_state=random_state)\n",
    "\n",
    "# train model\n",
    "cv = ShuffleSplit(n_splits=n_splits, test_size=test_size, random_state=random_state)\n",
    "scores = cross_val_score(model, X_train, y_train, cv=cv, scoring='f1_weighted')\n",
    "\n",
    "# validate model\n",
    "print('Performance within train')\n",
    "print('f1_weighted mean ', scores.mean())\n",
    "print('standarddeviation ', scores.std())\n",
    "\n",
    "y_pred, f1_final = helpers.fit_and_calc_score(model, X_train, X_test, y_train, y_test, scores)\n",
    "\n",
    "# visualize confusion matrix\n",
    "helpers.visualize_confusion_matrix(y_test, y_pred, mapping, f1_final)\n",
    "\n",
    "# write to results dict\n",
    "approach = 'answer_cut'\n",
    "results_dic[approach]['f1'] = f1_final\n",
    "results_dic[approach]['std'] = scores.std()"
   ]
  },
  {
   "cell_type": "markdown",
   "metadata": {},
   "source": [
    "With the standard random shuffle and ignoring user aspects, the model is better than random guessing. However, without having the information that user groups exist, the score is well below 60 %."
   ]
  },
  {
   "cell_type": "markdown",
   "metadata": {},
   "source": [
    "### Approach | Assessment | Time-cut"
   ]
  },
  {
   "cell_type": "code",
   "execution_count": 11,
   "metadata": {},
   "outputs": [
    {
     "name": "stdout",
     "output_type": "stream",
     "text": [
      "Performance within train\n",
      "f1_weighted mean  0.995\n",
      "standarddeviation  0.01\n"
     ]
    },
    {
     "data": {
      "image/png": "[encoded data removed]",
      "text/plain": [
       "<Figure size 432x288 with 2 Axes>"
      ]
     },
     "metadata": {
      "needs_background": "light"
     },
     "output_type": "display_data"
    }
   ],
   "source": [
    "# 80 % of first data by time into train, 20 % into test\n",
    "row80 = int(df.shape[0]*0.8)\n",
    "df_train = df.sort_values(by=time_col).iloc[:row80, :]\n",
    "df_test = df.sort_values(by=time_col).iloc[row80:, :]\n",
    "\n",
    "model, X_train, X_test, y_train, y_test, LE = helpers.prepare_and_instantiate(df_train, df_test, features, target, bins, LE, fit=False, cut=False)\n",
    "\n",
    "# create a group column. Each group belongs to a dategroup. The first 20% of the train data belong to date_group_1, the next 20% belong to date_group_2, and so on.\n",
    "groups = np.sort(np.random.randint(low=1, high=5+1, size = df_train.shape[0]))\n",
    "\n",
    "# train model\n",
    "cv = ShuffleSplit(n_splits=n_splits, test_size=test_size, random_state=random_state)\n",
    "scores = cross_val_score(model, X_train, y_train, cv=cv, scoring='f1_weighted', groups=groups)\n",
    "\n",
    "# validate model\n",
    "print('Performance within train')\n",
    "print('f1_weighted mean ', round(scores.mean(), 3))\n",
    "print('standarddeviation ', round(scores.std(), 3))\n",
    "\n",
    "y_pred, f1_final = helpers.fit_and_calc_score(model, X_train, X_test, y_train, y_test, scores)\n",
    "\n",
    "# visualize confusion matrix\n",
    "helpers.visualize_confusion_matrix(y_test, y_pred, mapping, f1_final)\n",
    "\n",
    "# write to results dict\n",
    "approach = 'time_cut'\n",
    "results_dic[approach]['f1'] = f1_final\n",
    "results_dic[approach]['std'] = scores.std()"
   ]
  },
  {
   "cell_type": "markdown",
   "metadata": {},
   "source": [
    "Making a precise differentiation with evenly sized time chunks, the model improves to the random approach. This might be due to the fact that some users joined the study later, so there was an indirect grouped kfold validation. The score improves from the random approach by 3%-points."
   ]
  },
  {
   "cell_type": "markdown",
   "metadata": {},
   "source": [
    "### Approach | User | Average-user"
   ]
  },
  {
   "cell_type": "markdown",
   "metadata": {},
   "source": [
    "For each assesment, check the user id and calculate the mean of all answers known by this user so far. These mean replace the reported assessments."
   ]
  },
  {
   "cell_type": "code",
   "execution_count": 12,
   "metadata": {},
   "outputs": [
    {
     "name": "stdout",
     "output_type": "stream",
     "text": [
      "Performance within train\n",
      "f1_weighted mean  0.9778625256538349\n",
      "standarddeviation  0.010054919256014977\n"
     ]
    },
    {
     "data": {
      "image/png": "[encoded data removed]",
      "text/plain": [
       "<Figure size 432x288 with 2 Axes>"
      ]
     },
     "metadata": {
      "needs_background": "light"
     },
     "output_type": "display_data"
    }
   ],
   "source": [
    "# get original train and test users\n",
    "df_train, df_test = helpers.create_train_and_test_set(df, sort_users=False, seed=seed)\n",
    "\n",
    "# create a group column. Each group belongs to a dategroup. The first 20% of the train data belong to date_group_1, the next 20% belong to date_group_2, and so on.\n",
    "groups = np.sort(np.random.randint(low=1, high=5+1, size = df_train.shape[0]))\n",
    "\n",
    "# calculate grouped cumulative means for all assessments of all users\n",
    "df_train_avg_user = helpers.calc_cum_mean(df_train, features, user_id='user_id', categorical=True)\n",
    "df_test_avg_user = helpers.calc_cum_mean(df_test, features, user_id='user_id', categorical=True)\n",
    "\n",
    "# prepare data and model\n",
    "model, X_train, X_test, y_train, y_test, LE = helpers.prepare_and_instantiate(df_train_avg_user, df_test_avg_user, features, target, bins, LE, fit=False, cut=False)\n",
    "\n",
    "# train model\n",
    "cv = ShuffleSplit(n_splits=n_splits, test_size=test_size, random_state=random_state)\n",
    "scores = cross_val_score(model, X_train, y_train, cv=cv, scoring='f1_weighted', groups=groups)\n",
    "\n",
    "# validate model\n",
    "print('Performance within train')\n",
    "print('f1_weighted mean ', scores.mean())\n",
    "print('standarddeviation ', scores.std())\n",
    "\n",
    "# fit and calculate\n",
    "y_pred, f1_final = helpers.fit_and_calc_score(model, X_train, X_test, y_train, y_test, scores)\n",
    "\n",
    "# visualize confusion matrix\n",
    "helpers.visualize_confusion_matrix(y_test, y_pred, mapping, f1_final)\n",
    "\n",
    "# write to results dict\n",
    "approach = 'average_user'\n",
    "results_dic[approach]['f1'] = f1_final\n",
    "results_dic[approach]['std'] = scores.std()"
   ]
  },
  {
   "cell_type": "markdown",
   "metadata": {},
   "source": [
    "# TODO Interpet"
   ]
  },
  {
   "cell_type": "markdown",
   "metadata": {},
   "source": [
    "## Approach | User | User-wise-model"
   ]
  },
  {
   "cell_type": "markdown",
   "metadata": {},
   "source": [
    "This approach doesn't work due to the unsufficient amount of dataa. We have only one user with more than 10 filled out questionnaires."
   ]
  },
  {
   "cell_type": "markdown",
   "metadata": {
    "tags": []
   },
   "source": [
    "## Evalulate all approaches in one table in terms of performance and robustness"
   ]
  },
  {
   "cell_type": "code",
   "execution_count": 13,
   "metadata": {},
   "outputs": [
    {
     "data": {
      "text/html": [
       "<div>\n",
       "<style scoped>\n",
       "    .dataframe tbody tr th:only-of-type {\n",
       "        vertical-align: middle;\n",
       "    }\n",
       "\n",
       "    .dataframe tbody tr th {\n",
       "        vertical-align: top;\n",
       "    }\n",
       "\n",
       "    .dataframe thead th {\n",
       "        text-align: right;\n",
       "    }\n",
       "</style>\n",
       "<table border=\"1\" class=\"dataframe\">\n",
       "  <thead>\n",
       "    <tr style=\"text-align: right;\">\n",
       "      <th></th>\n",
       "      <th>f1</th>\n",
       "      <th>std</th>\n",
       "    </tr>\n",
       "  </thead>\n",
       "  <tbody>\n",
       "    <tr>\n",
       "      <th>bl_assessment_based_last</th>\n",
       "      <td>0.440673</td>\n",
       "      <td>0.031537</td>\n",
       "    </tr>\n",
       "    <tr>\n",
       "      <th>bl_assessment_based_all</th>\n",
       "      <td>0.476782</td>\n",
       "      <td>0.027048</td>\n",
       "    </tr>\n",
       "    <tr>\n",
       "      <th>bl_user_based_last</th>\n",
       "      <td>0.617927</td>\n",
       "      <td>0.052468</td>\n",
       "    </tr>\n",
       "    <tr>\n",
       "      <th>bl_user_based_all</th>\n",
       "      <td>0.669344</td>\n",
       "      <td>0.023498</td>\n",
       "    </tr>\n",
       "    <tr>\n",
       "      <th>time_cut</th>\n",
       "      <td>0.994933</td>\n",
       "      <td>0.010134</td>\n",
       "    </tr>\n",
       "    <tr>\n",
       "      <th>average_user</th>\n",
       "      <td>0.994973</td>\n",
       "      <td>0.010055</td>\n",
       "    </tr>\n",
       "    <tr>\n",
       "      <th>answer_cut</th>\n",
       "      <td>0.995599</td>\n",
       "      <td>0.008802</td>\n",
       "    </tr>\n",
       "    <tr>\n",
       "      <th>user_wise</th>\n",
       "      <td>NaN</td>\n",
       "      <td>NaN</td>\n",
       "    </tr>\n",
       "  </tbody>\n",
       "</table>\n",
       "</div>"
      ],
      "text/plain": [
       "                                f1       std\n",
       "bl_assessment_based_last  0.440673  0.031537\n",
       "bl_assessment_based_all   0.476782  0.027048\n",
       "bl_user_based_last        0.617927  0.052468\n",
       "bl_user_based_all         0.669344  0.023498\n",
       "time_cut                  0.994933  0.010134\n",
       "average_user              0.994973  0.010055\n",
       "answer_cut                0.995599  0.008802\n",
       "user_wise                      NaN       NaN"
      ]
     },
     "execution_count": 13,
     "metadata": {},
     "output_type": "execute_result"
    }
   ],
   "source": [
    "res_df = pd.DataFrame.from_dict(results_dic, orient=\"index\").sort_values(by='f1')\n",
    "res_df.to_csv(f'../../results/tables/approaches/rki_children_seed_{seed}.csv', index_label='approach')\n",
    "res_df\n"
   ]
  }
 ],
 "metadata": {
  "kernelspec": {
   "display_name": "Python 3 (ipykernel)",
   "language": "python",
   "name": "python3"
  },
  "language_info": {
   "codemirror_mode": {
    "name": "ipython",
    "version": 3
   },
   "file_extension": ".py",
   "mimetype": "text/x-python",
   "name": "python",
   "nbconvert_exporter": "python",
   "pygments_lexer": "ipython3",
   "version": "3.9.0"
  }
 },
 "nbformat": 4,
 "nbformat_minor": 4
}
