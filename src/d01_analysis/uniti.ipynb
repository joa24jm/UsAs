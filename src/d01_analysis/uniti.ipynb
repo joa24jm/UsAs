{
 "cells": [
  {
   "cell_type": "markdown",
   "id": "bee795e4-15e0-44df-8cc6-49120bd61c7d",
   "metadata": {},
   "source": [
    "#  UNITI Dataset"
   ]
  },
  {
   "cell_type": "markdown",
   "id": "3973d04e-db96-4c39-8b42-30f7af663618",
   "metadata": {},
   "source": [
    "## Purpose of this Notebook\n",
    "- [ ] Clean the dataset and save cleaned version\n",
    "- [x] Get an statistical overview\n",
    "    - [x] How many users?\n",
    "    - [x] How many assessments (= filled out questionnaires)?\n",
    "    - [x] Date range of the dataset?\n",
    "    - [x] User-assessment distribution\n",
    "- [x] Potential target for classification?\n",
    "- [x] Potential features for classification?\n",
    "- [x] Potential target for regression?\n",
    "- [x] Potential features for regression?    \n"
   ]
  },
  {
   "cell_type": "markdown",
   "source": [
    "## Preparation"
   ],
   "metadata": {
    "collapsed": false
   }
  },
  {
   "cell_type": "code",
   "execution_count": 26,
   "id": "9317fa07-c488-493c-b33a-b0cbd5540259",
   "metadata": {},
   "outputs": [],
   "source": [
    "# imports\n",
    "import pandas as pd\n",
    "from datetime import date, datetime\n",
    "import seaborn as sns\n",
    "import warnings\n",
    "import pickle\n",
    "# local imports\n",
    "import sys\n",
    "sys.path.insert(0, \"../..\")\n",
    "from src.d00_utils import helpers\n",
    "warnings.filterwarnings('ignore')"
   ]
  },
  {
   "cell_type": "code",
   "execution_count": 2,
   "id": "7556ec63-5b64-4b8d-8807-b181a7d8aacd",
   "metadata": {},
   "outputs": [
    {
     "data": {
      "text/plain": "   user_id           created_at  loudness  cumberness  jawbone  neck  tin_day  \\\n0    42101  2021-04-13 20:35:15       100          11       80    34       41   \n1    42110  2021-04-15 21:55:10        58          72       56    57       91   \n2    42112  2021-04-16 10:37:58        50          71       46    61       65   \n3    42112  2021-04-16 11:20:14        42          40       26    44       52   \n4    42110  2021-04-16 14:31:00        86         100       29    51      100   \n\n   tin_cumber  tin_max  movement  stress  emotion  \n0          86       27        37      90      100  \n1          84       73        53      63       11  \n2          30       72        68      29       76  \n3          24       42        46      51       88  \n4         100      100        91     100        0  ",
      "text/html": "<div>\n<style scoped>\n    .dataframe tbody tr th:only-of-type {\n        vertical-align: middle;\n    }\n\n    .dataframe tbody tr th {\n        vertical-align: top;\n    }\n\n    .dataframe thead th {\n        text-align: right;\n    }\n</style>\n<table border=\"1\" class=\"dataframe\">\n  <thead>\n    <tr style=\"text-align: right;\">\n      <th></th>\n      <th>user_id</th>\n      <th>created_at</th>\n      <th>loudness</th>\n      <th>cumberness</th>\n      <th>jawbone</th>\n      <th>neck</th>\n      <th>tin_day</th>\n      <th>tin_cumber</th>\n      <th>tin_max</th>\n      <th>movement</th>\n      <th>stress</th>\n      <th>emotion</th>\n    </tr>\n  </thead>\n  <tbody>\n    <tr>\n      <th>0</th>\n      <td>42101</td>\n      <td>2021-04-13 20:35:15</td>\n      <td>100</td>\n      <td>11</td>\n      <td>80</td>\n      <td>34</td>\n      <td>41</td>\n      <td>86</td>\n      <td>27</td>\n      <td>37</td>\n      <td>90</td>\n      <td>100</td>\n    </tr>\n    <tr>\n      <th>1</th>\n      <td>42110</td>\n      <td>2021-04-15 21:55:10</td>\n      <td>58</td>\n      <td>72</td>\n      <td>56</td>\n      <td>57</td>\n      <td>91</td>\n      <td>84</td>\n      <td>73</td>\n      <td>53</td>\n      <td>63</td>\n      <td>11</td>\n    </tr>\n    <tr>\n      <th>2</th>\n      <td>42112</td>\n      <td>2021-04-16 10:37:58</td>\n      <td>50</td>\n      <td>71</td>\n      <td>46</td>\n      <td>61</td>\n      <td>65</td>\n      <td>30</td>\n      <td>72</td>\n      <td>68</td>\n      <td>29</td>\n      <td>76</td>\n    </tr>\n    <tr>\n      <th>3</th>\n      <td>42112</td>\n      <td>2021-04-16 11:20:14</td>\n      <td>42</td>\n      <td>40</td>\n      <td>26</td>\n      <td>44</td>\n      <td>52</td>\n      <td>24</td>\n      <td>42</td>\n      <td>46</td>\n      <td>51</td>\n      <td>88</td>\n    </tr>\n    <tr>\n      <th>4</th>\n      <td>42110</td>\n      <td>2021-04-16 14:31:00</td>\n      <td>86</td>\n      <td>100</td>\n      <td>29</td>\n      <td>51</td>\n      <td>100</td>\n      <td>100</td>\n      <td>100</td>\n      <td>91</td>\n      <td>100</td>\n      <td>0</td>\n    </tr>\n  </tbody>\n</table>\n</div>"
     },
     "execution_count": 2,
     "metadata": {},
     "output_type": "execute_result"
    }
   ],
   "source": [
    "# read data\n",
    "uniti_raw = pd.read_csv(\"../../data/d01_raw/uniti/uniti_dataset_22.09.28.csv\")\n",
    "uniti_external = pd.read_csv(\"../../data/d01_raw/uniti/uniti_rct_SOZ_data.csv\")\n",
    "uniti_raw.head()"
   ]
  },
  {
   "cell_type": "markdown",
   "id": "73b6ed1f-5ebe-4086-86e0-72e6bce4587f",
   "metadata": {
    "tags": []
   },
   "source": [
    "### Check for testusers\n",
    "Testusers have user_ids < 2101."
   ]
  },
  {
   "cell_type": "code",
   "execution_count": 3,
   "id": "3e96007b-cc48-4cbe-a745-b9ef16fef306",
   "metadata": {},
   "outputs": [
    {
     "data": {
      "text/plain": "False"
     },
     "execution_count": 3,
     "metadata": {},
     "output_type": "execute_result"
    }
   ],
   "source": [
    "s = uniti_raw.user_id<2101\n",
    "s.any()"
   ]
  },
  {
   "cell_type": "markdown",
   "source": [
    "### Merge with rct data using pkl"
   ],
   "metadata": {
    "collapsed": false
   }
  },
  {
   "cell_type": "code",
   "execution_count": 4,
   "outputs": [
    {
     "data": {
      "text/plain": "       user_id           created_at  loudness  cumberness  jawbone  neck  \\\n0        34107  2021-04-16 16:16:03        69          74       60    48   \n28       34119  2021-04-21 17:20:46        69          48       47    73   \n83       34124  2021-04-22 16:11:06        73          78        5    30   \n159      34126  2021-04-26 08:06:27        52          48       21    26   \n245      34137  2021-04-27 18:42:36        62          79       46    76   \n...        ...                  ...       ...         ...      ...   ...   \n17588    38179  2022-07-25 20:01:21        58          58       53    71   \n17599    38182  2022-07-27 16:08:45        83          85       60    66   \n17640    38159  2022-08-09 05:03:51        53          51        4     1   \n17641    38186  2022-08-17 21:09:53       100           0        0     0   \n17682    36506  2022-08-29 21:13:10        52          51       47    49   \n\n       tin_day  tin_cumber  tin_max  movement  stress  emotion  \\\n0          100          66       96        38      45       32   \n28          30          33       64        81      61       39   \n83          71          71       75        92      62       46   \n159         50          42       53        36      34       31   \n245         70          65       85        80      60       59   \n...        ...         ...      ...       ...     ...      ...   \n17588       41          58       59        58      60       38   \n17599       76          77       84        70      60       66   \n17640       49          50       49        53      44       47   \n17641       24           0      100        63      26      100   \n17682       36          35       50        53      25       89   \n\n            external_id  age     sex center_name   ema_id  country  \n0       31-1LRWI6-002.3   58    male      Berlin  34107.0  Germany  \n28      31-D18GTV-005.3   53  female      Berlin  34119.0  Germany  \n83      31-CKD3DC-006.4   52    male      Berlin  34124.0  Germany  \n159     31-JUWB4N-007.2   72    male      Berlin  34126.0  Germany  \n245     31-BK61YX-010.1   69  female      Berlin  34137.0  Germany  \n...                 ...  ...     ...         ...      ...      ...  \n17588  033-BNBWI1-020.3   55    male      Leuven  38179.0  Belgium  \n17599  033-U3QEH3-021.2   70    male      Leuven  38182.0  Belgium  \n17640  033-AW3RA8-015.3   47    male      Leuven  38159.0  Belgium  \n17641  033-JKOGII-022.2   59  female      Leuven  38186.0  Belgium  \n17682     032-102-102.2   49  female      Athens  36506.0   Greece  \n\n[305 rows x 18 columns]",
      "text/html": "<div>\n<style scoped>\n    .dataframe tbody tr th:only-of-type {\n        vertical-align: middle;\n    }\n\n    .dataframe tbody tr th {\n        vertical-align: top;\n    }\n\n    .dataframe thead th {\n        text-align: right;\n    }\n</style>\n<table border=\"1\" class=\"dataframe\">\n  <thead>\n    <tr style=\"text-align: right;\">\n      <th></th>\n      <th>user_id</th>\n      <th>created_at</th>\n      <th>loudness</th>\n      <th>cumberness</th>\n      <th>jawbone</th>\n      <th>neck</th>\n      <th>tin_day</th>\n      <th>tin_cumber</th>\n      <th>tin_max</th>\n      <th>movement</th>\n      <th>stress</th>\n      <th>emotion</th>\n      <th>external_id</th>\n      <th>age</th>\n      <th>sex</th>\n      <th>center_name</th>\n      <th>ema_id</th>\n      <th>country</th>\n    </tr>\n  </thead>\n  <tbody>\n    <tr>\n      <th>0</th>\n      <td>34107</td>\n      <td>2021-04-16 16:16:03</td>\n      <td>69</td>\n      <td>74</td>\n      <td>60</td>\n      <td>48</td>\n      <td>100</td>\n      <td>66</td>\n      <td>96</td>\n      <td>38</td>\n      <td>45</td>\n      <td>32</td>\n      <td>31-1LRWI6-002.3</td>\n      <td>58</td>\n      <td>male</td>\n      <td>Berlin</td>\n      <td>34107.0</td>\n      <td>Germany</td>\n    </tr>\n    <tr>\n      <th>28</th>\n      <td>34119</td>\n      <td>2021-04-21 17:20:46</td>\n      <td>69</td>\n      <td>48</td>\n      <td>47</td>\n      <td>73</td>\n      <td>30</td>\n      <td>33</td>\n      <td>64</td>\n      <td>81</td>\n      <td>61</td>\n      <td>39</td>\n      <td>31-D18GTV-005.3</td>\n      <td>53</td>\n      <td>female</td>\n      <td>Berlin</td>\n      <td>34119.0</td>\n      <td>Germany</td>\n    </tr>\n    <tr>\n      <th>83</th>\n      <td>34124</td>\n      <td>2021-04-22 16:11:06</td>\n      <td>73</td>\n      <td>78</td>\n      <td>5</td>\n      <td>30</td>\n      <td>71</td>\n      <td>71</td>\n      <td>75</td>\n      <td>92</td>\n      <td>62</td>\n      <td>46</td>\n      <td>31-CKD3DC-006.4</td>\n      <td>52</td>\n      <td>male</td>\n      <td>Berlin</td>\n      <td>34124.0</td>\n      <td>Germany</td>\n    </tr>\n    <tr>\n      <th>159</th>\n      <td>34126</td>\n      <td>2021-04-26 08:06:27</td>\n      <td>52</td>\n      <td>48</td>\n      <td>21</td>\n      <td>26</td>\n      <td>50</td>\n      <td>42</td>\n      <td>53</td>\n      <td>36</td>\n      <td>34</td>\n      <td>31</td>\n      <td>31-JUWB4N-007.2</td>\n      <td>72</td>\n      <td>male</td>\n      <td>Berlin</td>\n      <td>34126.0</td>\n      <td>Germany</td>\n    </tr>\n    <tr>\n      <th>245</th>\n      <td>34137</td>\n      <td>2021-04-27 18:42:36</td>\n      <td>62</td>\n      <td>79</td>\n      <td>46</td>\n      <td>76</td>\n      <td>70</td>\n      <td>65</td>\n      <td>85</td>\n      <td>80</td>\n      <td>60</td>\n      <td>59</td>\n      <td>31-BK61YX-010.1</td>\n      <td>69</td>\n      <td>female</td>\n      <td>Berlin</td>\n      <td>34137.0</td>\n      <td>Germany</td>\n    </tr>\n    <tr>\n      <th>...</th>\n      <td>...</td>\n      <td>...</td>\n      <td>...</td>\n      <td>...</td>\n      <td>...</td>\n      <td>...</td>\n      <td>...</td>\n      <td>...</td>\n      <td>...</td>\n      <td>...</td>\n      <td>...</td>\n      <td>...</td>\n      <td>...</td>\n      <td>...</td>\n      <td>...</td>\n      <td>...</td>\n      <td>...</td>\n      <td>...</td>\n    </tr>\n    <tr>\n      <th>17588</th>\n      <td>38179</td>\n      <td>2022-07-25 20:01:21</td>\n      <td>58</td>\n      <td>58</td>\n      <td>53</td>\n      <td>71</td>\n      <td>41</td>\n      <td>58</td>\n      <td>59</td>\n      <td>58</td>\n      <td>60</td>\n      <td>38</td>\n      <td>033-BNBWI1-020.3</td>\n      <td>55</td>\n      <td>male</td>\n      <td>Leuven</td>\n      <td>38179.0</td>\n      <td>Belgium</td>\n    </tr>\n    <tr>\n      <th>17599</th>\n      <td>38182</td>\n      <td>2022-07-27 16:08:45</td>\n      <td>83</td>\n      <td>85</td>\n      <td>60</td>\n      <td>66</td>\n      <td>76</td>\n      <td>77</td>\n      <td>84</td>\n      <td>70</td>\n      <td>60</td>\n      <td>66</td>\n      <td>033-U3QEH3-021.2</td>\n      <td>70</td>\n      <td>male</td>\n      <td>Leuven</td>\n      <td>38182.0</td>\n      <td>Belgium</td>\n    </tr>\n    <tr>\n      <th>17640</th>\n      <td>38159</td>\n      <td>2022-08-09 05:03:51</td>\n      <td>53</td>\n      <td>51</td>\n      <td>4</td>\n      <td>1</td>\n      <td>49</td>\n      <td>50</td>\n      <td>49</td>\n      <td>53</td>\n      <td>44</td>\n      <td>47</td>\n      <td>033-AW3RA8-015.3</td>\n      <td>47</td>\n      <td>male</td>\n      <td>Leuven</td>\n      <td>38159.0</td>\n      <td>Belgium</td>\n    </tr>\n    <tr>\n      <th>17641</th>\n      <td>38186</td>\n      <td>2022-08-17 21:09:53</td>\n      <td>100</td>\n      <td>0</td>\n      <td>0</td>\n      <td>0</td>\n      <td>24</td>\n      <td>0</td>\n      <td>100</td>\n      <td>63</td>\n      <td>26</td>\n      <td>100</td>\n      <td>033-JKOGII-022.2</td>\n      <td>59</td>\n      <td>female</td>\n      <td>Leuven</td>\n      <td>38186.0</td>\n      <td>Belgium</td>\n    </tr>\n    <tr>\n      <th>17682</th>\n      <td>36506</td>\n      <td>2022-08-29 21:13:10</td>\n      <td>52</td>\n      <td>51</td>\n      <td>47</td>\n      <td>49</td>\n      <td>36</td>\n      <td>35</td>\n      <td>50</td>\n      <td>53</td>\n      <td>25</td>\n      <td>89</td>\n      <td>032-102-102.2</td>\n      <td>49</td>\n      <td>female</td>\n      <td>Athens</td>\n      <td>36506.0</td>\n      <td>Greece</td>\n    </tr>\n  </tbody>\n</table>\n<p>305 rows × 18 columns</p>\n</div>"
     },
     "execution_count": 4,
     "metadata": {},
     "output_type": "execute_result"
    }
   ],
   "source": [
    "uniti_lookup = ''\n",
    "\n",
    "with open('../../data/d01_raw/uniti/ema_to_rct_dict.pkl', 'rb') as f:\n",
    "    data = pickle.load(f)\n",
    "    lookup = pd.DataFrame(list(data.items()), columns=['user_id', 'external_id'])\n",
    "\n",
    "    uniti_lookup = uniti_raw.merge(lookup, left_on='user_id', right_on='user_id')\n",
    "\n",
    "uniti_merged = uniti_lookup.merge(uniti_external, left_on='external_id', right_on='external_id')\n",
    "uniti_users = uniti_merged.drop_duplicates(subset=['user_id'])\n",
    "uniti_users"
   ],
   "metadata": {
    "collapsed": false
   }
  },
  {
   "cell_type": "markdown",
   "source": [
    "## Statistical overview\n",
    "Here we calculate statistics for both the dataset overall and the baseline questionaires"
   ],
   "metadata": {
    "collapsed": false
   }
  },
  {
   "cell_type": "code",
   "execution_count": 5,
   "outputs": [],
   "source": [
    "# create result dict to save to disk\n",
    "result = dict()"
   ],
   "metadata": {
    "collapsed": false
   }
  },
  {
   "cell_type": "markdown",
   "id": "115b8178-a3d4-4746-9a8c-2f694e552ca6",
   "metadata": {},
   "source": [
    "### Number of users"
   ]
  },
  {
   "cell_type": "code",
   "execution_count": 6,
   "id": "142ca053-c9b2-486b-bc63-6c276ce429d4",
   "metadata": {},
   "outputs": [
    {
     "name": "stdout",
     "output_type": "stream",
     "text": [
      "Number of users:\t 763\n"
     ]
    }
   ],
   "source": [
    "print(\"Number of users:\\t\", uniti_raw.user_id.nunique())\n",
    "result['n_users'] = uniti_raw.user_id.nunique()"
   ]
  },
  {
   "cell_type": "markdown",
   "source": [
    "### Number of assessments"
   ],
   "metadata": {
    "collapsed": false
   }
  },
  {
   "cell_type": "code",
   "execution_count": 7,
   "outputs": [
    {
     "name": "stdout",
     "output_type": "stream",
     "text": [
      "Number of assessments:\t 32443\n"
     ]
    }
   ],
   "source": [
    "# Number of unique answers\n",
    "print('Number of assessments:\\t', len(uniti_raw.index))\n",
    "result['n_assessments'] = len(uniti_raw.index)"
   ],
   "metadata": {
    "collapsed": false
   }
  },
  {
   "cell_type": "markdown",
   "source": [
    "### Date Range of assessments"
   ],
   "metadata": {
    "collapsed": false
   }
  },
  {
   "cell_type": "code",
   "execution_count": 8,
   "outputs": [
    {
     "name": "stdout",
     "output_type": "stream",
     "text": [
      "Start:\t 2021-04-13 20:35:15\n",
      "End:\t 2022-09-27 22:57:33\n",
      "\n",
      "Date Range in\n",
      "Years:\t 1.4575342465753425\n",
      "Months:\t 44.333333333333336\n",
      "Days:\t 532\n"
     ]
    }
   ],
   "source": [
    "start_date = datetime.strptime(uniti_raw.created_at.min(), \"%Y-%m-%d %H:%M:%S\")\n",
    "end_date = datetime.strptime(uniti_raw.created_at.max(), \"%Y-%m-%d %H:%M:%S\")\n",
    "\n",
    "result['First assessment from'] = start_date\n",
    "result['Latest assessment from'] = end_date\n",
    "\n",
    "print('Start:\\t', start_date)\n",
    "print('End:\\t', end_date)\n",
    "\n",
    "delta = end_date - start_date\n",
    "\n",
    "print('\\nDate Range in')\n",
    "print('Years:\\t', delta.days/365)\n",
    "print('Months:\\t', delta.days/12)\n",
    "print('Days:\\t', delta.days)\n",
    "\n",
    "result['Time range in days'] = delta.days"
   ],
   "metadata": {
    "collapsed": false
   }
  },
  {
   "cell_type": "markdown",
   "source": [
    "### Time gap between questionnaires"
   ],
   "metadata": {
    "collapsed": false
   }
  },
  {
   "cell_type": "code",
   "execution_count": 27,
   "outputs": [
    {
     "data": {
      "text/plain": "{'Median hours between two assessments': 24.446319444444445,\n 'Median days between two assessments': 1.0185966435185185,\n 'std_hours': 116.31367279684981,\n 'std_days': 4.846403033202075}"
     },
     "execution_count": 27,
     "metadata": {},
     "output_type": "execute_result"
    }
   ],
   "source": [
    "helpers.find_schedule_pattern(uniti_raw)"
   ],
   "metadata": {
    "collapsed": false
   }
  },
  {
   "cell_type": "markdown",
   "id": "f8713b2c-ca9b-4f30-bfdb-ddcfefdd823a",
   "metadata": {},
   "source": [
    "### Distribution of filled out questionnaires"
   ]
  },
  {
   "cell_type": "code",
   "execution_count": 9,
   "id": "9ab64a89-e598-4ef4-9ae7-3c3e86e03dd4",
   "metadata": {},
   "outputs": [
    {
     "name": "stdout",
     "output_type": "stream",
     "text": [
      "(0, 1]         134\n",
      "(1, 2]          49\n",
      "(2, 3]          29\n",
      "(3, 5]          53\n",
      "(5, 10]         56\n",
      "(10, 100]      362\n",
      "(100, 1000]     80\n",
      "Name: user_id, dtype: int64\n"
     ]
    }
   ],
   "source": [
    "bins = [0, 1, 2, 3, 5, 10, 100, 1000]\n",
    "ser = pd.cut(uniti_raw.user_id.value_counts(), bins = bins).value_counts().sort_index()\n",
    "print(ser)\n",
    "result.update(dict(ser))"
   ]
  },
  {
   "cell_type": "markdown",
   "source": [
    "### Age Distribution\n",
    "The following table shows the number of users in each age group."
   ],
   "metadata": {
    "collapsed": false
   }
  },
  {
   "cell_type": "code",
   "execution_count": 10,
   "outputs": [
    {
     "data": {
      "text/plain": "age\n19     1\n23     1\n24     2\n25     1\n26     3\n27     2\n28     3\n29     2\n30     3\n31     2\n32     3\n33     2\n34     6\n35     7\n36     6\n37     2\n38     5\n39     4\n40     3\n41     3\n42     6\n43     8\n44     4\n45     6\n46     3\n47     6\n48     4\n49     9\n50     6\n51     3\n52    11\n53     9\n54    10\n55    13\n56     8\n57    11\n58    12\n59    15\n60     6\n61     8\n62    10\n63     9\n64     6\n65     8\n66     9\n67    10\n68     7\n69     4\n70     5\n71     5\n72     2\n73     2\n74     3\n75     3\n76     1\n77     1\n78     1\ndtype: int64"
     },
     "execution_count": 10,
     "metadata": {},
     "output_type": "execute_result"
    }
   ],
   "source": [
    "age_groups = uniti_users.groupby('age').size()\n",
    "age_groups"
   ],
   "metadata": {
    "collapsed": false
   }
  },
  {
   "cell_type": "markdown",
   "source": [
    "Next we calculate the mean age and the standard deviation"
   ],
   "metadata": {
    "collapsed": false
   }
  },
  {
   "cell_type": "code",
   "execution_count": 11,
   "outputs": [],
   "source": [
    "result['user_age_mean'] = uniti_users['age'].mean()\n",
    "result['user_age_standard_deviation'] = uniti_users['age'].std()"
   ],
   "metadata": {
    "collapsed": false
   }
  },
  {
   "cell_type": "markdown",
   "source": [
    "### Sex Distribution\n",
    "We calculate the number of users that self identified their sex as male, female or diverse or no answer"
   ],
   "metadata": {
    "collapsed": false
   }
  },
  {
   "cell_type": "code",
   "execution_count": 12,
   "outputs": [
    {
     "name": "stdout",
     "output_type": "stream",
     "text": [
      "        user_id\n",
      "sex            \n",
      "female      130\n",
      "male        175\n"
     ]
    }
   ],
   "source": [
    "df_sex = pd.DataFrame(uniti_users.groupby('sex')['user_id'].count())\n",
    "\n",
    "result['n_users_male'] = df_sex['user_id']['male']\n",
    "result['n_users_female'] = df_sex['user_id']['female']\n",
    "\n",
    "print(df_sex)"
   ],
   "metadata": {
    "collapsed": false
   }
  },
  {
   "cell_type": "markdown",
   "source": [
    "### Country Statstics\n",
    "We calculate how many users participated by country"
   ],
   "metadata": {
    "collapsed": false
   }
  },
  {
   "cell_type": "code",
   "execution_count": 13,
   "outputs": [
    {
     "data": {
      "text/plain": "country\nBelgium     19\nGermany    165\nGreece      55\nSpain       66\nName: user_id, dtype: int64"
     },
     "execution_count": 13,
     "metadata": {},
     "output_type": "execute_result"
    }
   ],
   "source": [
    "country_series = uniti_users.groupby('country')['user_id'].count()\n",
    "country_series"
   ],
   "metadata": {
    "collapsed": false
   }
  },
  {
   "cell_type": "markdown",
   "source": [
    "We also calculate the percentage of german-based users in the dataset"
   ],
   "metadata": {
    "collapsed": false
   }
  },
  {
   "cell_type": "code",
   "execution_count": 14,
   "outputs": [
    {
     "name": "stdout",
     "output_type": "stream",
     "text": [
      "54.10% german-based users in dataset\n"
     ]
    }
   ],
   "source": [
    "result['n_users_german'] = country_series['Germany']\n",
    "result['n_users_non_german'] = country_series.sum()\n",
    "print('{:.2f}% german-based users in dataset'.format(country_series['Germany'] / country_series.sum() * 100))"
   ],
   "metadata": {
    "collapsed": false
   }
  },
  {
   "cell_type": "markdown",
   "source": [
    "### Overview"
   ],
   "metadata": {
    "collapsed": false
   }
  },
  {
   "cell_type": "code",
   "execution_count": 15,
   "outputs": [
    {
     "data": {
      "text/plain": "{'n_users': 763,\n 'n_assessments': 32443,\n 'First assessment from': datetime.datetime(2021, 4, 13, 20, 35, 15),\n 'Latest assessment from': datetime.datetime(2022, 9, 27, 22, 57, 33),\n 'Time range in days': 532,\n Interval(0, 1, closed='right'): 134,\n Interval(1, 2, closed='right'): 49,\n Interval(2, 3, closed='right'): 29,\n Interval(3, 5, closed='right'): 53,\n Interval(5, 10, closed='right'): 56,\n Interval(10, 100, closed='right'): 362,\n Interval(100, 1000, closed='right'): 80,\n 'user_age_mean': 53.006557377049184,\n 'user_age_standard_deviation': 12.686501695913423,\n 'n_users_male': 175,\n 'n_users_female': 130,\n 'n_users_german': 165,\n 'n_users_non_german': 305}"
     },
     "execution_count": 15,
     "metadata": {},
     "output_type": "execute_result"
    }
   ],
   "source": [
    "result"
   ],
   "metadata": {
    "collapsed": false
   }
  },
  {
   "cell_type": "markdown",
   "source": [
    "## Visualizations"
   ],
   "metadata": {
    "collapsed": false
   }
  },
  {
   "cell_type": "code",
   "execution_count": 16,
   "id": "aa38b860-58ec-438b-9081-c93a5a859755",
   "metadata": {},
   "outputs": [
    {
     "name": "stdout",
     "output_type": "stream",
     "text": [
      "\n"
     ]
    },
    {
     "data": {
      "text/plain": "<Figure size 640x480 with 1 Axes>",
      "image/png": "[encoded data removed]"
     },
     "metadata": {},
     "output_type": "display_data"
    }
   ],
   "source": [
    "ax = sns.lineplot(\n",
    "    pd.DataFrame(\n",
    "        uniti_raw.user_id.value_counts().sort_values(ascending=True).value_counts()\n",
    "    ).rename(\n",
    "        {'index':'length', 'user_id':'n_users'}\n",
    "    ))\n",
    "ax.set_ylabel(\"n_users\")\n",
    "ax.set_xlabel(\"n_assessments\")\n",
    "ax.set_title(\"Number of users (Y) with a particular number of assessments (X)\")\n",
    "print(\"\") #Just my hack to suppress the annoying seaborn output. Dunno how to turn it off, sorry."
   ]
  },
  {
   "cell_type": "markdown",
   "id": "8622b003-33c2-4f47-92fc-330e18c9fc31",
   "metadata": {
    "tags": []
   },
   "source": [
    "##### There are some outlier users with 400+ assessments, just zooming in so you see the real deal"
   ]
  },
  {
   "cell_type": "code",
   "execution_count": 17,
   "id": "6b564d68-06ce-4f80-86e2-047d2db89708",
   "metadata": {},
   "outputs": [
    {
     "name": "stdout",
     "output_type": "stream",
     "text": [
      "There are some outlier users with 400+ assessments, just zooming in so you see the real deal\n"
     ]
    },
    {
     "data": {
      "text/plain": "<Figure size 640x480 with 1 Axes>",
      "image/png": "[encoded data removed]"
     },
     "metadata": {},
     "output_type": "display_data"
    }
   ],
   "source": [
    "ax = sns.lineplot(pd.DataFrame(uniti_raw.user_id.value_counts().sort_values(ascending=True).value_counts()).rename({'index':'length', 'user_id':'n_users'}))\n",
    "ax.set_xlabel(\"n_assessments\")\n",
    "ax.set_ylabel(\"n_users\")\n",
    "ax.set_ylim((0,80))\n",
    "print(\"There are some outlier users with 400+ assessments, just zooming in so you see the real deal\")"
   ]
  },
  {
   "cell_type": "markdown",
   "id": "a779e010-f4f3-4061-8ffb-d60dcc77109c",
   "metadata": {
    "tags": []
   },
   "source": [
    "#### Date range of interactions:"
   ]
  },
  {
   "cell_type": "code",
   "execution_count": 18,
   "id": "c2bfffb6-6e5f-4e57-bff8-994c55d4fa5d",
   "metadata": {},
   "outputs": [
    {
     "name": "stdout",
     "output_type": "stream",
     "text": [
      "First datestamp: 2021-04-13 20:35:15 \n",
      "25% of the data comes before: 2021-09-12 \n",
      "50% of the data comes before: 2022-01-23 \n",
      "75% of the data comes before: 2022-04-30 \n",
      "Last datestamp: 2022-09-27 22:57:33\n",
      "Total span in days: 532  days\n"
     ]
    }
   ],
   "source": [
    "uniti_date_info = pd.to_datetime(uniti_raw.created_at, format=\"%Y-%m-%d %H:%M:%S\", errors='raise').describe(datetime_is_numeric=True)\n",
    "print(\"First datestamp:\", uniti_date_info['min'], \n",
    "      \"\\n25% of the data comes before:\", uniti_date_info['25%'].date(),\n",
    "     \"\\n50% of the data comes before:\", uniti_date_info['50%'].date(),\n",
    "     \"\\n75% of the data comes before:\", uniti_date_info['75%'].date(),\n",
    "     \"\\nLast datestamp:\", uniti_date_info['max'])\n",
    "print(\"Total span in days:\", (uniti_date_info['max'] - uniti_date_info['min']).days, \" days\")"
   ]
  },
  {
   "cell_type": "markdown",
   "id": "bdfe3d2a-e10f-40f8-8205-5670c20f8c49",
   "metadata": {},
   "source": [
    "#### How is the total span of the dataset related to the total span for each user?\n",
    "\n",
    "##### Please take the n_assessments percentile value with a pinch of salt... The computation is a bit oversimplified, but still hopefully useful to get a sense of the data. If we want to be accurate, we should check the percentile values for n_assessments after filtering only for those users who have X days of data. That will give a clearer idea. \n",
    "\n",
    "If that disclaimer was not understandable, sorry. I think it is easier to explain over a call."
   ]
  },
  {
   "cell_type": "code",
   "execution_count": 19,
   "id": "3e438a46-ebb8-4991-9d3c-71f24d523021",
   "metadata": {},
   "outputs": [
    {
     "name": "stdout",
     "output_type": "stream",
     "text": [
      "The shortest user has a date-span of 0 days of data with 1.0 assessments\n",
      "25% of the users have 3 days of data, with 2.0 assessments\n",
      "50% of the users have 44 days of data, with 16.0 assessments\n",
      "75% of the users have 93 days of data, with 63.0 assessments\n",
      "Max. is 504 days 00:00:00 days of data with 433.0 assessments\n",
      "--------------------------------\n",
      "On average, users have  68 +/- 83 days of data, with on average of 39.48885976408912 +/- 53.78798975246744 assessments\n"
     ]
    }
   ],
   "source": [
    "uniti_raw['date'] = [x.date() for x in pd.to_datetime(uniti_raw.created_at, format=\"%Y-%m-%d %H:%M:%S\", errors='raise')]\n",
    "user_date_spans = pd.DataFrame(uniti_raw.groupby(\n",
    "                        'user_id', as_index=False).agg(\n",
    "                            {'date': ['min','max','nunique']}).values, \n",
    "                    columns = ['user_id','datestamp_min','datestamp_max', 'n_assessments'])\n",
    "user_date_spans['time_delta'] = user_date_spans['datestamp_max'] - user_date_spans['datestamp_min']\n",
    "user_date_spans['n_assessments'] = user_date_spans['n_assessments'].astype(int)\n",
    "\n",
    "user_date_spans_description = user_date_spans.describe()\n",
    "print(\"The shortest user has a date-span of\", user_date_spans_description['time_delta']['min'].days\n",
    "      , \"days of data with\", user_date_spans_description['n_assessments']['min'], \"assessments\")\n",
    "\n",
    "print(\"25% of the users have\", user_date_spans_description['time_delta']['25%'].days, \n",
    "      \"days of data, with\", user_date_spans_description['n_assessments']['25%'],\"assessments\")\n",
    "print(\"50% of the users have\", user_date_spans_description['time_delta']['50%'].days, \n",
    "      \"days of data, with\", user_date_spans_description['n_assessments']['50%'],\"assessments\")\n",
    "print(\"75% of the users have\", user_date_spans_description['time_delta']['75%'].days, \n",
    "      \"days of data, with\", user_date_spans_description['n_assessments']['75%'],\"assessments\")\n",
    "\n",
    "\n",
    "\n",
    "print(\"Max. is\", user_date_spans_description['time_delta']['max'], \"days of data with\", user_date_spans_description['n_assessments']['max'], \"assessments\")\n",
    "\n",
    "\n",
    "print(\"--------------------------------\\nOn average, users have \", user_date_spans_description['time_delta']['mean'].days, \n",
    "      \"+/-\", user_date_spans_description['time_delta']['std'].days ,\"days of data, with on average of\",\n",
    "      user_date_spans_description['n_assessments']['mean'], \"+/-\", user_date_spans_description['n_assessments']['std'], \"assessments\")\n",
    "\n"
   ]
  },
  {
   "cell_type": "markdown",
   "id": "59fa3a80-08d1-4dd2-8896-2f68d018d998",
   "metadata": {},
   "source": [
    "#### However, there are both anonymous and non-anonymous participants in the above dataset. If we remove anonymous participants, the statistics are as follows"
   ]
  },
  {
   "cell_type": "code",
   "execution_count": 20,
   "id": "551ec86c-51da-4660-bbf7-64ca176219c7",
   "metadata": {},
   "outputs": [
    {
     "name": "stdout",
     "output_type": "stream",
     "text": [
      "The distribution for number of users within a certain range of assessments submitted varies like in the table below:\n"
     ]
    },
    {
     "data": {
      "text/plain": "  assessment_quantile  n_users\n0        (0.999, 8.0]      110\n1         (8.0, 28.0]      111\n2        (28.0, 60.8]      102\n3        (60.8, 87.4]      108\n4       (87.4, 442.0]      108",
      "text/html": "<div>\n<style scoped>\n    .dataframe tbody tr th:only-of-type {\n        vertical-align: middle;\n    }\n\n    .dataframe tbody tr th {\n        vertical-align: top;\n    }\n\n    .dataframe thead th {\n        text-align: right;\n    }\n</style>\n<table border=\"1\" class=\"dataframe\">\n  <thead>\n    <tr style=\"text-align: right;\">\n      <th></th>\n      <th>assessment_quantile</th>\n      <th>n_users</th>\n    </tr>\n  </thead>\n  <tbody>\n    <tr>\n      <th>0</th>\n      <td>(0.999, 8.0]</td>\n      <td>110</td>\n    </tr>\n    <tr>\n      <th>1</th>\n      <td>(8.0, 28.0]</td>\n      <td>111</td>\n    </tr>\n    <tr>\n      <th>2</th>\n      <td>(28.0, 60.8]</td>\n      <td>102</td>\n    </tr>\n    <tr>\n      <th>3</th>\n      <td>(60.8, 87.4]</td>\n      <td>108</td>\n    </tr>\n    <tr>\n      <th>4</th>\n      <td>(87.4, 442.0]</td>\n      <td>108</td>\n    </tr>\n  </tbody>\n</table>\n</div>"
     },
     "execution_count": 20,
     "metadata": {},
     "output_type": "execute_result"
    }
   ],
   "source": [
    "uniti_non_anon = uniti_raw[uniti_raw.user_id < 42101].copy()\n",
    "uniti_non_anon.loc[:,'assessment_quantile'] = uniti_non_anon.loc[:,'user_id'].map(pd.qcut(uniti_non_anon.user_id.value_counts(), 5).to_dict())\n",
    "\n",
    "print(\"The distribution for number of users within a certain range of assessments submitted varies like in the table below:\")\n",
    "pd.DataFrame(uniti_non_anon.groupby('assessment_quantile')['user_id'].nunique()).reset_index().rename({'user_id':'n_users'}, axis=1)"
   ]
  },
  {
   "cell_type": "code",
   "execution_count": 21,
   "id": "47be319c-abe2-45f1-bf84-ab0dfaa8611c",
   "metadata": {},
   "outputs": [
    {
     "name": "stdout",
     "output_type": "stream",
     "text": [
      "539 users in table above, and 539  non-anonymous users in the dataset\n"
     ]
    }
   ],
   "source": [
    "#Sanity check\n",
    "print(110+111+102+108+108, \"users in table above, and\", uniti_non_anon.user_id.nunique(), \" non-anonymous users in the dataset\")"
   ]
  },
  {
   "cell_type": "code",
   "execution_count": 22,
   "id": "cde1fa88-a95a-4828-ab14-d113955b414a",
   "metadata": {},
   "outputs": [
    {
     "name": "stdout",
     "output_type": "stream",
     "text": [
      "The number of users with just one assessments drop very sharply if we filter for non anonymous users\n"
     ]
    },
    {
     "data": {
      "text/plain": "<Figure size 640x480 with 1 Axes>",
      "image/png": "[encoded data removed]"
     },
     "metadata": {},
     "output_type": "display_data"
    }
   ],
   "source": [
    "ax = sns.lineplot(\n",
    "    pd.DataFrame(\n",
    "        uniti_non_anon.user_id.value_counts().sort_values(ascending=True).value_counts()\n",
    "    ).rename(\n",
    "        {'index':'length', 'user_id':'n_users'}\n",
    "    ))\n",
    "ax.set_ylabel(\"n_users\")\n",
    "ax.set_xlabel(\"n_assessments\")\n",
    "ax.set_title(\"Number of users (Y) with a particular number of assessments (X)\")\n",
    "print(\"The number of users with just one assessments drop very sharply if we filter for non anonymous users\") #Just my hack to suppress the annoying seaborn output. Dunno how to turn it off, sorry."
   ]
  },
  {
   "cell_type": "code",
   "execution_count": 23,
   "id": "4e1e2a39-5dd9-4c79-9f1f-a60eb1a7a46a",
   "metadata": {},
   "outputs": [
    {
     "name": "stdout",
     "output_type": "stream",
     "text": [
      "First datestamp: 2021-04-16 16:16:03 \n",
      "25% of the data comes before: 2021-09-10 \n",
      "50% of the data comes before: 2022-01-21 \n",
      "75% of the data comes before: 2022-04-29 \n",
      "Last datestamp: 2022-09-27 22:57:33\n",
      "Total span in days: 529  days\n",
      "The date range doesnt seem to change much, whether we filter out anons or not.\n"
     ]
    }
   ],
   "source": [
    "uniti_date_info = pd.to_datetime(uniti_non_anon.created_at, format=\"%Y-%m-%d %H:%M:%S\", errors='raise').describe(datetime_is_numeric=True)\n",
    "print(\"First datestamp:\", uniti_date_info['min'], \n",
    "      \"\\n25% of the data comes before:\", uniti_date_info['25%'].date(),\n",
    "     \"\\n50% of the data comes before:\", uniti_date_info['50%'].date(),\n",
    "     \"\\n75% of the data comes before:\", uniti_date_info['75%'].date(),\n",
    "     \"\\nLast datestamp:\", uniti_date_info['max'])\n",
    "print(\"Total span in days:\", (uniti_date_info['max'] - uniti_date_info['min']).days, \" days\")\n",
    "\n",
    "print(\"The date range doesnt seem to change much, whether we filter out anons or not.\")"
   ]
  },
  {
   "cell_type": "code",
   "execution_count": 24,
   "id": "36c2a6b6-6417-4b59-9a38-d9872985bfdd",
   "metadata": {},
   "outputs": [
    {
     "name": "stdout",
     "output_type": "stream",
     "text": [
      "The shortest user has a date-span of 0 days of data with 1.0 assessments\n",
      "25% of the users have 23 days of data, with 11.0 assessments\n",
      "50% of the users have 78 days of data, with 39.0 assessments\n",
      "75% of the users have 109 days of data, with 78.0 assessments\n",
      "Max. is 504 days 00:00:00 days of data with 433.0 assessments\n",
      "--------------------------------\n",
      "On average, users have  87 +/- 85 days of data, with on average of 52.84415584415584 +/- 57.24308872247093 assessments\n",
      "The number of uber-short users drops sharply, because 25% of the users now have data spanning 23 days (with 11 assessments)\n"
     ]
    }
   ],
   "source": [
    "uniti_non_anon['date'] = [x.date() for x in pd.to_datetime(uniti_non_anon.created_at, format=\"%Y-%m-%d %H:%M:%S\", errors='raise')]\n",
    "user_date_spans = pd.DataFrame(uniti_non_anon.groupby(\n",
    "                        'user_id', as_index=False).agg(\n",
    "                            {'date': ['min','max','nunique']}).values, \n",
    "                    columns = ['user_id','datestamp_min','datestamp_max', 'n_assessments'])\n",
    "user_date_spans['time_delta'] = user_date_spans['datestamp_max'] - user_date_spans['datestamp_min']\n",
    "user_date_spans['n_assessments'] = user_date_spans['n_assessments'].astype(int)\n",
    "\n",
    "user_date_spans_description = user_date_spans.describe()\n",
    "print(\"The shortest user has a date-span of\", user_date_spans_description['time_delta']['min'].days\n",
    "      , \"days of data with\", user_date_spans_description['n_assessments']['min'], \"assessments\")\n",
    "\n",
    "print(\"25% of the users have\", user_date_spans_description['time_delta']['25%'].days, \n",
    "      \"days of data, with\", user_date_spans_description['n_assessments']['25%'],\"assessments\")\n",
    "print(\"50% of the users have\", user_date_spans_description['time_delta']['50%'].days, \n",
    "      \"days of data, with\", user_date_spans_description['n_assessments']['50%'],\"assessments\")\n",
    "print(\"75% of the users have\", user_date_spans_description['time_delta']['75%'].days, \n",
    "      \"days of data, with\", user_date_spans_description['n_assessments']['75%'],\"assessments\")\n",
    "\n",
    "\n",
    "\n",
    "print(\"Max. is\", user_date_spans_description['time_delta']['max'], \"days of data with\", user_date_spans_description['n_assessments']['max'], \"assessments\")\n",
    "\n",
    "\n",
    "print(\"--------------------------------\\nOn average, users have \", user_date_spans_description['time_delta']['mean'].days, \n",
    "      \"+/-\", user_date_spans_description['time_delta']['std'].days ,\"days of data, with on average of\",\n",
    "      user_date_spans_description['n_assessments']['mean'], \"+/-\", user_date_spans_description['n_assessments']['std'], \"assessments\")\n",
    "\n",
    "print(\"The number of uber-short users drops sharply, because 25% of the users now have data spanning 23 days (with 11 assessments)\")"
   ]
  },
  {
   "cell_type": "markdown",
   "id": "f527302f-6342-4730-b16d-088427878909",
   "metadata": {},
   "source": [
    "# Pointers for Target variable"
   ]
  },
  {
   "cell_type": "markdown",
   "id": "caa9f978-25d5-44be-8cb6-67a4f3a1ea7a",
   "metadata": {
    "jp-MarkdownHeadingCollapsed": true,
    "tags": []
   },
   "source": [
    "###  A candidate for target variable (Regression) is \"cumberness\"\n",
    "\n",
    "\n",
    "This is because it is a measure of the distress caused by the disease, and because there is no clear treatment that reliably reduces symptom severity, treating the distress caused by the disease (like in the case of chronic pain) is considered the thing to do, rather than treat the symptom severity.\n",
    "\n",
    "###  If classification, target variable (\"cumberness\") discretisation can be attempted.:\n",
    "\n",
    "(target in mean +/- user-defined noise threshold is \"no change\", \n",
    "target > mean + threashold is \"worse\", \n",
    "mean - threshold is \"better\")"
   ]
  },
  {
   "cell_type": "markdown",
   "id": "fe031c12-ee52-4e97-b6cc-38ebf1bcd638",
   "metadata": {},
   "source": [
    "### Candidate for features is all other questions excluding target:\n",
    "\n",
    "[loudness, cumberness, jawbone, neck, tin_day, tin_cumber, tin_max, movement, stress, emotion]"
   ]
  }
 ],
 "metadata": {
  "kernelspec": {
   "display_name": "Python 3 (ipykernel)",
   "language": "python",
   "name": "python3"
  },
  "language_info": {
   "codemirror_mode": {
    "name": "ipython",
    "version": 3
   },
   "file_extension": ".py",
   "mimetype": "text/x-python",
   "name": "python",
   "nbconvert_exporter": "python",
   "pygments_lexer": "ipython3",
   "version": "3.9.0"
  }
 },
 "nbformat": 4,
 "nbformat_minor": 5
}
