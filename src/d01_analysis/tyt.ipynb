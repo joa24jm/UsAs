{
 "cells": [
  {
   "cell_type": "markdown",
   "id": "f6f52cca-94ce-46cc-873e-6c0bb67cc899",
   "metadata": {},
   "source": [
    "#  Track Your Tinnitus (TYT) Dataset"
   ]
  },
  {
   "cell_type": "markdown",
   "id": "a07c53ff-1539-4aa6-a65f-c25d545f5c3a",
   "metadata": {},
   "source": [
    "## Purpose of this Notebook\n",
    "- [x] Get an statistical overview\n",
    "    - [x] How many users?\n",
    "    - [x] How many assessments (= filled out questionnaires)?\n",
    "    - [x] Date range of the dataset?\n",
    "    - [x] User-assessment distribution\n",
    "    - [x] Baseline statistics (Sex and Age)\n",
    "    \n"
   ]
  },
  {
   "cell_type": "markdown",
   "id": "ea37a3f5",
   "metadata": {},
   "source": [
    "## Preparation\n",
    "Import modules and load data for later use"
   ]
  },
  {
   "cell_type": "code",
   "execution_count": 1,
   "id": "989948c1-a016-4519-a586-9b6957f718ab",
   "metadata": {},
   "outputs": [],
   "source": [
    "# imports\n",
    "import pandas as pd\n",
    "from datetime import date, datetime\n",
    "import seaborn as sns\n",
    "import warnings\n",
    "warnings.filterwarnings('ignore')"
   ]
  },
  {
   "cell_type": "code",
   "execution_count": 2,
   "id": "2c3e5154-310c-46bb-8bf8-67dc4bc913a4",
   "metadata": {
    "pycharm": {
     "is_executing": true
    }
   },
   "outputs": [],
   "source": [
    "# local imports\n",
    "import sys\n",
    "sys.path.insert(0, \"../..\")\n",
    "\n",
    "from src.d00_utils import helpers, process_tyt_dataset"
   ]
  },
  {
   "cell_type": "code",
   "execution_count": 3,
   "id": "3d7f5a69-747e-44d5-b0b9-f969901b3fb8",
   "metadata": {
    "pycharm": {
     "is_executing": true
    }
   },
   "outputs": [
    {
     "data": {
      "text/html": [
       "<div>\n",
       "<style scoped>\n",
       "    .dataframe tbody tr th:only-of-type {\n",
       "        vertical-align: middle;\n",
       "    }\n",
       "\n",
       "    .dataframe tbody tr th {\n",
       "        vertical-align: top;\n",
       "    }\n",
       "\n",
       "    .dataframe thead th {\n",
       "        text-align: right;\n",
       "    }\n",
       "</style>\n",
       "<table border=\"1\" class=\"dataframe\">\n",
       "  <thead>\n",
       "    <tr style=\"text-align: right;\">\n",
       "      <th></th>\n",
       "      <th>user_id</th>\n",
       "      <th>created_at</th>\n",
       "      <th>question1</th>\n",
       "      <th>question2</th>\n",
       "      <th>question3</th>\n",
       "      <th>question4</th>\n",
       "      <th>question5</th>\n",
       "      <th>question6</th>\n",
       "      <th>question7</th>\n",
       "    </tr>\n",
       "  </thead>\n",
       "  <tbody>\n",
       "    <tr>\n",
       "      <th>0</th>\n",
       "      <td>NaN</td>\n",
       "      <td>2013-07-18 14:14:32</td>\n",
       "      <td>0.0</td>\n",
       "      <td>0.0</td>\n",
       "      <td>0.170818</td>\n",
       "      <td>0.666667</td>\n",
       "      <td>0.25</td>\n",
       "      <td>0.241993</td>\n",
       "      <td>0.343416</td>\n",
       "    </tr>\n",
       "    <tr>\n",
       "      <th>1</th>\n",
       "      <td>NaN</td>\n",
       "      <td>2013-07-18 14:14:34</td>\n",
       "      <td>0.0</td>\n",
       "      <td>0.0</td>\n",
       "      <td>0.170818</td>\n",
       "      <td>0.666667</td>\n",
       "      <td>0.25</td>\n",
       "      <td>0.241993</td>\n",
       "      <td>0.343416</td>\n",
       "    </tr>\n",
       "    <tr>\n",
       "      <th>2</th>\n",
       "      <td>NaN</td>\n",
       "      <td>2013-07-18 14:14:35</td>\n",
       "      <td>0.0</td>\n",
       "      <td>0.0</td>\n",
       "      <td>0.170818</td>\n",
       "      <td>0.666667</td>\n",
       "      <td>0.25</td>\n",
       "      <td>0.241993</td>\n",
       "      <td>0.343416</td>\n",
       "    </tr>\n",
       "    <tr>\n",
       "      <th>3</th>\n",
       "      <td>NaN</td>\n",
       "      <td>2013-07-18 14:14:35</td>\n",
       "      <td>0.0</td>\n",
       "      <td>0.0</td>\n",
       "      <td>0.170818</td>\n",
       "      <td>0.666667</td>\n",
       "      <td>0.25</td>\n",
       "      <td>0.241993</td>\n",
       "      <td>0.343416</td>\n",
       "    </tr>\n",
       "    <tr>\n",
       "      <th>4</th>\n",
       "      <td>NaN</td>\n",
       "      <td>2013-07-26 07:40:23</td>\n",
       "      <td>0.0</td>\n",
       "      <td>0.0</td>\n",
       "      <td>0.170818</td>\n",
       "      <td>0.666667</td>\n",
       "      <td>0.25</td>\n",
       "      <td>0.241993</td>\n",
       "      <td>0.343416</td>\n",
       "    </tr>\n",
       "  </tbody>\n",
       "</table>\n",
       "</div>"
      ],
      "text/plain": [
       "   user_id          created_at  question1  question2  question3  question4  \\\n",
       "0      NaN 2013-07-18 14:14:32        0.0        0.0   0.170818   0.666667   \n",
       "1      NaN 2013-07-18 14:14:34        0.0        0.0   0.170818   0.666667   \n",
       "2      NaN 2013-07-18 14:14:35        0.0        0.0   0.170818   0.666667   \n",
       "3      NaN 2013-07-18 14:14:35        0.0        0.0   0.170818   0.666667   \n",
       "4      NaN 2013-07-26 07:40:23        0.0        0.0   0.170818   0.666667   \n",
       "\n",
       "   question5  question6  question7  \n",
       "0       0.25   0.241993   0.343416  \n",
       "1       0.25   0.241993   0.343416  \n",
       "2       0.25   0.241993   0.343416  \n",
       "3       0.25   0.241993   0.343416  \n",
       "4       0.25   0.241993   0.343416  "
      ]
     },
     "execution_count": 3,
     "metadata": {},
     "output_type": "execute_result"
    }
   ],
   "source": [
    "# read data\n",
    "tyt_all = pd.read_csv(\"../../data/d01_raw/tyt/22-10-24_standardanswers.csv\")\n",
    "KEEP_COLUMNS = ['user_id','created_at','question1','question2','question3','question4','question5','question6','question7']\n",
    "tyt_raw = tyt_all[KEEP_COLUMNS]\n",
    "tyt_raw.loc[:,'created_at'] = pd.to_datetime(tyt_raw.created_at, format=\"%Y-%m-%d %H:%M:%S\")\n",
    "tyt_raw.head()"
   ]
  },
  {
   "cell_type": "code",
   "execution_count": 4,
   "id": "eb28ecb8",
   "metadata": {
    "pycharm": {
     "is_executing": true
    }
   },
   "outputs": [
    {
     "data": {
      "text/html": [
       "<div>\n",
       "<style scoped>\n",
       "    .dataframe tbody tr th:only-of-type {\n",
       "        vertical-align: middle;\n",
       "    }\n",
       "\n",
       "    .dataframe tbody tr th {\n",
       "        vertical-align: top;\n",
       "    }\n",
       "\n",
       "    .dataframe thead th {\n",
       "        text-align: right;\n",
       "    }\n",
       "</style>\n",
       "<table border=\"1\" class=\"dataframe\">\n",
       "  <thead>\n",
       "    <tr style=\"text-align: right;\">\n",
       "      <th></th>\n",
       "      <th>Unnamed: 0</th>\n",
       "      <th>id</th>\n",
       "      <th>user_id</th>\n",
       "      <th>question1</th>\n",
       "      <th>question2</th>\n",
       "      <th>question3</th>\n",
       "      <th>question4</th>\n",
       "      <th>question5</th>\n",
       "      <th>question6</th>\n",
       "      <th>question7</th>\n",
       "      <th>question8</th>\n",
       "      <th>soundlevel</th>\n",
       "      <th>save_date</th>\n",
       "      <th>notification_date</th>\n",
       "      <th>autosaved</th>\n",
       "      <th>notification_fixed</th>\n",
       "      <th>created_at</th>\n",
       "      <th>updated_at</th>\n",
       "      <th>user_agent</th>\n",
       "      <th>user_id_reference</th>\n",
       "    </tr>\n",
       "  </thead>\n",
       "  <tbody>\n",
       "    <tr>\n",
       "      <th>0</th>\n",
       "      <td>0</td>\n",
       "      <td>92</td>\n",
       "      <td>NaN</td>\n",
       "      <td>0.0</td>\n",
       "      <td>0.0</td>\n",
       "      <td>0.170818</td>\n",
       "      <td>0.666667</td>\n",
       "      <td>0.25</td>\n",
       "      <td>0.241993</td>\n",
       "      <td>0.343416</td>\n",
       "      <td>NaN</td>\n",
       "      <td>0.0</td>\n",
       "      <td>2013-07-15 20:48:00</td>\n",
       "      <td>NaN</td>\n",
       "      <td>NaN</td>\n",
       "      <td>NaN</td>\n",
       "      <td>2013-07-18 14:14:32</td>\n",
       "      <td>2013-07-18 14:14:32</td>\n",
       "      <td>NaN</td>\n",
       "      <td>NaN</td>\n",
       "    </tr>\n",
       "    <tr>\n",
       "      <th>1</th>\n",
       "      <td>1</td>\n",
       "      <td>93</td>\n",
       "      <td>NaN</td>\n",
       "      <td>0.0</td>\n",
       "      <td>0.0</td>\n",
       "      <td>0.170818</td>\n",
       "      <td>0.666667</td>\n",
       "      <td>0.25</td>\n",
       "      <td>0.241993</td>\n",
       "      <td>0.343416</td>\n",
       "      <td>NaN</td>\n",
       "      <td>0.0</td>\n",
       "      <td>2013-07-15 20:48:00</td>\n",
       "      <td>NaN</td>\n",
       "      <td>NaN</td>\n",
       "      <td>NaN</td>\n",
       "      <td>2013-07-18 14:14:34</td>\n",
       "      <td>2013-07-18 14:14:34</td>\n",
       "      <td>NaN</td>\n",
       "      <td>NaN</td>\n",
       "    </tr>\n",
       "    <tr>\n",
       "      <th>2</th>\n",
       "      <td>2</td>\n",
       "      <td>94</td>\n",
       "      <td>NaN</td>\n",
       "      <td>0.0</td>\n",
       "      <td>0.0</td>\n",
       "      <td>0.170818</td>\n",
       "      <td>0.666667</td>\n",
       "      <td>0.25</td>\n",
       "      <td>0.241993</td>\n",
       "      <td>0.343416</td>\n",
       "      <td>NaN</td>\n",
       "      <td>0.0</td>\n",
       "      <td>2013-07-15 20:48:00</td>\n",
       "      <td>NaN</td>\n",
       "      <td>NaN</td>\n",
       "      <td>NaN</td>\n",
       "      <td>2013-07-18 14:14:35</td>\n",
       "      <td>2013-07-18 14:14:35</td>\n",
       "      <td>NaN</td>\n",
       "      <td>NaN</td>\n",
       "    </tr>\n",
       "    <tr>\n",
       "      <th>3</th>\n",
       "      <td>3</td>\n",
       "      <td>95</td>\n",
       "      <td>NaN</td>\n",
       "      <td>0.0</td>\n",
       "      <td>0.0</td>\n",
       "      <td>0.170818</td>\n",
       "      <td>0.666667</td>\n",
       "      <td>0.25</td>\n",
       "      <td>0.241993</td>\n",
       "      <td>0.343416</td>\n",
       "      <td>NaN</td>\n",
       "      <td>0.0</td>\n",
       "      <td>2013-07-15 20:48:00</td>\n",
       "      <td>NaN</td>\n",
       "      <td>NaN</td>\n",
       "      <td>NaN</td>\n",
       "      <td>2013-07-18 14:14:35</td>\n",
       "      <td>2013-07-18 14:14:35</td>\n",
       "      <td>NaN</td>\n",
       "      <td>NaN</td>\n",
       "    </tr>\n",
       "    <tr>\n",
       "      <th>4</th>\n",
       "      <td>4</td>\n",
       "      <td>395</td>\n",
       "      <td>NaN</td>\n",
       "      <td>0.0</td>\n",
       "      <td>0.0</td>\n",
       "      <td>0.170818</td>\n",
       "      <td>0.666667</td>\n",
       "      <td>0.25</td>\n",
       "      <td>0.241993</td>\n",
       "      <td>0.343416</td>\n",
       "      <td>NaN</td>\n",
       "      <td>0.0</td>\n",
       "      <td>2013-07-15 20:48:00</td>\n",
       "      <td>NaN</td>\n",
       "      <td>NaN</td>\n",
       "      <td>NaN</td>\n",
       "      <td>2013-07-26 07:40:23</td>\n",
       "      <td>2013-07-26 07:40:23</td>\n",
       "      <td>NaN</td>\n",
       "      <td>NaN</td>\n",
       "    </tr>\n",
       "  </tbody>\n",
       "</table>\n",
       "</div>"
      ],
      "text/plain": [
       "   Unnamed: 0   id  user_id  question1  question2  question3  question4  \\\n",
       "0           0   92      NaN        0.0        0.0   0.170818   0.666667   \n",
       "1           1   93      NaN        0.0        0.0   0.170818   0.666667   \n",
       "2           2   94      NaN        0.0        0.0   0.170818   0.666667   \n",
       "3           3   95      NaN        0.0        0.0   0.170818   0.666667   \n",
       "4           4  395      NaN        0.0        0.0   0.170818   0.666667   \n",
       "\n",
       "   question5  question6  question7  question8  soundlevel  \\\n",
       "0       0.25   0.241993   0.343416        NaN         0.0   \n",
       "1       0.25   0.241993   0.343416        NaN         0.0   \n",
       "2       0.25   0.241993   0.343416        NaN         0.0   \n",
       "3       0.25   0.241993   0.343416        NaN         0.0   \n",
       "4       0.25   0.241993   0.343416        NaN         0.0   \n",
       "\n",
       "             save_date notification_date  autosaved  notification_fixed  \\\n",
       "0  2013-07-15 20:48:00               NaN        NaN                 NaN   \n",
       "1  2013-07-15 20:48:00               NaN        NaN                 NaN   \n",
       "2  2013-07-15 20:48:00               NaN        NaN                 NaN   \n",
       "3  2013-07-15 20:48:00               NaN        NaN                 NaN   \n",
       "4  2013-07-15 20:48:00               NaN        NaN                 NaN   \n",
       "\n",
       "            created_at           updated_at user_agent  user_id_reference  \n",
       "0  2013-07-18 14:14:32  2013-07-18 14:14:32        NaN                NaN  \n",
       "1  2013-07-18 14:14:34  2013-07-18 14:14:34        NaN                NaN  \n",
       "2  2013-07-18 14:14:35  2013-07-18 14:14:35        NaN                NaN  \n",
       "3  2013-07-18 14:14:35  2013-07-18 14:14:35        NaN                NaN  \n",
       "4  2013-07-26 07:40:23  2013-07-26 07:40:23        NaN                NaN  "
      ]
     },
     "execution_count": 4,
     "metadata": {},
     "output_type": "execute_result"
    }
   ],
   "source": [
    "tyt_all.head()"
   ]
  },
  {
   "cell_type": "markdown",
   "id": "45607e3f",
   "metadata": {},
   "source": [
    "## Statistical overview\n",
    "Here we calculate statistics for both the dataset overall and the baseline questionaires"
   ]
  },
  {
   "cell_type": "code",
   "execution_count": 5,
   "id": "8ab09e39",
   "metadata": {
    "pycharm": {
     "is_executing": true
    }
   },
   "outputs": [],
   "source": [
    "result = dict()"
   ]
  },
  {
   "cell_type": "markdown",
   "id": "f3f0def3-2c98-4c44-8019-b1cd20988a89",
   "metadata": {},
   "source": [
    "### Number of users"
   ]
  },
  {
   "cell_type": "code",
   "execution_count": 6,
   "id": "568091e0-e1b3-4635-b486-4fa2dc62285e",
   "metadata": {
    "pycharm": {
     "is_executing": true
    }
   },
   "outputs": [
    {
     "name": "stdout",
     "output_type": "stream",
     "text": [
      "Number of user:\t 3303\n"
     ]
    }
   ],
   "source": [
    "print('Number of user:\\t', tyt_all.user_id.nunique())\n",
    "result['n_users'] = tyt_all.user_id.nunique()"
   ]
  },
  {
   "cell_type": "markdown",
   "id": "c88b21e2",
   "metadata": {},
   "source": [
    "### Number of assessments"
   ]
  },
  {
   "cell_type": "code",
   "execution_count": 7,
   "id": "ac6b3ae0",
   "metadata": {
    "pycharm": {
     "is_executing": true
    }
   },
   "outputs": [
    {
     "name": "stdout",
     "output_type": "stream",
     "text": [
      "Number of assessments:\t 110983\n"
     ]
    }
   ],
   "source": [
    "print('Number of assessments:\\t', tyt_all.id.nunique())\n",
    "result['n_assessments'] = tyt_all.id.nunique()"
   ]
  },
  {
   "cell_type": "markdown",
   "id": "25895a54-a6ce-4831-bde6-1b62de86c3b9",
   "metadata": {},
   "source": [
    "### Date Range of assessments"
   ]
  },
  {
   "cell_type": "code",
   "execution_count": 8,
   "id": "b2029998-15a8-4e86-8fa6-82085d4e769e",
   "metadata": {
    "pycharm": {
     "is_executing": true
    }
   },
   "outputs": [
    {
     "name": "stdout",
     "output_type": "stream",
     "text": [
      "Start:\t 2013-07-18\n",
      "End:\t 2022-09-30\n",
      "\n",
      "Date Range in\n",
      "Years:\t 9.205479452054794\n",
      "Months:\t 280.0\n",
      "Days:\t 3360\n"
     ]
    }
   ],
   "source": [
    "result['First assessment from'] = tyt_raw.created_at.min().date()\n",
    "result['Latest assessment from'] = tyt_raw.created_at.max().date()\n",
    "\n",
    "print(\"Start:\\t\", tyt_raw.created_at.min().date())\n",
    "print(\"End:\\t\", tyt_raw.created_at.max().date())\n",
    "\n",
    "delta = (tyt_raw.created_at.max() - tyt_raw.created_at.min())\n",
    "\n",
    "print('\\nDate Range in')\n",
    "print('Years:\\t', delta.days/365)\n",
    "print('Months:\\t', delta.days/12)\n",
    "print('Days:\\t', delta.days)\n",
    "\n",
    "result['Time range in days'] = delta.days"
   ]
  },
  {
   "cell_type": "markdown",
   "id": "d7e2fb96",
   "metadata": {},
   "source": [
    "### Schedule pattern"
   ]
  },
  {
   "cell_type": "code",
   "execution_count": 9,
   "id": "7da63470",
   "metadata": {},
   "outputs": [
    {
     "data": {
      "text/plain": [
       "0        2013-07-18 14:14:32\n",
       "1        2013-07-18 14:14:34\n",
       "2        2013-07-18 14:14:35\n",
       "3        2013-07-18 14:14:35\n",
       "4        2013-07-26 07:40:23\n",
       "                 ...        \n",
       "110978   2022-09-30 04:58:13\n",
       "110979   2022-09-30 05:30:31\n",
       "110980   2022-09-30 07:33:48\n",
       "110981   2022-09-30 07:41:35\n",
       "110982   2022-09-30 12:12:40\n",
       "Name: created_at, Length: 110983, dtype: datetime64[ns]"
      ]
     },
     "execution_count": 9,
     "metadata": {},
     "output_type": "execute_result"
    }
   ],
   "source": [
    "tyt_raw.created_at"
   ]
  },
  {
   "cell_type": "code",
   "execution_count": 10,
   "id": "478f764c",
   "metadata": {},
   "outputs": [
    {
     "data": {
      "text/plain": [
       "{'Median hours between two assessments': 11.246527777777779,\n",
       " 'Median days between two assessments': 0.46860532407407407,\n",
       " 'std_hours': 1003.5619887715163,\n",
       " 'std_days': 41.81508286547985}"
      ]
     },
     "execution_count": 10,
     "metadata": {},
     "output_type": "execute_result"
    }
   ],
   "source": [
    "tyt_copy = tyt_raw.copy()\n",
    "tyt_copy.created_at = tyt_raw.created_at.dt.strftime('%Y-%m-%d %H:%M:%S')\n",
    "res = helpers.find_schedule_pattern(tyt_copy)\n",
    "result.update(res)\n",
    "res"
   ]
  },
  {
   "attachments": {
    "image.png": {
     "image/png": "[encoded data removed]"
    }
   },
   "cell_type": "markdown",
   "id": "0674b7d3",
   "metadata": {},
   "source": [
    "![image.png](attachment:image.png)\n",
    "\n",
    "Note: Although it's a daily questionnaire, the questionnaire can be filled out more than once per day. Here an example of userid `2427` of the database."
   ]
  },
  {
   "cell_type": "markdown",
   "id": "daf70141-6ac5-4c9b-89d9-2c8ba90e7b83",
   "metadata": {},
   "source": [
    "### Distribution of filled out questionnaires"
   ]
  },
  {
   "cell_type": "code",
   "execution_count": 11,
   "id": "4f28f26d-0e71-4b1e-b567-d88817d186fa",
   "metadata": {
    "pycharm": {
     "is_executing": true
    }
   },
   "outputs": [
    {
     "name": "stdout",
     "output_type": "stream",
     "text": [
      "(0, 1]           1017\n",
      "(1, 2]            456\n",
      "(2, 3]            266\n",
      "(3, 5]            280\n",
      "(5, 10]           294\n",
      "(10, 100]         768\n",
      "(100, 1000]       209\n",
      "(1000, 10000]      13\n",
      "Name: user_id, dtype: int64\n"
     ]
    }
   ],
   "source": [
    "bins = [0, 1, 2, 3, 5, 10, 100, 1000, 10000]\n",
    "\n",
    "ser = pd.cut(tyt_raw.user_id.value_counts(), bins = bins).value_counts().sort_index()\n",
    "print(ser)\n",
    "result.update(dict(ser))"
   ]
  },
  {
   "cell_type": "markdown",
   "id": "e9473f3d",
   "metadata": {},
   "source": [
    "As you can see, unlike the UNITI dataset, the TYT dataset shows a much more sharp drop-off curve for how long users last before they give up...\n",
    "This is probably due to the fact that most UNITI App users are recruited by doctors for the UNITI RCT"
   ]
  },
  {
   "cell_type": "markdown",
   "id": "04e28ccc-36d1-424f-be88-2a27d2e67600",
   "metadata": {},
   "source": [
    "### What about at the user level?"
   ]
  },
  {
   "cell_type": "code",
   "execution_count": 12,
   "id": "eada15d8-43d5-437d-90ee-9643209e4a37",
   "metadata": {
    "pycharm": {
     "is_executing": true
    }
   },
   "outputs": [],
   "source": [
    "tyt_raw['date'] = tyt_raw['created_at'].map(lambda x: x.date())\n",
    "tyt_interaction_intensity_userlevel = pd.DataFrame(tyt_raw.groupby('user_id').agg({'date':['min','max','nunique'], 'user_id':'count'}).reset_index().values, columns = ['user_id','date_min','date_max','n_unique_days', 'n_assessments'])\n",
    "tyt_interaction_intensity_userlevel['date_min'] = pd.to_datetime(tyt_interaction_intensity_userlevel.date_min, format='%Y-%m-%d')\n",
    "tyt_interaction_intensity_userlevel['date_max'] = pd.to_datetime(tyt_interaction_intensity_userlevel.date_max, format='%Y-%m-%d')\n",
    "tyt_interaction_intensity_userlevel['n_unique_days'] = tyt_interaction_intensity_userlevel['n_unique_days'].astype(int)\n",
    "tyt_interaction_intensity_userlevel['n_assessments'] = tyt_interaction_intensity_userlevel['n_assessments'].astype(int)\n",
    "tyt_interaction_desc = tyt_interaction_intensity_userlevel.describe(datetime_is_numeric=True)"
   ]
  },
  {
   "cell_type": "code",
   "execution_count": 13,
   "id": "7bff821e-1747-4593-b95e-b0f05223a2f1",
   "metadata": {
    "pycharm": {
     "is_executing": true
    }
   },
   "outputs": [
    {
     "name": "stdout",
     "output_type": "stream",
     "text": [
      "Min. number of unique days of data from a user is: 1.0 days \n",
      "25% of the users have <= 1.0 days \n",
      "50% of the users have <= 2.0 days \n",
      "75% of the users have <= 8.0 days, and \n",
      "Max. number of unique days of data from a user is: 1849.0\n"
     ]
    }
   ],
   "source": [
    "print(\"Min. number of unique days of data from a user is:\", tyt_interaction_desc['n_unique_days']['min'],\n",
    "      \"days \\n25% of the users have <=\",tyt_interaction_desc['n_unique_days']['25%'],\n",
    "      \"days \\n50% of the users have <=\",tyt_interaction_desc['n_unique_days']['50%'],\n",
    "      \"days \\n75% of the users have <=\",tyt_interaction_desc['n_unique_days']['75%'],\n",
    "      \"days, and \\nMax. number of unique days of data from a user is:\",tyt_interaction_desc['n_unique_days']['max'])"
   ]
  },
  {
   "cell_type": "code",
   "execution_count": 14,
   "id": "2f5d8fa5-dd7a-4f0e-8039-0b9a5f9aac6c",
   "metadata": {
    "pycharm": {
     "is_executing": true
    }
   },
   "outputs": [
    {
     "name": "stdout",
     "output_type": "stream",
     "text": [
      "Min. number of submitted assessments from a user is: 1.0 assessments \n",
      "25% of the users have <= 1.0 assessments \n",
      "50% of the users have <= 3.0 assessments \n",
      "75% of the users have <= 16.0 assessments, and \n",
      "Max. number of submitted assessments from a user is: 6815.0\n"
     ]
    }
   ],
   "source": [
    "print(\"Min. number of submitted assessments from a user is:\", tyt_interaction_desc['n_assessments']['min'],\n",
    "      \"assessments \\n25% of the users have <=\",tyt_interaction_desc['n_assessments']['25%'],\n",
    "      \"assessments \\n50% of the users have <=\",tyt_interaction_desc['n_assessments']['50%'],\n",
    "      \"assessments \\n75% of the users have <=\",tyt_interaction_desc['n_assessments']['75%'],\n",
    "      \"assessments, and \\nMax. number of submitted assessments from a user is:\",tyt_interaction_desc['n_assessments']['max'])"
   ]
  },
  {
   "cell_type": "markdown",
   "id": "1855f3d5",
   "metadata": {},
   "source": [
    "### Results"
   ]
  },
  {
   "cell_type": "code",
   "execution_count": 15,
   "id": "b8a025ba",
   "metadata": {
    "pycharm": {
     "is_executing": true
    }
   },
   "outputs": [
    {
     "data": {
      "text/plain": [
       "{'n_users': 3303,\n",
       " 'n_assessments': 110983,\n",
       " 'First assessment from': datetime.date(2013, 7, 18),\n",
       " 'Latest assessment from': datetime.date(2022, 9, 30),\n",
       " 'Time range in days': 3360,\n",
       " 'Median hours between two assessments': 11.246527777777779,\n",
       " 'Median days between two assessments': 0.46860532407407407,\n",
       " 'std_hours': 1003.5619887715163,\n",
       " 'std_days': 41.81508286547985,\n",
       " Interval(0, 1, closed='right'): 1017,\n",
       " Interval(1, 2, closed='right'): 456,\n",
       " Interval(2, 3, closed='right'): 266,\n",
       " Interval(3, 5, closed='right'): 280,\n",
       " Interval(5, 10, closed='right'): 294,\n",
       " Interval(10, 100, closed='right'): 768,\n",
       " Interval(100, 1000, closed='right'): 209,\n",
       " Interval(1000, 10000, closed='right'): 13}"
      ]
     },
     "execution_count": 15,
     "metadata": {},
     "output_type": "execute_result"
    }
   ],
   "source": [
    "result"
   ]
  },
  {
   "cell_type": "markdown",
   "id": "c1141323-d1cd-4e9d-a266-3f6cce219a48",
   "metadata": {},
   "source": [
    "## Pointers for Target variable"
   ]
  },
  {
   "cell_type": "markdown",
   "id": "d3759bc5-bf5b-4ba6-ac95-c619966d40d7",
   "metadata": {
    "jp-MarkdownHeadingCollapsed": true,
    "tags": []
   },
   "source": [
    "###  A candidate for target variable (Regression) is \"question3\"\n",
    "This is because it is a measure of the distress caused by the disease, and because there is no clear treatment that reliably reduces symptom severity, treating the distress caused by the disease (like in the case of chronic pain) is considered the thing to do, rather than treat the symptom severity."
   ]
  },
  {
   "cell_type": "markdown",
   "id": "cd79edd9",
   "metadata": {},
   "source": [
    "###  If classification, target variable (\"question3\") discretisation can be attempted:\n",
    "(target in mean +/- user-defined noise threshold is \"no change\",\n",
    "target > mean + threashold is \"worse\",\n",
    "mean - threshold is \"better\")"
   ]
  },
  {
   "cell_type": "markdown",
   "id": "f3d1e63b-c94d-4db5-a518-d71c6982d3bf",
   "metadata": {},
   "source": [
    "### Candidate for features is all other questions excluding target:\n",
    "\n",
    "[question1,question2,question4,question5,question6, question7]"
   ]
  },
  {
   "cell_type": "markdown",
   "id": "40542130-5742-4214-8c93-bb75488a5bbd",
   "metadata": {},
   "source": [
    "###  Misc. tips\n",
    "\n",
    "#### It might be useful to exclude the single binary variable question 1, which asks if the user hears tinnitus right now. It is observed that users are filling loudness and distress as nonzero even when they answer question 1 as \"NO\".\n",
    "\n",
    "For example, see below a comparison of the values for the other 6 questions when NO was the answer to question1.\n",
    "\n",
    "The table below that shows, however, that the values for these 6 questions are much lower than usual... So, this decision is a bit complicated.... But it is possible to argue for either decision (include / exclude this var)"
   ]
  },
  {
   "cell_type": "code",
   "execution_count": 16,
   "id": "a91bf99c-6e37-43a3-b94f-f29c623e74ce",
   "metadata": {
    "pycharm": {
     "is_executing": true
    }
   },
   "outputs": [
    {
     "data": {
      "text/html": [
       "<div>\n",
       "<style scoped>\n",
       "    .dataframe tbody tr th:only-of-type {\n",
       "        vertical-align: middle;\n",
       "    }\n",
       "\n",
       "    .dataframe tbody tr th {\n",
       "        vertical-align: top;\n",
       "    }\n",
       "\n",
       "    .dataframe thead th {\n",
       "        text-align: right;\n",
       "    }\n",
       "</style>\n",
       "<table border=\"1\" class=\"dataframe\">\n",
       "  <thead>\n",
       "    <tr style=\"text-align: right;\">\n",
       "      <th></th>\n",
       "      <th>question1</th>\n",
       "      <th>question2</th>\n",
       "      <th>question3</th>\n",
       "      <th>question4</th>\n",
       "      <th>question5</th>\n",
       "      <th>question6</th>\n",
       "      <th>question7</th>\n",
       "    </tr>\n",
       "  </thead>\n",
       "  <tbody>\n",
       "    <tr>\n",
       "      <th>count</th>\n",
       "      <td>22184.0</td>\n",
       "      <td>20867.000000</td>\n",
       "      <td>20753.000000</td>\n",
       "      <td>21679.000000</td>\n",
       "      <td>21583.000000</td>\n",
       "      <td>21053.000000</td>\n",
       "      <td>21153.000000</td>\n",
       "    </tr>\n",
       "    <tr>\n",
       "      <th>mean</th>\n",
       "      <td>0.0</td>\n",
       "      <td>0.248225</td>\n",
       "      <td>0.187638</td>\n",
       "      <td>0.614473</td>\n",
       "      <td>0.263132</td>\n",
       "      <td>0.214860</td>\n",
       "      <td>0.590614</td>\n",
       "    </tr>\n",
       "    <tr>\n",
       "      <th>std</th>\n",
       "      <td>0.0</td>\n",
       "      <td>0.245586</td>\n",
       "      <td>0.203526</td>\n",
       "      <td>0.191691</td>\n",
       "      <td>0.226620</td>\n",
       "      <td>0.205620</td>\n",
       "      <td>0.312521</td>\n",
       "    </tr>\n",
       "    <tr>\n",
       "      <th>min</th>\n",
       "      <td>0.0</td>\n",
       "      <td>0.000000</td>\n",
       "      <td>0.000000</td>\n",
       "      <td>0.000000</td>\n",
       "      <td>0.000000</td>\n",
       "      <td>0.000000</td>\n",
       "      <td>0.000000</td>\n",
       "    </tr>\n",
       "    <tr>\n",
       "      <th>25%</th>\n",
       "      <td>0.0</td>\n",
       "      <td>0.050000</td>\n",
       "      <td>0.030000</td>\n",
       "      <td>0.500000</td>\n",
       "      <td>0.120000</td>\n",
       "      <td>0.050000</td>\n",
       "      <td>0.330000</td>\n",
       "    </tr>\n",
       "    <tr>\n",
       "      <th>50%</th>\n",
       "      <td>0.0</td>\n",
       "      <td>0.172794</td>\n",
       "      <td>0.125000</td>\n",
       "      <td>0.620000</td>\n",
       "      <td>0.250000</td>\n",
       "      <td>0.161765</td>\n",
       "      <td>0.630000</td>\n",
       "    </tr>\n",
       "    <tr>\n",
       "      <th>75%</th>\n",
       "      <td>0.0</td>\n",
       "      <td>0.378676</td>\n",
       "      <td>0.272059</td>\n",
       "      <td>0.750000</td>\n",
       "      <td>0.375000</td>\n",
       "      <td>0.316177</td>\n",
       "      <td>0.870000</td>\n",
       "    </tr>\n",
       "    <tr>\n",
       "      <th>max</th>\n",
       "      <td>0.0</td>\n",
       "      <td>1.000000</td>\n",
       "      <td>1.000000</td>\n",
       "      <td>1.000000</td>\n",
       "      <td>1.000000</td>\n",
       "      <td>1.000000</td>\n",
       "      <td>1.000000</td>\n",
       "    </tr>\n",
       "  </tbody>\n",
       "</table>\n",
       "</div>"
      ],
      "text/plain": [
       "       question1     question2     question3     question4     question5  \\\n",
       "count    22184.0  20867.000000  20753.000000  21679.000000  21583.000000   \n",
       "mean         0.0      0.248225      0.187638      0.614473      0.263132   \n",
       "std          0.0      0.245586      0.203526      0.191691      0.226620   \n",
       "min          0.0      0.000000      0.000000      0.000000      0.000000   \n",
       "25%          0.0      0.050000      0.030000      0.500000      0.120000   \n",
       "50%          0.0      0.172794      0.125000      0.620000      0.250000   \n",
       "75%          0.0      0.378676      0.272059      0.750000      0.375000   \n",
       "max          0.0      1.000000      1.000000      1.000000      1.000000   \n",
       "\n",
       "          question6     question7  \n",
       "count  21053.000000  21153.000000  \n",
       "mean       0.214860      0.590614  \n",
       "std        0.205620      0.312521  \n",
       "min        0.000000      0.000000  \n",
       "25%        0.050000      0.330000  \n",
       "50%        0.161765      0.630000  \n",
       "75%        0.316177      0.870000  \n",
       "max        1.000000      1.000000  "
      ]
     },
     "execution_count": 16,
     "metadata": {},
     "output_type": "execute_result"
    }
   ],
   "source": [
    "tyt_raw[tyt_raw.question1 == 0].drop('user_id', axis=1).describe()"
   ]
  },
  {
   "cell_type": "code",
   "execution_count": 17,
   "id": "d60d3ddd-209d-4b28-9cd3-5178bf0feeae",
   "metadata": {
    "pycharm": {
     "is_executing": true
    }
   },
   "outputs": [
    {
     "data": {
      "text/html": [
       "<div>\n",
       "<style scoped>\n",
       "    .dataframe tbody tr th:only-of-type {\n",
       "        vertical-align: middle;\n",
       "    }\n",
       "\n",
       "    .dataframe tbody tr th {\n",
       "        vertical-align: top;\n",
       "    }\n",
       "\n",
       "    .dataframe thead th {\n",
       "        text-align: right;\n",
       "    }\n",
       "</style>\n",
       "<table border=\"1\" class=\"dataframe\">\n",
       "  <thead>\n",
       "    <tr style=\"text-align: right;\">\n",
       "      <th></th>\n",
       "      <th>question1</th>\n",
       "      <th>question2</th>\n",
       "      <th>question3</th>\n",
       "      <th>question4</th>\n",
       "      <th>question5</th>\n",
       "      <th>question6</th>\n",
       "      <th>question7</th>\n",
       "    </tr>\n",
       "  </thead>\n",
       "  <tbody>\n",
       "    <tr>\n",
       "      <th>count</th>\n",
       "      <td>87160.0</td>\n",
       "      <td>88161.000000</td>\n",
       "      <td>82311.000000</td>\n",
       "      <td>86477.000000</td>\n",
       "      <td>85133.000000</td>\n",
       "      <td>80979.000000</td>\n",
       "      <td>84686.000000</td>\n",
       "    </tr>\n",
       "    <tr>\n",
       "      <th>mean</th>\n",
       "      <td>1.0</td>\n",
       "      <td>0.532222</td>\n",
       "      <td>0.418216</td>\n",
       "      <td>0.541280</td>\n",
       "      <td>0.236760</td>\n",
       "      <td>0.291427</td>\n",
       "      <td>0.591452</td>\n",
       "    </tr>\n",
       "    <tr>\n",
       "      <th>std</th>\n",
       "      <td>0.0</td>\n",
       "      <td>0.302344</td>\n",
       "      <td>0.286249</td>\n",
       "      <td>0.214534</td>\n",
       "      <td>0.223614</td>\n",
       "      <td>0.245846</td>\n",
       "      <td>0.320795</td>\n",
       "    </tr>\n",
       "    <tr>\n",
       "      <th>min</th>\n",
       "      <td>1.0</td>\n",
       "      <td>0.000000</td>\n",
       "      <td>0.000000</td>\n",
       "      <td>0.000000</td>\n",
       "      <td>0.000000</td>\n",
       "      <td>0.000000</td>\n",
       "      <td>0.000000</td>\n",
       "    </tr>\n",
       "    <tr>\n",
       "      <th>25%</th>\n",
       "      <td>1.0</td>\n",
       "      <td>0.280000</td>\n",
       "      <td>0.183823</td>\n",
       "      <td>0.500000</td>\n",
       "      <td>0.000000</td>\n",
       "      <td>0.090000</td>\n",
       "      <td>0.320000</td>\n",
       "    </tr>\n",
       "    <tr>\n",
       "      <th>50%</th>\n",
       "      <td>1.0</td>\n",
       "      <td>0.510000</td>\n",
       "      <td>0.378677</td>\n",
       "      <td>0.500000</td>\n",
       "      <td>0.250000</td>\n",
       "      <td>0.240000</td>\n",
       "      <td>0.610000</td>\n",
       "    </tr>\n",
       "    <tr>\n",
       "      <th>75%</th>\n",
       "      <td>1.0</td>\n",
       "      <td>0.790000</td>\n",
       "      <td>0.630000</td>\n",
       "      <td>0.750000</td>\n",
       "      <td>0.370000</td>\n",
       "      <td>0.433824</td>\n",
       "      <td>0.913603</td>\n",
       "    </tr>\n",
       "    <tr>\n",
       "      <th>max</th>\n",
       "      <td>1.0</td>\n",
       "      <td>1.000000</td>\n",
       "      <td>1.000000</td>\n",
       "      <td>1.000000</td>\n",
       "      <td>1.000000</td>\n",
       "      <td>1.000000</td>\n",
       "      <td>1.000000</td>\n",
       "    </tr>\n",
       "  </tbody>\n",
       "</table>\n",
       "</div>"
      ],
      "text/plain": [
       "       question1     question2     question3     question4     question5  \\\n",
       "count    87160.0  88161.000000  82311.000000  86477.000000  85133.000000   \n",
       "mean         1.0      0.532222      0.418216      0.541280      0.236760   \n",
       "std          0.0      0.302344      0.286249      0.214534      0.223614   \n",
       "min          1.0      0.000000      0.000000      0.000000      0.000000   \n",
       "25%          1.0      0.280000      0.183823      0.500000      0.000000   \n",
       "50%          1.0      0.510000      0.378677      0.500000      0.250000   \n",
       "75%          1.0      0.790000      0.630000      0.750000      0.370000   \n",
       "max          1.0      1.000000      1.000000      1.000000      1.000000   \n",
       "\n",
       "          question6     question7  \n",
       "count  80979.000000  84686.000000  \n",
       "mean       0.291427      0.591452  \n",
       "std        0.245846      0.320795  \n",
       "min        0.000000      0.000000  \n",
       "25%        0.090000      0.320000  \n",
       "50%        0.240000      0.610000  \n",
       "75%        0.433824      0.913603  \n",
       "max        1.000000      1.000000  "
      ]
     },
     "execution_count": 17,
     "metadata": {},
     "output_type": "execute_result"
    }
   ],
   "source": [
    "tyt_raw[tyt_raw.question1 != 0].drop('user_id', axis=1).describe()"
   ]
  },
  {
   "cell_type": "markdown",
   "id": "fbfbea94",
   "metadata": {},
   "source": [
    "## Baseline information"
   ]
  },
  {
   "cell_type": "code",
   "execution_count": 18,
   "id": "c4bd971e",
   "metadata": {},
   "outputs": [],
   "source": [
    "df = pd.read_csv('../../data/d01_raw/tyt/22-10-24_answers.csv', index_col='id', na_values=['??.??.????'])"
   ]
  },
  {
   "cell_type": "code",
   "execution_count": 19,
   "id": "258c3b91",
   "metadata": {},
   "outputs": [],
   "source": [
    "users_list = tyt_raw.user_id.dropna().unique()"
   ]
  },
  {
   "cell_type": "code",
   "execution_count": 20,
   "id": "deb97884",
   "metadata": {},
   "outputs": [],
   "source": [
    "def calculate_ages(users_list):\n",
    "    \"\"\"\n",
    "    Calculates the ages of a given user list for the TYT dataset\n",
    "    \"\"\"\n",
    "\n",
    "    user_filt = df.user_id.isin(users_list) # selects all users that are in the used dataset\n",
    "    q_filt = df.question_id==4 # filters for question \"Whats your birthdate?\"\n",
    "\n",
    "    dobs = df[(user_filt) & (q_filt)].answer # date of births = dobs\n",
    "    yobs = pd.to_datetime(dobs, format='%d.%m.%Y', errors='coerce')# year of births\n",
    "\n",
    "    df.created_at = pd.to_datetime(df.created_at)\n",
    "    timedelta = df.loc[yobs.index, 'created_at'] - yobs\n",
    "    ages = timedelta.dt.days/365.25\n",
    "\n",
    "    return ages"
   ]
  },
  {
   "cell_type": "markdown",
   "id": "aac65a2a",
   "metadata": {},
   "source": [
    "### Age distribution"
   ]
  },
  {
   "cell_type": "code",
   "execution_count": 21,
   "id": "8dd3e936",
   "metadata": {},
   "outputs": [
    {
     "name": "stdout",
     "output_type": "stream",
     "text": [
      "Ages Mean:\t 45.02832322905444\n",
      "Ages Std:\t 14.42746611499237\n"
     ]
    }
   ],
   "source": [
    "ages = calculate_ages(users_list)\n",
    "print('Ages Mean:\\t', ages.mean())\n",
    "print('Ages Std:\\t', ages.std())"
   ]
  },
  {
   "cell_type": "markdown",
   "id": "217b1a53",
   "metadata": {},
   "source": [
    "### Sex distribution"
   ]
  },
  {
   "cell_type": "code",
   "execution_count": 22,
   "id": "71ef80bd",
   "metadata": {},
   "outputs": [],
   "source": [
    "user_filt = df.user_id.isin(users_list) # selects all users that are in the used dataset\n",
    "q_filt = df.question_id==5 # filters for question \"Whats your gender?\"\n",
    "\n",
    "sex_s = df[(user_filt) & (q_filt)].answer # date of births = dobs"
   ]
  },
  {
   "cell_type": "code",
   "execution_count": 23,
   "id": "44939c00",
   "metadata": {},
   "outputs": [
    {
     "data": {
      "text/plain": [
       "Male      0.670462\n",
       "Female    0.329538\n",
       "Name: answer, dtype: float64"
      ]
     },
     "execution_count": 23,
     "metadata": {},
     "output_type": "execute_result"
    }
   ],
   "source": [
    "sex_s.value_counts(normalize=True)"
   ]
  },
  {
   "cell_type": "code",
   "execution_count": null,
   "id": "000eb2dd",
   "metadata": {},
   "outputs": [],
   "source": []
  }
 ],
 "metadata": {
  "kernelspec": {
   "display_name": "Python 3 (ipykernel)",
   "language": "python",
   "name": "python3"
  },
  "language_info": {
   "codemirror_mode": {
    "name": "ipython",
    "version": 3
   },
   "file_extension": ".py",
   "mimetype": "text/x-python",
   "name": "python",
   "nbconvert_exporter": "python",
   "pygments_lexer": "ipython3",
   "version": "3.11.1"
  }
 },
 "nbformat": 4,
 "nbformat_minor": 5
}
