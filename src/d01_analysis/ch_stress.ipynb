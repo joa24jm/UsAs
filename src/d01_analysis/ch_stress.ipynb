{
 "cells": [
  {
   "cell_type": "markdown",
   "id": "fe7447a2-c2f7-48a1-a094-6bfe12ba0185",
   "metadata": {
    "tags": []
   },
   "source": [
    "# Corona Health - Physiological Health Adults (`Heart`)"
   ]
  },
  {
   "cell_type": "markdown",
   "id": "aa7ce3f2-72c6-48de-beb5-a7ba3e8baddc",
   "metadata": {},
   "source": [
    "## Purpose of this Notebook\n",
    "- [ ] Clean the dataset and save cleaned version\n",
    "- [x] Get an statistical overview\n",
    "    - [x] How many users?\n",
    "    - [x] How many assessments (= filled out questionnaires)?\n",
    "    - [x] Date range of the dataset?\n",
    "    - [x] User-assessment distribution\n",
    "- [ ] Potential target for classification?\n",
    "- [ ] Potential features for classification?\n",
    "    \n",
    "    "
   ]
  },
  {
   "cell_type": "markdown",
   "id": "695d76d3-3b02-4e22-b64a-83df951d6925",
   "metadata": {},
   "source": [
    "## Preparation"
   ]
  },
  {
   "cell_type": "code",
   "execution_count": 1,
   "id": "404bfeb8-9eda-4fce-9fc1-e03e8f0411c3",
   "metadata": {},
   "outputs": [],
   "source": [
    "# imports\n",
    "import pandas as pd\n",
    "from datetime import date, datetime"
   ]
  },
  {
   "cell_type": "code",
   "execution_count": 2,
   "id": "a55c9f1c-615f-4dc6-a931-3d76a3af3b70",
   "metadata": {},
   "outputs": [],
   "source": [
    "# to import own modules, a workaround - assuming the curent working directory is the folder (your/local/path/UsAs/src/d01_analysis\n",
    "import sys\n",
    "sys.path.insert(0, \"../..\")\n",
    "\n",
    "from src.d00_utils import helpers"
   ]
  },
  {
   "cell_type": "code",
   "execution_count": 3,
   "id": "479c3c1e-9a21-46a5-889c-ba1a37bcfd35",
   "metadata": {},
   "outputs": [],
   "source": [
    "# read in dataframe\n",
    "# assuming current working directory is the folder (your/local/path/UsAs/src/d01_analysis)\n",
    "df = pd.read_csv('../../data/d01_raw/ch/22-10-05_rki_stress_followup.csv')\n",
    "df_baseline = pd.read_csv('../../data/d01_raw/ch/22-10-05_rki_stress_baseline.csv')"
   ]
  },
  {
   "cell_type": "markdown",
   "source": [
    "## Statistical overview\n",
    "Here we calculate statistics for both the dataset overall and the baseline questionaires"
   ],
   "metadata": {
    "collapsed": false
   }
  },
  {
   "cell_type": "code",
   "execution_count": 4,
   "id": "a906792b-03b0-4e84-91bd-66a20e25de5e",
   "metadata": {},
   "outputs": [],
   "source": [
    "# create result dict to save to disk\n",
    "result = dict()"
   ]
  },
  {
   "cell_type": "markdown",
   "source": [
    "### Number of users"
   ],
   "metadata": {
    "collapsed": false
   }
  },
  {
   "cell_type": "code",
   "execution_count": 5,
   "id": "6e0dbd13-3c1b-48f9-b792-676e4a2143e3",
   "metadata": {},
   "outputs": [
    {
     "name": "stdout",
     "output_type": "stream",
     "text": [
      "Number of user:\t 374\n"
     ]
    }
   ],
   "source": [
    "# Number of unique users\n",
    "print('Number of user:\\t', df.user_id.nunique())\n",
    "result['n_users'] = df.user_id.nunique()"
   ]
  },
  {
   "cell_type": "markdown",
   "source": [
    "### Number of assessments"
   ],
   "metadata": {
    "collapsed": false
   }
  },
  {
   "cell_type": "code",
   "execution_count": 6,
   "id": "998a5a64-c982-420b-89b6-a53ab2acd2ef",
   "metadata": {},
   "outputs": [
    {
     "name": "stdout",
     "output_type": "stream",
     "text": [
      "Number of assessments:\t 3845\n"
     ]
    }
   ],
   "source": [
    "# number of unique answers\n",
    "print('Number of assessments:\\t', df.answer_id.nunique())\n",
    "result['n_assessments'] = df.answer_id.nunique()"
   ]
  },
  {
   "cell_type": "markdown",
   "source": [
    "### Date Range of assessments"
   ],
   "metadata": {
    "collapsed": false
   }
  },
  {
   "cell_type": "code",
   "execution_count": 7,
   "id": "e4ba71eb-db18-483a-aeb4-9daa60bed22d",
   "metadata": {},
   "outputs": [
    {
     "name": "stdout",
     "output_type": "stream",
     "text": [
      "Start:\t 2020-12-19 07:59:15\n",
      "End:\t 2022-09-30 17:11:43\n",
      "\n",
      "Date Range in\n",
      "Years:\t 1.7808219178082192\n",
      "Months:\t 54.166666666666664\n",
      "Days:\t 650\n"
     ]
    }
   ],
   "source": [
    "# date range\n",
    "form = '%Y-%m-%d %H:%M:%S'\n",
    "date_start = df.created_at.min()\n",
    "result['First assessment from'] = date_start\n",
    "date_start = datetime.strptime(date_start, form)\n",
    "date_end = df.created_at.max()\n",
    "result['Latest assessment from'] = date_end\n",
    "date_end = datetime.strptime(date_end, form)\n",
    "\n",
    "\n",
    "\n",
    "print('Start:\\t', date_start)\n",
    "print('End:\\t', date_end)\n",
    "\n",
    "delta = date_end.date()-date_start.date()\n",
    "\n",
    "print('\\nDate Range in')\n",
    "print('Years:\\t', delta.days/365)\n",
    "print('Months:\\t', delta.days/12)\n",
    "print('Days:\\t', delta.days)\n",
    "\n",
    "\n",
    "result['Time range in days'] = delta.days"
   ]
  },
  {
   "cell_type": "code",
   "execution_count": 8,
   "outputs": [],
   "source": [
    "### Schedule pattern"
   ],
   "metadata": {
    "collapsed": false
   }
  },
  {
   "cell_type": "code",
   "execution_count": 9,
   "outputs": [
    {
     "data": {
      "text/plain": "{'Median hours between two assessments': 168.54972222222221,\n 'Median days between two assessments': 7.022905092592592,\n 'std_hours': 359.7016961567075,\n 'std_days': 14.987570673196146}"
     },
     "execution_count": 9,
     "metadata": {},
     "output_type": "execute_result"
    }
   ],
   "source": [
    "helpers.find_schedule_pattern(df)"
   ],
   "metadata": {
    "collapsed": false
   }
  },
  {
   "cell_type": "markdown",
   "id": "291f5061-6cb9-4957-8c8b-3e030032c3c0",
   "metadata": {},
   "source": [
    "### Distribution of filled out questionnaires"
   ]
  },
  {
   "cell_type": "code",
   "execution_count": 10,
   "id": "da89219f-6174-454c-857b-c766c641ffc0",
   "metadata": {},
   "outputs": [],
   "source": [
    "bins = [0, 1, 2, 3, 5, 10, 100, 1000]\n",
    "ser = pd.cut(df.user_id.value_counts(), bins = bins).value_counts().sort_index()\n",
    "ser\n",
    "result.update(dict(ser))"
   ]
  },
  {
   "cell_type": "markdown",
   "id": "e6ea301e-92be-472d-8550-893595b5ca6e",
   "metadata": {},
   "source": [
    "### Average period length between two filled out questionnaires"
   ]
  },
  {
   "cell_type": "code",
   "execution_count": 11,
   "id": "6e9dd3b9-f835-4610-bdec-957b0a85fa32",
   "metadata": {},
   "outputs": [],
   "source": [
    "# res = result\n",
    "res = helpers.find_schedule_pattern(df, form='%Y-%m-%d %H:%M:%S', date_col_name='created_at')\n",
    "result.update(res)"
   ]
  },
  {
   "cell_type": "markdown",
   "source": [
    "### Age Distribution\n",
    "\n",
    "The following table shows the number of users for each age."
   ],
   "metadata": {
    "collapsed": false
   }
  },
  {
   "cell_type": "code",
   "execution_count": 12,
   "outputs": [
    {
     "data": {
      "text/plain": "alter\n18    22\n19    12\n20     9\n21    17\n22    13\n23    11\n24    10\n25    11\n26    12\n27    11\n28    14\n29     4\n30    13\n31    15\n32    13\n33    13\n34    13\n35    19\n36    13\n37    21\n38    22\n39    12\n40    15\n41    18\n42    14\n43     8\n44    16\n45     8\n46    13\n47    13\n48    12\n49    13\n50    16\n51    14\n52     3\n53     7\n54    21\n55     9\n56    14\n57     6\n58     8\n59    12\n60     8\n61    12\n62     5\n63     9\n64     9\n65     3\n66     5\n67     2\n68     4\n70     4\n71     2\n73     2\n75     1\nName: user_id, dtype: int64"
     },
     "execution_count": 12,
     "metadata": {},
     "output_type": "execute_result"
    }
   ],
   "source": [
    "df_baseline.groupby('alter')['user_id'].count()"
   ],
   "metadata": {
    "collapsed": false
   }
  },
  {
   "cell_type": "markdown",
   "source": [
    "Now we compute the mean age and the standard deviation"
   ],
   "metadata": {
    "collapsed": false
   }
  },
  {
   "cell_type": "code",
   "execution_count": 13,
   "outputs": [
    {
     "name": "stdout",
     "output_type": "stream",
     "text": [
      "Durschnittliches Alter: 40.68 Jahre\n",
      "Standardabweichung Alter: 13.87 Jahre\n"
     ]
    }
   ],
   "source": [
    "avg_age = df_baseline['alter'].mean()\n",
    "std_age = df_baseline['alter'].std()\n",
    "\n",
    "result['avg_age'] = avg_age\n",
    "result['std_age'] = std_age\n",
    "\n",
    "print(\"Durschnittliches Alter: %4.2f Jahre\" % avg_age)\n",
    "print(\"Standardabweichung Alter: %4.2f Jahre\" % std_age)"
   ],
   "metadata": {
    "collapsed": false
   }
  },
  {
   "cell_type": "markdown",
   "source": [
    "### Sex Distribution\n",
    "\n",
    "We calculate the number of users that self identified their sex as male (0), female (1) or other (2)"
   ],
   "metadata": {
    "collapsed": false
   }
  },
  {
   "cell_type": "code",
   "execution_count": 14,
   "outputs": [
    {
     "name": "stdout",
     "output_type": "stream",
     "text": [
      "            user_id   label\n",
      "geschlecht                 \n",
      "0               392    male\n",
      "1               206  female\n",
      "2                 8   other\n",
      "\n",
      "0 users without submitted sex\n"
     ]
    }
   ],
   "source": [
    "df_sex = pd.DataFrame(df_baseline.groupby('geschlecht')['user_id'].count())\n",
    "df_sex['label'] = ('male', 'female', 'other')\n",
    "\n",
    "result['n_users_male'] = df_sex['user_id'][0.0]\n",
    "result['n_users_female'] = df_sex['user_id'][1.0]\n",
    "result['n_users_other'] = df_sex['user_id'][2.0]\n",
    "\n",
    "print(df_sex)\n",
    "print(\"\\n{} users without submitted sex\".format(df_baseline['user_id'].count() - (result['n_users_male'] + result['n_users_female'] + result['n_users_other'])))"
   ],
   "metadata": {
    "collapsed": false
   }
  },
  {
   "cell_type": "markdown",
   "source": [
    "### Country Statistics\n",
    "\n",
    "We calculate how many users participated by country."
   ],
   "metadata": {
    "collapsed": false
   }
  },
  {
   "cell_type": "code",
   "execution_count": 15,
   "outputs": [
    {
     "data": {
      "text/plain": "country\nAND      1\nATG      1\nAUT      2\nDEU    596\nDZA      1\nFRA      1\nGBR      1\nIND      1\nMEX      1\nNLD      1\nName: user_id, dtype: int64"
     },
     "execution_count": 15,
     "metadata": {},
     "output_type": "execute_result"
    }
   ],
   "source": [
    "country_series = df_baseline.groupby('country')['user_id'].count()\n",
    "country_series"
   ],
   "metadata": {
    "collapsed": false
   }
  },
  {
   "cell_type": "markdown",
   "source": [
    "We also calculate the percentage of german-based users in the dataset"
   ],
   "metadata": {
    "collapsed": false
   }
  },
  {
   "cell_type": "code",
   "execution_count": 16,
   "outputs": [
    {
     "name": "stdout",
     "output_type": "stream",
     "text": [
      "98.35% german-based users in dataset\n"
     ]
    }
   ],
   "source": [
    "result['n_users_german'] = country_series['DEU']\n",
    "result['n_users_non_german'] = country_series.sum()\n",
    "print('{:.2f}% german-based users in dataset'.format(country_series['DEU'] / country_series.sum() * 100))"
   ],
   "metadata": {
    "collapsed": false
   }
  },
  {
   "cell_type": "markdown",
   "id": "bea7fb1c-ee59-48e3-a211-9226e79ffd22",
   "metadata": {},
   "source": [
    "### Statistical Overview"
   ]
  },
  {
   "cell_type": "code",
   "execution_count": 17,
   "id": "d1776938-8f21-41c3-99e3-e855361b380a",
   "metadata": {},
   "outputs": [
    {
     "data": {
      "text/plain": "{'n_users': 374,\n 'n_assessments': 3845,\n 'First assessment from': '2020-12-19 07:59:15',\n 'Latest assessment from': '2022-09-30 17:11:43',\n 'Time range in days': 650,\n Interval(0, 1, closed='right'): 76,\n Interval(1, 2, closed='right'): 53,\n Interval(2, 3, closed='right'): 33,\n Interval(3, 5, closed='right'): 58,\n Interval(5, 10, closed='right'): 55,\n Interval(10, 100, closed='right'): 99,\n Interval(100, 1000, closed='right'): 0,\n 'Median hours between two assessments': 168.54972222222221,\n 'Median days between two assessments': 7.022905092592592,\n 'std_hours': 359.7016961567075,\n 'std_days': 14.987570673196146,\n 'avg_age': 40.67821782178218,\n 'std_age': 13.871324394410022,\n 'n_users_male': 392,\n 'n_users_female': 206,\n 'n_users_other': 8,\n 'n_users_german': 596,\n 'n_users_non_german': 606}"
     },
     "execution_count": 17,
     "metadata": {},
     "output_type": "execute_result"
    }
   ],
   "source": [
    "result"
   ]
  },
  {
   "cell_type": "code",
   "execution_count": 18,
   "outputs": [
    {
     "name": "stderr",
     "output_type": "stream",
     "text": [
      "/Users/johannesallgaier/PycharmProjects/UsAs/venv/lib/python3.11/site-packages/openpyxl/worksheet/_reader.py:312: UserWarning: Conditional Formatting extension is not supported and will be removed\n",
      "  warn(msg)\n"
     ]
    }
   ],
   "source": [
    "# read in codebook and reduce to columns and rows of interest\n",
    "cb = pd.read_excel('../../data/d00_helpers/codebooks/ch/rki_stress.xlsx', sheet_name='FollowUp', header=5)\n",
    "cb = cb[cb.elementtype=='question']\n",
    "cb = cb.iloc[:, :30]"
   ],
   "metadata": {
    "collapsed": false
   }
  }
 ],
 "metadata": {
  "kernelspec": {
   "display_name": "Python 3 (ipykernel)",
   "language": "python",
   "name": "python3"
  },
  "language_info": {
   "codemirror_mode": {
    "name": "ipython",
    "version": 3
   },
   "file_extension": ".py",
   "mimetype": "text/x-python",
   "name": "python",
   "nbconvert_exporter": "python",
   "pygments_lexer": "ipython3",
   "version": "3.9.2"
  }
 },
 "nbformat": 4,
 "nbformat_minor": 5
}
