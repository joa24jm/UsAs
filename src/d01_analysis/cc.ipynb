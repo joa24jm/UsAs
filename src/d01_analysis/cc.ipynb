{
 "cells": [
  {
   "cell_type": "markdown",
   "id": "fe7447a2-c2f7-48a1-a094-6bfe12ba0185",
   "metadata": {
    "tags": []
   },
   "source": [
    "# Analysis for Corona Check dataset"
   ]
  },
  {
   "cell_type": "markdown",
   "id": "aa7ce3f2-72c6-48de-beb5-a7ba3e8baddc",
   "metadata": {},
   "source": [
    "## Purpose of this Notebook\n",
    "- [x] Get an statistical overview\n",
    "    - [x] How many users?\n",
    "    - [x] How many assessments (= filled out questionnaires)?\n",
    "    - [x] Date range of the dataset?\n",
    "    - [x] User-assessment distribution\n",
    "    - [x] Baseline statistics"
   ]
  },
  {
   "cell_type": "markdown",
   "id": "ff767e78",
   "metadata": {},
   "source": [
    "## Preparation\n",
    "Import modules and load data for later use"
   ]
  },
  {
   "cell_type": "code",
   "execution_count": 1,
   "id": "404bfeb8-9eda-4fce-9fc1-e03e8f0411c3",
   "metadata": {},
   "outputs": [],
   "source": [
    " import math as m\n",
    "import numpy as np\n",
    "import pandas as pd\n",
    "from datetime import date, datetime"
   ]
  },
  {
   "cell_type": "code",
   "execution_count": 2,
   "id": "a55c9f1c-615f-4dc6-a931-3d76a3af3b70",
   "metadata": {},
   "outputs": [],
   "source": [
    "# to import own modules, a workaround - assuming the curent working directory is the folder (your/local/path/UsAs/src/d01_analysis)\n",
    "import sys\n",
    "# if this code does not work for you, point the path to the src folder\n",
    "sys.path.insert(0, \"../..\")\n",
    "\n",
    "from src.d00_utils import cc_helpers, helpers"
   ]
  },
  {
   "cell_type": "code",
   "execution_count": 3,
   "id": "479c3c1e-9a21-46a5-889c-ba1a37bcfd35",
   "metadata": {},
   "outputs": [],
   "source": [
    "# read in dataframe\n",
    "# assuming current working directory is the folder (your/local/path/UsAs/src/d01_analysis)\n",
    "df = pd.read_csv('../../data/d01_raw/cc/22-10-27_corona-check-data.csv')\n",
    "df_baseline = pd.read_csv('../../data/d01_raw/cc/22-10-27_corona-check-data-baseline.csv')"
   ]
  },
  {
   "cell_type": "markdown",
   "id": "3d6a7d16-852e-43bc-8843-5224eb126bee",
   "metadata": {},
   "source": [
    "### <font color='red'>Problem with the user_id</font>\n",
    "A user_id does not refer to one person in this questionnaire, since the baseline and followup questionnaire are within ONE questionnaire. That is, we have to make assumptions when a user_id refers to one specific person.\n",
    "These assumptions are: \n",
    "- Do you fill out this questionnaire for yourself? == `YES`\n",
    "- `Age` must not vary\n",
    "    - If `Age` varies within the `Author==YES` filtered answers, we take the mode age and drop other assessments.\n",
    "\n",
    "<font color='red'>This code takes a while to run</font>"
   ]
  },
  {
   "cell_type": "code",
   "execution_count": 4,
   "id": "f8bc96de-d06d-4836-bdd1-9560523d0592",
   "metadata": {},
   "outputs": [
    {
     "name": "stdout",
     "output_type": "stream",
     "text": [
      "No of assessments at start:\t 89659\n",
      "No of assessments without one time users:\t 50223\n",
      "No of assessments without ambigious users:\t 43993\n"
     ]
    }
   ],
   "source": [
    "print('No of assessments at start:\\t', df.shape[0])\n",
    "df = cc_helpers.drop_one_time_users(df)\n",
    "print('No of assessments without one time users:\\t', df.shape[0])\n",
    "df = cc_helpers.drop_ambiguous_users(df)\n",
    "print('No of assessments without ambigious users:\\t', df.shape[0])"
   ]
  },
  {
   "cell_type": "markdown",
   "id": "ff1146ea-00ca-4d5b-85d0-351c05af62d6",
   "metadata": {},
   "source": [
    "## Statistical overview\n",
    "Here we calculate statistics for both the dataset overall and the baseline questionaires"
   ]
  },
  {
   "cell_type": "code",
   "execution_count": 5,
   "id": "a906792b-03b0-4e84-91bd-66a20e25de5e",
   "metadata": {},
   "outputs": [],
   "source": [
    "# create result dict to save to disk\n",
    "result = dict()"
   ]
  },
  {
   "cell_type": "markdown",
   "id": "5bb82a8f",
   "metadata": {},
   "source": [
    "### Number of users"
   ]
  },
  {
   "cell_type": "code",
   "execution_count": 6,
   "id": "6e0dbd13-3c1b-48f9-b792-676e4a2143e3",
   "metadata": {},
   "outputs": [
    {
     "name": "stdout",
     "output_type": "stream",
     "text": [
      "Number of user:\t 13763\n"
     ]
    }
   ],
   "source": [
    "# Number of unique users\n",
    "print('Number of user:\\t', df_baseline.user_id.nunique())\n",
    "result['n_users'] = df_baseline.user_id.nunique()"
   ]
  },
  {
   "cell_type": "markdown",
   "id": "ea90458a",
   "metadata": {},
   "source": [
    "### Number of assessments"
   ]
  },
  {
   "cell_type": "code",
   "execution_count": 7,
   "id": "998a5a64-c982-420b-89b6-a53ab2acd2ef",
   "metadata": {},
   "outputs": [
    {
     "name": "stdout",
     "output_type": "stream",
     "text": [
      "Number of assessments:\t 43993\n"
     ]
    }
   ],
   "source": [
    "# Number of unique answers\n",
    "print('Number of assessments:\\t', df.answer_id.nunique())\n",
    "result['n_assessments'] = df.answer_id.nunique()"
   ]
  },
  {
   "cell_type": "markdown",
   "id": "044d7672",
   "metadata": {},
   "source": [
    "### Date Range of assessments"
   ]
  },
  {
   "cell_type": "code",
   "execution_count": 8,
   "id": "e4ba71eb-db18-483a-aeb4-9daa60bed22d",
   "metadata": {},
   "outputs": [
    {
     "name": "stdout",
     "output_type": "stream",
     "text": [
      "Start:\t 2020-04-08 13:48:43\n",
      "End:\t 2022-09-30 14:25:32\n",
      "\n",
      "Date Range in\n",
      "Years:\t 2.4794520547945207\n",
      "Months:\t 75.41666666666667\n",
      "Days:\t 905\n"
     ]
    }
   ],
   "source": [
    "# date range\n",
    "format = '%Y-%m-%d %H:%M:%S'\n",
    "date_start = df.created_at.min()\n",
    "result['First assessment from'] = date_start\n",
    "date_start = datetime.strptime(date_start, format)\n",
    "date_end = df.created_at.max()\n",
    "result['Latest assessment from'] = date_end\n",
    "date_end = datetime.strptime(date_end, format)\n",
    "\n",
    "print('Start:\\t', date_start)\n",
    "print('End:\\t', date_end)\n",
    "\n",
    "delta = date_end.date()-date_start.date()\n",
    "\n",
    "print('\\nDate Range in')\n",
    "print('Years:\\t', delta.days/365)\n",
    "print('Months:\\t', delta.days/12)\n",
    "print('Days:\\t', delta.days)\n",
    "\n",
    "result['Time range in days'] = delta.days"
   ]
  },
  {
   "cell_type": "markdown",
   "id": "291f5061-6cb9-4957-8c8b-3e030032c3c0",
   "metadata": {},
   "source": [
    "### Distribution of filled out questionnaires"
   ]
  },
  {
   "cell_type": "code",
   "execution_count": 9,
   "id": "da89219f-6174-454c-857b-c766c641ffc0",
   "metadata": {},
   "outputs": [
    {
     "name": "stdout",
     "output_type": "stream",
     "text": [
      "(0, 1]         2018\n",
      "(1, 2]         7571\n",
      "(2, 3]         2061\n",
      "(3, 5]         1285\n",
      "(5, 10]         572\n",
      "(10, 100]       236\n",
      "(100, 1000]      20\n",
      "Name: user_id, dtype: int64\n"
     ]
    }
   ],
   "source": [
    "bins = [0, 1, 2, 3, 5, 10, 100, 1000]\n",
    "ser = pd.cut(df.user_id.value_counts(), bins = bins).value_counts().sort_index()\n",
    "print(ser)\n",
    "result.update(dict(ser))"
   ]
  },
  {
   "cell_type": "markdown",
   "id": "e6ea301e-92be-472d-8550-893595b5ca6e",
   "metadata": {},
   "source": [
    "### Average period length between two filled out questionnaires"
   ]
  },
  {
   "cell_type": "code",
   "execution_count": 10,
   "id": "6e9dd3b9-f835-4610-bdec-957b0a85fa32",
   "metadata": {},
   "outputs": [],
   "source": [
    "# res = result\n",
    "res = helpers.find_schedule_pattern(df, form='%Y-%m-%d %H:%M:%S', date_col_name='created_at')\n",
    "result.update(res)"
   ]
  },
  {
   "cell_type": "markdown",
   "id": "41a4d290",
   "metadata": {},
   "source": [
    "### Age Distribution\n",
    "\n",
    "Age is recorded in groups with stepsize of 10 (eg. from ages 20 to 29). To be able to work with the data we assume that each user in a given age groug (eg. 20-29) is aged equal to the mean of the group (25). For user in the age group 80+ we assume an age of 85.\n",
    "\n",
    "The following table shows the number of users in each age group."
   ]
  },
  {
   "cell_type": "code",
   "execution_count": 22,
   "id": "afc69a8c",
   "metadata": {},
   "outputs": [],
   "source": [
    "user_ages = df_baseline.age.replace(to_replace = {'00-09': 5.5,\n",
    "                                                  '10-19': 14.5,\n",
    "                                                  '20-29': 24.5,\n",
    "                                                  '30-39': 35.5,\n",
    "                                                  '40-49': 45.5,\n",
    "                                                  '50-59': 55.5,\n",
    "                                                  '60-69': 65.5,\n",
    "                                                  '70-79': 75.5,\n",
    "                                                  '80+':   85.5}\n",
    "                                   )\n",
    "\n",
    "result['user_age_mean'] = user_ages.mean()"
   ]
  },
  {
   "cell_type": "markdown",
   "id": "98cbf664",
   "metadata": {},
   "source": [
    "Next we calculate the mean age and the standard deviation"
   ]
  },
  {
   "cell_type": "code",
   "execution_count": 24,
   "id": "4bd2ecb8",
   "metadata": {},
   "outputs": [],
   "source": [
    "result['user_age_standard_deviation'] = user_ages.std()"
   ]
  },
  {
   "cell_type": "markdown",
   "id": "58f34a08",
   "metadata": {},
   "source": [
    "### Sex Distribution\n",
    "\n",
    "We calculate the number of users that self identified their sex as male, female or diverse or no answer"
   ]
  },
  {
   "cell_type": "code",
   "execution_count": 25,
   "id": "49a8f749",
   "metadata": {},
   "outputs": [
    {
     "name": "stdout",
     "output_type": "stream",
     "text": [
      "          user_id\n",
      "gender           \n",
      "DIVERSE        73\n",
      "FEMALE       5362\n",
      "MALE         8042\n",
      "NOANSWER      286\n"
     ]
    }
   ],
   "source": [
    "df_sex = pd.DataFrame(df_baseline.groupby('gender')['user_id'].count())\n",
    "\n",
    "result['n_users_male'] = df_sex['user_id']['MALE']\n",
    "result['n_users_female'] = df_sex['user_id']['FEMALE']\n",
    "result['n_users_diverse'] = df_sex['user_id']['DIVERSE']\n",
    "result['n_users_no_answer'] = df_sex['user_id']['NOANSWER']\n",
    "\n",
    "print(df_sex)"
   ]
  },
  {
   "cell_type": "markdown",
   "id": "6f719248",
   "metadata": {},
   "source": [
    "### Country Statstics\n",
    "We calculate how many users participated by country"
   ]
  },
  {
   "cell_type": "code",
   "execution_count": 26,
   "id": "7b2f4d82",
   "metadata": {},
   "outputs": [
    {
     "data": {
      "text/plain": [
       "country_code\n",
       "AE      61\n",
       "AF       2\n",
       "AG       1\n",
       "AL       4\n",
       "AO       1\n",
       "      ... \n",
       "VN       1\n",
       "XK       6\n",
       "ZA    1346\n",
       "ZM      13\n",
       "ZW       9\n",
       "Name: user_id, Length: 109, dtype: int64"
      ]
     },
     "execution_count": 26,
     "metadata": {},
     "output_type": "execute_result"
    }
   ],
   "source": [
    "country_series = df_baseline.groupby('country_code')['user_id'].count()\n",
    "country_series"
   ]
  },
  {
   "cell_type": "markdown",
   "id": "20fd345b",
   "metadata": {},
   "source": [
    "We also calculate the percentage of german-based users in the dataset"
   ]
  },
  {
   "cell_type": "code",
   "execution_count": 27,
   "id": "0ebb938e",
   "metadata": {},
   "outputs": [
    {
     "name": "stdout",
     "output_type": "stream",
     "text": [
      "36.81% german-based users in dataset\n"
     ]
    }
   ],
   "source": [
    "result['n_users_german'] = country_series['DE']\n",
    "result['n_users_non_german'] = country_series.sum()\n",
    "print('{:.2f}% german-based users in dataset'.format(country_series['DE'] / country_series.sum() * 100))"
   ]
  },
  {
   "cell_type": "markdown",
   "id": "bea7fb1c-ee59-48e3-a211-9226e79ffd22",
   "metadata": {},
   "source": [
    "### Statistical Overview"
   ]
  },
  {
   "cell_type": "code",
   "execution_count": 28,
   "id": "d1776938-8f21-41c3-99e3-e855361b380a",
   "metadata": {},
   "outputs": [
    {
     "data": {
      "text/plain": [
       "{'n_users': 13763,\n",
       " 'n_assessments': 43993,\n",
       " 'First assessment from': '2020-04-08 13:48:43',\n",
       " 'Latest assessment from': '2022-09-30 14:25:32',\n",
       " 'Time range in days': 905,\n",
       " Interval(0, 1, closed='right'): 2018,\n",
       " Interval(1, 2, closed='right'): 7571,\n",
       " Interval(2, 3, closed='right'): 2061,\n",
       " Interval(3, 5, closed='right'): 1285,\n",
       " Interval(5, 10, closed='right'): 572,\n",
       " Interval(10, 100, closed='right'): 236,\n",
       " Interval(100, 1000, closed='right'): 20,\n",
       " 'avg hours between two assessments': 232.35601079339853,\n",
       " 'avg days between two assessments': 9.681500449724936,\n",
       " 'std_hours': 614.6605704829816,\n",
       " 'std_days': 25.61085710345757,\n",
       " 'user_age_mean': 32.671582760405116,\n",
       " 'user_age_standard_deviation': 18.007270034497324,\n",
       " 'n_users_male': 8042,\n",
       " 'n_users_female': 5362,\n",
       " 'n_users_diverse': 73,\n",
       " 'n_users_no_answer': 286,\n",
       " 'n_users_german': 3326,\n",
       " 'n_users_non_german': 9035}"
      ]
     },
     "execution_count": 28,
     "metadata": {},
     "output_type": "execute_result"
    }
   ],
   "source": [
    "result"
   ]
  }
 ],
 "metadata": {
  "kernelspec": {
   "display_name": "Python 3 (ipykernel)",
   "language": "python",
   "name": "python3"
  },
  "language_info": {
   "codemirror_mode": {
    "name": "ipython",
    "version": 3
   },
   "file_extension": ".py",
   "mimetype": "text/x-python",
   "name": "python",
   "nbconvert_exporter": "python",
   "pygments_lexer": "ipython3",
   "version": "3.11.1"
  }
 },
 "nbformat": 4,
 "nbformat_minor": 5
}
