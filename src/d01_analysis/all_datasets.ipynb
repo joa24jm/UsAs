{
 "cells": [
  {
   "cell_type": "markdown",
   "metadata": {
    "collapsed": true
   },
   "source": [
    "# Analyse the filling out behaviour of users of differrent studies"
   ]
  },
  {
   "cell_type": "code",
   "execution_count": 1,
   "metadata": {},
   "outputs": [],
   "source": [
    "# imports\n",
    "import pandas as pd\n",
    "import seaborn as sns"
   ]
  },
  {
   "cell_type": "code",
   "execution_count": 3,
   "metadata": {},
   "outputs": [],
   "source": [
    "# read in df\n",
    "df = pd.read_excel('../../data/d02_processed/variance-of-filling-out-behaviour.xlsx')"
   ]
  },
  {
   "cell_type": "code",
   "execution_count": 4,
   "metadata": {},
   "outputs": [
    {
     "data": {
      "text/html": [
       "<div>\n",
       "<style scoped>\n",
       "    .dataframe tbody tr th:only-of-type {\n",
       "        vertical-align: middle;\n",
       "    }\n",
       "\n",
       "    .dataframe tbody tr th {\n",
       "        vertical-align: top;\n",
       "    }\n",
       "\n",
       "    .dataframe thead th {\n",
       "        text-align: right;\n",
       "    }\n",
       "</style>\n",
       "<table border=\"1\" class=\"dataframe\">\n",
       "  <thead>\n",
       "    <tr style=\"text-align: right;\">\n",
       "      <th></th>\n",
       "      <th>Mental Health adults</th>\n",
       "      <th>Phyiscal Health adults</th>\n",
       "      <th>Mental health adolescents</th>\n",
       "      <th>Stress</th>\n",
       "    </tr>\n",
       "  </thead>\n",
       "  <tbody>\n",
       "    <tr>\n",
       "      <th>0</th>\n",
       "      <td>6.980052</td>\n",
       "      <td>13.971343</td>\n",
       "      <td>7.130486</td>\n",
       "      <td>7.002975</td>\n",
       "    </tr>\n",
       "    <tr>\n",
       "      <th>1</th>\n",
       "      <td>7.004259</td>\n",
       "      <td>13.985289</td>\n",
       "      <td>7.064387</td>\n",
       "      <td>7.019462</td>\n",
       "    </tr>\n",
       "    <tr>\n",
       "      <th>2</th>\n",
       "      <td>7.004103</td>\n",
       "      <td>13.977870</td>\n",
       "      <td>7.026082</td>\n",
       "      <td>7.000145</td>\n",
       "    </tr>\n",
       "    <tr>\n",
       "      <th>3</th>\n",
       "      <td>6.998889</td>\n",
       "      <td>14.002326</td>\n",
       "      <td>7.040718</td>\n",
       "      <td>6.974456</td>\n",
       "    </tr>\n",
       "    <tr>\n",
       "      <th>4</th>\n",
       "      <td>7.016319</td>\n",
       "      <td>13.995868</td>\n",
       "      <td>6.984051</td>\n",
       "      <td>7.006470</td>\n",
       "    </tr>\n",
       "  </tbody>\n",
       "</table>\n",
       "</div>"
      ],
      "text/plain": [
       "   Mental Health adults  Phyiscal Health adults  Mental health adolescents  \\\n",
       "0              6.980052               13.971343                   7.130486   \n",
       "1              7.004259               13.985289                   7.064387   \n",
       "2              7.004103               13.977870                   7.026082   \n",
       "3              6.998889               14.002326                   7.040718   \n",
       "4              7.016319               13.995868                   6.984051   \n",
       "\n",
       "     Stress  \n",
       "0  7.002975  \n",
       "1  7.019462  \n",
       "2  7.000145  \n",
       "3  6.974456  \n",
       "4  7.006470  "
      ]
     },
     "execution_count": 4,
     "metadata": {},
     "output_type": "execute_result"
    }
   ],
   "source": [
    "sns.boxplot(df, )"
   ]
  },
  {
   "cell_type": "code",
   "execution_count": null,
   "metadata": {},
   "outputs": [],
   "source": []
  }
 ],
 "metadata": {
  "kernelspec": {
   "display_name": "Python 3 (ipykernel)",
   "language": "python",
   "name": "python3"
  },
  "language_info": {
   "codemirror_mode": {
    "name": "ipython",
    "version": 3
   },
   "file_extension": ".py",
   "mimetype": "text/x-python",
   "name": "python",
   "nbconvert_exporter": "python",
   "pygments_lexer": "ipython3",
   "version": "3.11.1"
  }
 },
 "nbformat": 4,
 "nbformat_minor": 1
}
