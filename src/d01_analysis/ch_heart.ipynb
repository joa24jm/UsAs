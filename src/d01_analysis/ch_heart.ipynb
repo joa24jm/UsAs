{
 "cells": [
  {
   "cell_type": "markdown",
   "id": "fe7447a2-c2f7-48a1-a094-6bfe12ba0185",
   "metadata": {
    "tags": []
   },
   "source": [
    "# Corona Health - Physiological Health of adults (`Heart`) Study"
   ]
  },
  {
   "cell_type": "markdown",
   "id": "aa7ce3f2-72c6-48de-beb5-a7ba3e8baddc",
   "metadata": {},
   "source": [
    "## Purpose of this Notebook\n",
    "- [ ] Clean the dataset and save cleaned version\n",
    "- [x] Get an statistical overview\n",
    "    - [x] How many users?\n",
    "    - [x] How many assessments (= filled out questionnaires)?\n",
    "    - [x] Date range of the dataset?\n",
    "    - [x] User-assessment distribution\n",
    "- [ ] Potential target for classification?\n",
    "- [ ] Potential features for classification?\n",
    "    \n",
    "    "
   ]
  },
  {
   "cell_type": "markdown",
   "id": "695d76d3-3b02-4e22-b64a-83df951d6925",
   "metadata": {},
   "source": [
    "## Preparation\n",
    "Import modules and load data for later use"
   ]
  },
  {
   "cell_type": "code",
   "execution_count": 2,
   "id": "404bfeb8-9eda-4fce-9fc1-e03e8f0411c3",
   "metadata": {},
   "outputs": [],
   "source": [
    "# imports\n",
    "import pandas as pd\n",
    "from datetime import date, datetime"
   ]
  },
  {
   "cell_type": "code",
   "execution_count": 3,
   "id": "d84713e2-be8b-49c3-9cd6-6d08f301439c",
   "metadata": {},
   "outputs": [],
   "source": [
    "# to import own modules, a workaround - assuming the curent working directory is the folder (your/local/path/UsAs/src/d01_analysis\n",
    "import sys\n",
    "sys.path.insert(0, \"../..\")\n",
    "\n",
    "from src.d00_utils import cc_helpers, helpers"
   ]
  },
  {
   "cell_type": "code",
   "execution_count": 4,
   "id": "479c3c1e-9a21-46a5-889c-ba1a37bcfd35",
   "metadata": {},
   "outputs": [],
   "source": [
    "# read in dataframe\n",
    "# assuming current working directory is the folder (your/local/path/UsAs/src/d01_analysis)\n",
    "df = pd.read_csv('../../data/d01_raw/ch/22-10-05_rki_heart_followup.csv')\n",
    "df_baseline = pd.read_csv('../../data/d01_raw/ch/22-10-05_rki_heart_baseline.csv')"
   ]
  },
  {
   "cell_type": "markdown",
   "source": [
    "## Statistical overview\n",
    "Here we calculate statistics for both the dataset overall and the baseline questionaires"
   ],
   "metadata": {
    "collapsed": false
   }
  },
  {
   "cell_type": "code",
   "execution_count": 5,
   "id": "a906792b-03b0-4e84-91bd-66a20e25de5e",
   "metadata": {},
   "outputs": [],
   "source": [
    "# create result dict to save to disk\n",
    "result = dict()"
   ]
  },
  {
   "cell_type": "markdown",
   "source": [
    "### Number of users"
   ],
   "metadata": {
    "collapsed": false
   }
  },
  {
   "cell_type": "code",
   "execution_count": 6,
   "id": "6e0dbd13-3c1b-48f9-b792-676e4a2143e3",
   "metadata": {},
   "outputs": [
    {
     "name": "stdout",
     "output_type": "stream",
     "text": [
      "Number of user:\t 953\n"
     ]
    }
   ],
   "source": [
    "# Number of unique users\n",
    "print('Number of user:\\t', df.user_id.nunique())\n",
    "result['n_users'] = df.user_id.nunique()"
   ]
  },
  {
   "cell_type": "markdown",
   "source": [
    "### Number of assessments"
   ],
   "metadata": {
    "collapsed": false
   }
  },
  {
   "cell_type": "code",
   "execution_count": 7,
   "id": "998a5a64-c982-420b-89b6-a53ab2acd2ef",
   "metadata": {},
   "outputs": [
    {
     "name": "stdout",
     "output_type": "stream",
     "text": [
      "Number of assessments:\t 5661\n"
     ]
    }
   ],
   "source": [
    "# number of unique answers\n",
    "print('Number of assessments:\\t', df.answer_id.nunique())\n",
    "result['n_assessments'] = df.answer_id.nunique()"
   ]
  },
  {
   "cell_type": "markdown",
   "source": [
    "### Date Range of assessments"
   ],
   "metadata": {
    "collapsed": false
   }
  },
  {
   "cell_type": "code",
   "execution_count": 8,
   "id": "e4ba71eb-db18-483a-aeb4-9daa60bed22d",
   "metadata": {},
   "outputs": [
    {
     "name": "stdout",
     "output_type": "stream",
     "text": [
      "Start:\t 2020-07-28 13:55:53\n",
      "End:\t 2022-09-29 18:48:46\n",
      "\n",
      "Date Range in\n",
      "Years:\t 2.1726027397260275\n",
      "Months:\t 66.08333333333333\n",
      "Days:\t 793\n"
     ]
    }
   ],
   "source": [
    "# date range\n",
    "form = '%Y-%m-%d %H:%M:%S'\n",
    "date_start = df.created_at.min()\n",
    "result['First assessment from'] = date_start\n",
    "date_start = datetime.strptime(date_start, form)\n",
    "date_end = df.created_at.max()\n",
    "result['Latest assessment from'] = date_end\n",
    "date_end = datetime.strptime(date_end, form)\n",
    "\n",
    "\n",
    "\n",
    "print('Start:\\t', date_start)\n",
    "print('End:\\t', date_end)\n",
    "\n",
    "delta = date_end.date()-date_start.date()\n",
    "\n",
    "print('\\nDate Range in')\n",
    "print('Years:\\t', delta.days/365)\n",
    "print('Months:\\t', delta.days/12)\n",
    "print('Days:\\t', delta.days)\n",
    "\n",
    "\n",
    "result['Time range in days'] = delta.days"
   ]
  },
  {
   "cell_type": "markdown",
   "source": [
    "### Schedule pattern"
   ],
   "metadata": {
    "collapsed": false
   }
  },
  {
   "cell_type": "code",
   "execution_count": 9,
   "outputs": [
    {
     "data": {
      "text/plain": "{'Median hours between two assessments': 336.72055555555556,\n 'Median days between two assessments': 14.03002314814815,\n 'std_hours': 629.2315549885324,\n 'std_days': 26.217981457855515}"
     },
     "execution_count": 9,
     "metadata": {},
     "output_type": "execute_result"
    }
   ],
   "source": [
    "helpers.find_schedule_pattern(df)"
   ],
   "metadata": {
    "collapsed": false
   }
  },
  {
   "cell_type": "markdown",
   "id": "291f5061-6cb9-4957-8c8b-3e030032c3c0",
   "metadata": {},
   "source": [
    "### Distribution of filled out questionnaires"
   ]
  },
  {
   "cell_type": "code",
   "execution_count": 10,
   "id": "da89219f-6174-454c-857b-c766c641ffc0",
   "metadata": {},
   "outputs": [],
   "source": [
    "bins = [0, 1, 2, 3, 5, 10, 100, 1000]\n",
    "ser = pd.cut(df.user_id.value_counts(), bins = bins).value_counts().sort_index()\n",
    "ser\n",
    "result.update(dict(ser))"
   ]
  },
  {
   "cell_type": "markdown",
   "id": "f227e8fc-e931-4bd8-9c1c-739960be011e",
   "metadata": {},
   "source": [
    "### Average period length between two filled out questionnaires"
   ]
  },
  {
   "cell_type": "code",
   "execution_count": 11,
   "id": "a4b603d4-bc98-4eed-8203-241baef4265e",
   "metadata": {},
   "outputs": [],
   "source": [
    "# res = result\n",
    "res = helpers.find_schedule_pattern(df, form='%Y-%m-%d %H:%M:%S', date_col_name='created_at')\n",
    "result.update(res)"
   ]
  },
  {
   "cell_type": "markdown",
   "source": [
    "### Age Distribution\n",
    "\n",
    "The following table shows the number of users for each age."
   ],
   "metadata": {
    "collapsed": false
   }
  },
  {
   "cell_type": "code",
   "execution_count": 12,
   "outputs": [
    {
     "data": {
      "text/plain": "alter\n18.0     20\n19.0     11\n20.0      9\n21.0     16\n22.0     16\n         ..\n79.0      1\n80.0      1\n82.0      1\n107.0     1\n120.0     1\nName: user_id, Length: 63, dtype: int64"
     },
     "execution_count": 12,
     "metadata": {},
     "output_type": "execute_result"
    }
   ],
   "source": [
    "df_baseline.groupby('alter')['user_id'].count()"
   ],
   "metadata": {
    "collapsed": false
   }
  },
  {
   "cell_type": "markdown",
   "source": [
    "Now we compute the mean age and the standard deviation"
   ],
   "metadata": {
    "collapsed": false
   }
  },
  {
   "cell_type": "code",
   "execution_count": 13,
   "outputs": [
    {
     "name": "stdout",
     "output_type": "stream",
     "text": [
      "Durschnittliches Alter: 41.80 Jahre\n",
      "Standardabweichung Alter: 15.16 Jahre\n"
     ]
    }
   ],
   "source": [
    "avg_age = df_baseline['alter'].mean()\n",
    "std_age = df_baseline['alter'].std()\n",
    "\n",
    "result['avg_age'] = avg_age\n",
    "result['std_age'] = std_age\n",
    "\n",
    "print(\"Durschnittliches Alter: %4.2f Jahre\" % avg_age)\n",
    "print(\"Standardabweichung Alter: %4.2f Jahre\" % std_age)"
   ],
   "metadata": {
    "collapsed": false
   }
  },
  {
   "cell_type": "markdown",
   "source": [
    "### Sex Distribution\n",
    "\n",
    "We calculate the number of users that self identified their sex as male (0), female (1) or other (2)"
   ],
   "metadata": {
    "collapsed": false
   }
  },
  {
   "cell_type": "code",
   "execution_count": 14,
   "outputs": [
    {
     "name": "stdout",
     "output_type": "stream",
     "text": [
      "            user_id   label\n",
      "geschlecht                 \n",
      "0.0             415    male\n",
      "1.0             241  female\n",
      "2.0               3   other\n",
      "\n",
      "1121 users without submitted sex\n"
     ]
    }
   ],
   "source": [
    "df_sex = pd.DataFrame(df_baseline.groupby('geschlecht')['user_id'].count())\n",
    "df_sex['label'] = ('male', 'female', 'other')\n",
    "\n",
    "result['n_users_male'] = df_sex['user_id'][0.0]\n",
    "result['n_users_female'] = df_sex['user_id'][1.0]\n",
    "result['n_users_other'] = df_sex['user_id'][2.0]\n",
    "\n",
    "print(df_sex)\n",
    "print(\"\\n{} users without submitted sex\".format(df_baseline['user_id'].count() - (result['n_users_male'] + result['n_users_female'] + result['n_users_other'])))"
   ],
   "metadata": {
    "collapsed": false
   }
  },
  {
   "cell_type": "markdown",
   "source": [
    "### Country Statistics\n",
    "\n",
    "We calculate how many users participated by country"
   ],
   "metadata": {
    "collapsed": false
   }
  },
  {
   "cell_type": "code",
   "execution_count": 15,
   "outputs": [
    {
     "data": {
      "text/plain": "country\nAND      1\nATG      1\nAUT      3\nDEU    650\nFRA      1\nGBR      1\nMEX      1\nNLD      1\nName: user_id, dtype: int64"
     },
     "execution_count": 15,
     "metadata": {},
     "output_type": "execute_result"
    }
   ],
   "source": [
    "country_series = df_baseline.groupby('country')['user_id'].count()\n",
    "country_series"
   ],
   "metadata": {
    "collapsed": false
   }
  },
  {
   "cell_type": "markdown",
   "source": [
    "We also calculate the percentage of german-based users in the dataset"
   ],
   "metadata": {
    "collapsed": false
   }
  },
  {
   "cell_type": "code",
   "execution_count": 16,
   "outputs": [
    {
     "name": "stdout",
     "output_type": "stream",
     "text": [
      "98.63% german-based users in dataset\n"
     ]
    }
   ],
   "source": [
    "result['n_users_german'] = country_series['DEU']\n",
    "result['n_users_all'] = country_series.sum()\n",
    "print('{:.2f}% german-based users in dataset'.format(country_series['DEU'] / country_series.sum() * 100))"
   ],
   "metadata": {
    "collapsed": false
   }
  },
  {
   "cell_type": "markdown",
   "id": "78b19328-95df-46ee-95ab-d11a6846dd47",
   "metadata": {},
   "source": [
    "### Statistical overview"
   ]
  },
  {
   "cell_type": "code",
   "execution_count": 17,
   "id": "d1776938-8f21-41c3-99e3-e855361b380a",
   "metadata": {},
   "outputs": [
    {
     "data": {
      "text/plain": "{'n_users': 953,\n 'n_assessments': 5661,\n 'First assessment from': '2020-07-28 13:55:53',\n 'Latest assessment from': '2022-09-29 18:48:46',\n 'Time range in days': 793,\n Interval(0, 1, closed='right'): 311,\n Interval(1, 2, closed='right'): 138,\n Interval(2, 3, closed='right'): 105,\n Interval(3, 5, closed='right'): 119,\n Interval(5, 10, closed='right'): 128,\n Interval(10, 100, closed='right'): 152,\n Interval(100, 1000, closed='right'): 0,\n 'Median hours between two assessments': 336.72055555555556,\n 'Median days between two assessments': 14.03002314814815,\n 'std_hours': 629.2315549885324,\n 'std_days': 26.217981457855515,\n 'avg_age': 41.79514415781487,\n 'std_age': 15.156495917006229,\n 'n_users_male': 415,\n 'n_users_female': 241,\n 'n_users_other': 3,\n 'n_users_german': 650,\n 'n_users_all': 659}"
     },
     "execution_count": 17,
     "metadata": {},
     "output_type": "execute_result"
    }
   ],
   "source": [
    "result"
   ]
  },
  {
   "cell_type": "markdown",
   "id": "7cd9c0e4-d01b-4f44-90e9-346339be2d4f",
   "metadata": {},
   "source": [
    "**Questionnaire of most frequent user has been filled out ~ each 14 days, i.e. one period ~ 14 days**"
   ]
  },
  {
   "cell_type": "code",
   "execution_count": 18,
   "id": "586c7499-e590-48ba-a815-0800e7b055a9",
   "metadata": {},
   "outputs": [
    {
     "ename": "FileNotFoundError",
     "evalue": "[Errno 2] No such file or directory: '../../data/d00_helpers/codebook/ch/rki_heart.xlsx'",
     "output_type": "error",
     "traceback": [
      "\u001B[0;31m---------------------------------------------------------------------------\u001B[0m",
      "\u001B[0;31mFileNotFoundError\u001B[0m                         Traceback (most recent call last)",
      "Cell \u001B[0;32mIn [18], line 2\u001B[0m\n\u001B[1;32m      1\u001B[0m \u001B[38;5;66;03m# read in codebook and reduce to columns and rows of interest\u001B[39;00m\n\u001B[0;32m----> 2\u001B[0m cb \u001B[38;5;241m=\u001B[39m \u001B[43mpd\u001B[49m\u001B[38;5;241;43m.\u001B[39;49m\u001B[43mread_excel\u001B[49m\u001B[43m(\u001B[49m\u001B[38;5;124;43m'\u001B[39;49m\u001B[38;5;124;43m../../data/d00_helpers/codebook/ch/rki_heart.xlsx\u001B[39;49m\u001B[38;5;124;43m'\u001B[39;49m\u001B[43m,\u001B[49m\u001B[43m \u001B[49m\u001B[43msheet_name\u001B[49m\u001B[38;5;241;43m=\u001B[39;49m\u001B[38;5;124;43m'\u001B[39;49m\u001B[38;5;124;43mFollowUp\u001B[39;49m\u001B[38;5;124;43m'\u001B[39;49m\u001B[43m,\u001B[49m\u001B[43m \u001B[49m\u001B[43mheader\u001B[49m\u001B[38;5;241;43m=\u001B[39;49m\u001B[38;5;241;43m4\u001B[39;49m\u001B[43m)\u001B[49m\n\u001B[1;32m      3\u001B[0m cb \u001B[38;5;241m=\u001B[39m cb[cb\u001B[38;5;241m.\u001B[39melementtype\u001B[38;5;241m==\u001B[39m\u001B[38;5;124m'\u001B[39m\u001B[38;5;124mquestion\u001B[39m\u001B[38;5;124m'\u001B[39m]\n\u001B[1;32m      4\u001B[0m cb \u001B[38;5;241m=\u001B[39m cb\u001B[38;5;241m.\u001B[39miloc[:, :\u001B[38;5;241m30\u001B[39m]\n",
      "File \u001B[0;32m~/PycharmProjects/UsAs/venv/lib/python3.11/site-packages/pandas/util/_decorators.py:211\u001B[0m, in \u001B[0;36mdeprecate_kwarg.<locals>._deprecate_kwarg.<locals>.wrapper\u001B[0;34m(*args, **kwargs)\u001B[0m\n\u001B[1;32m    209\u001B[0m     \u001B[38;5;28;01melse\u001B[39;00m:\n\u001B[1;32m    210\u001B[0m         kwargs[new_arg_name] \u001B[38;5;241m=\u001B[39m new_arg_value\n\u001B[0;32m--> 211\u001B[0m \u001B[38;5;28;01mreturn\u001B[39;00m \u001B[43mfunc\u001B[49m\u001B[43m(\u001B[49m\u001B[38;5;241;43m*\u001B[39;49m\u001B[43margs\u001B[49m\u001B[43m,\u001B[49m\u001B[43m \u001B[49m\u001B[38;5;241;43m*\u001B[39;49m\u001B[38;5;241;43m*\u001B[39;49m\u001B[43mkwargs\u001B[49m\u001B[43m)\u001B[49m\n",
      "File \u001B[0;32m~/PycharmProjects/UsAs/venv/lib/python3.11/site-packages/pandas/util/_decorators.py:317\u001B[0m, in \u001B[0;36mdeprecate_nonkeyword_arguments.<locals>.decorate.<locals>.wrapper\u001B[0;34m(*args, **kwargs)\u001B[0m\n\u001B[1;32m    311\u001B[0m \u001B[38;5;28;01mif\u001B[39;00m \u001B[38;5;28mlen\u001B[39m(args) \u001B[38;5;241m>\u001B[39m num_allow_args:\n\u001B[1;32m    312\u001B[0m     warnings\u001B[38;5;241m.\u001B[39mwarn(\n\u001B[1;32m    313\u001B[0m         msg\u001B[38;5;241m.\u001B[39mformat(arguments\u001B[38;5;241m=\u001B[39marguments),\n\u001B[1;32m    314\u001B[0m         \u001B[38;5;167;01mFutureWarning\u001B[39;00m,\n\u001B[1;32m    315\u001B[0m         stacklevel\u001B[38;5;241m=\u001B[39mfind_stack_level(inspect\u001B[38;5;241m.\u001B[39mcurrentframe()),\n\u001B[1;32m    316\u001B[0m     )\n\u001B[0;32m--> 317\u001B[0m \u001B[38;5;28;01mreturn\u001B[39;00m \u001B[43mfunc\u001B[49m\u001B[43m(\u001B[49m\u001B[38;5;241;43m*\u001B[39;49m\u001B[43margs\u001B[49m\u001B[43m,\u001B[49m\u001B[43m \u001B[49m\u001B[38;5;241;43m*\u001B[39;49m\u001B[38;5;241;43m*\u001B[39;49m\u001B[43mkwargs\u001B[49m\u001B[43m)\u001B[49m\n",
      "File \u001B[0;32m~/PycharmProjects/UsAs/venv/lib/python3.11/site-packages/pandas/io/excel/_base.py:483\u001B[0m, in \u001B[0;36mread_excel\u001B[0;34m(io, sheet_name, header, names, index_col, usecols, squeeze, dtype, engine, converters, true_values, false_values, skiprows, nrows, na_values, keep_default_na, na_filter, verbose, parse_dates, date_parser, thousands, decimal, comment, skipfooter, convert_float, mangle_dupe_cols, storage_options)\u001B[0m\n\u001B[1;32m    481\u001B[0m \u001B[38;5;28;01mif\u001B[39;00m \u001B[38;5;129;01mnot\u001B[39;00m \u001B[38;5;28misinstance\u001B[39m(io, ExcelFile):\n\u001B[1;32m    482\u001B[0m     should_close \u001B[38;5;241m=\u001B[39m \u001B[38;5;28;01mTrue\u001B[39;00m\n\u001B[0;32m--> 483\u001B[0m     io \u001B[38;5;241m=\u001B[39m \u001B[43mExcelFile\u001B[49m\u001B[43m(\u001B[49m\u001B[43mio\u001B[49m\u001B[43m,\u001B[49m\u001B[43m \u001B[49m\u001B[43mstorage_options\u001B[49m\u001B[38;5;241;43m=\u001B[39;49m\u001B[43mstorage_options\u001B[49m\u001B[43m,\u001B[49m\u001B[43m \u001B[49m\u001B[43mengine\u001B[49m\u001B[38;5;241;43m=\u001B[39;49m\u001B[43mengine\u001B[49m\u001B[43m)\u001B[49m\n\u001B[1;32m    484\u001B[0m \u001B[38;5;28;01melif\u001B[39;00m engine \u001B[38;5;129;01mand\u001B[39;00m engine \u001B[38;5;241m!=\u001B[39m io\u001B[38;5;241m.\u001B[39mengine:\n\u001B[1;32m    485\u001B[0m     \u001B[38;5;28;01mraise\u001B[39;00m \u001B[38;5;167;01mValueError\u001B[39;00m(\n\u001B[1;32m    486\u001B[0m         \u001B[38;5;124m\"\u001B[39m\u001B[38;5;124mEngine should not be specified when passing \u001B[39m\u001B[38;5;124m\"\u001B[39m\n\u001B[1;32m    487\u001B[0m         \u001B[38;5;124m\"\u001B[39m\u001B[38;5;124man ExcelFile - ExcelFile already has the engine set\u001B[39m\u001B[38;5;124m\"\u001B[39m\n\u001B[1;32m    488\u001B[0m     )\n",
      "File \u001B[0;32m~/PycharmProjects/UsAs/venv/lib/python3.11/site-packages/pandas/io/excel/_base.py:1629\u001B[0m, in \u001B[0;36mExcelFile.__init__\u001B[0;34m(self, path_or_buffer, engine, storage_options)\u001B[0m\n\u001B[1;32m   1627\u001B[0m     ext \u001B[38;5;241m=\u001B[39m \u001B[38;5;124m\"\u001B[39m\u001B[38;5;124mxls\u001B[39m\u001B[38;5;124m\"\u001B[39m\n\u001B[1;32m   1628\u001B[0m \u001B[38;5;28;01melse\u001B[39;00m:\n\u001B[0;32m-> 1629\u001B[0m     ext \u001B[38;5;241m=\u001B[39m \u001B[43minspect_excel_format\u001B[49m\u001B[43m(\u001B[49m\n\u001B[1;32m   1630\u001B[0m \u001B[43m        \u001B[49m\u001B[43mcontent_or_path\u001B[49m\u001B[38;5;241;43m=\u001B[39;49m\u001B[43mpath_or_buffer\u001B[49m\u001B[43m,\u001B[49m\u001B[43m \u001B[49m\u001B[43mstorage_options\u001B[49m\u001B[38;5;241;43m=\u001B[39;49m\u001B[43mstorage_options\u001B[49m\n\u001B[1;32m   1631\u001B[0m \u001B[43m    \u001B[49m\u001B[43m)\u001B[49m\n\u001B[1;32m   1632\u001B[0m     \u001B[38;5;28;01mif\u001B[39;00m ext \u001B[38;5;129;01mis\u001B[39;00m \u001B[38;5;28;01mNone\u001B[39;00m:\n\u001B[1;32m   1633\u001B[0m         \u001B[38;5;28;01mraise\u001B[39;00m \u001B[38;5;167;01mValueError\u001B[39;00m(\n\u001B[1;32m   1634\u001B[0m             \u001B[38;5;124m\"\u001B[39m\u001B[38;5;124mExcel file format cannot be determined, you must specify \u001B[39m\u001B[38;5;124m\"\u001B[39m\n\u001B[1;32m   1635\u001B[0m             \u001B[38;5;124m\"\u001B[39m\u001B[38;5;124man engine manually.\u001B[39m\u001B[38;5;124m\"\u001B[39m\n\u001B[1;32m   1636\u001B[0m         )\n",
      "File \u001B[0;32m~/PycharmProjects/UsAs/venv/lib/python3.11/site-packages/pandas/io/excel/_base.py:1502\u001B[0m, in \u001B[0;36minspect_excel_format\u001B[0;34m(content_or_path, storage_options)\u001B[0m\n\u001B[1;32m   1499\u001B[0m \u001B[38;5;28;01mif\u001B[39;00m \u001B[38;5;28misinstance\u001B[39m(content_or_path, \u001B[38;5;28mbytes\u001B[39m):\n\u001B[1;32m   1500\u001B[0m     content_or_path \u001B[38;5;241m=\u001B[39m BytesIO(content_or_path)\n\u001B[0;32m-> 1502\u001B[0m \u001B[38;5;28;01mwith\u001B[39;00m \u001B[43mget_handle\u001B[49m\u001B[43m(\u001B[49m\n\u001B[1;32m   1503\u001B[0m \u001B[43m    \u001B[49m\u001B[43mcontent_or_path\u001B[49m\u001B[43m,\u001B[49m\u001B[43m \u001B[49m\u001B[38;5;124;43m\"\u001B[39;49m\u001B[38;5;124;43mrb\u001B[39;49m\u001B[38;5;124;43m\"\u001B[39;49m\u001B[43m,\u001B[49m\u001B[43m \u001B[49m\u001B[43mstorage_options\u001B[49m\u001B[38;5;241;43m=\u001B[39;49m\u001B[43mstorage_options\u001B[49m\u001B[43m,\u001B[49m\u001B[43m \u001B[49m\u001B[43mis_text\u001B[49m\u001B[38;5;241;43m=\u001B[39;49m\u001B[38;5;28;43;01mFalse\u001B[39;49;00m\n\u001B[1;32m   1504\u001B[0m \u001B[43m\u001B[49m\u001B[43m)\u001B[49m \u001B[38;5;28;01mas\u001B[39;00m handle:\n\u001B[1;32m   1505\u001B[0m     stream \u001B[38;5;241m=\u001B[39m handle\u001B[38;5;241m.\u001B[39mhandle\n\u001B[1;32m   1506\u001B[0m     stream\u001B[38;5;241m.\u001B[39mseek(\u001B[38;5;241m0\u001B[39m)\n",
      "File \u001B[0;32m~/PycharmProjects/UsAs/venv/lib/python3.11/site-packages/pandas/io/common.py:866\u001B[0m, in \u001B[0;36mget_handle\u001B[0;34m(path_or_buf, mode, encoding, compression, memory_map, is_text, errors, storage_options)\u001B[0m\n\u001B[1;32m    857\u001B[0m         handle \u001B[38;5;241m=\u001B[39m \u001B[38;5;28mopen\u001B[39m(\n\u001B[1;32m    858\u001B[0m             handle,\n\u001B[1;32m    859\u001B[0m             ioargs\u001B[38;5;241m.\u001B[39mmode,\n\u001B[0;32m   (...)\u001B[0m\n\u001B[1;32m    862\u001B[0m             newline\u001B[38;5;241m=\u001B[39m\u001B[38;5;124m\"\u001B[39m\u001B[38;5;124m\"\u001B[39m,\n\u001B[1;32m    863\u001B[0m         )\n\u001B[1;32m    864\u001B[0m     \u001B[38;5;28;01melse\u001B[39;00m:\n\u001B[1;32m    865\u001B[0m         \u001B[38;5;66;03m# Binary mode\u001B[39;00m\n\u001B[0;32m--> 866\u001B[0m         handle \u001B[38;5;241m=\u001B[39m \u001B[38;5;28;43mopen\u001B[39;49m\u001B[43m(\u001B[49m\u001B[43mhandle\u001B[49m\u001B[43m,\u001B[49m\u001B[43m \u001B[49m\u001B[43mioargs\u001B[49m\u001B[38;5;241;43m.\u001B[39;49m\u001B[43mmode\u001B[49m\u001B[43m)\u001B[49m\n\u001B[1;32m    867\u001B[0m     handles\u001B[38;5;241m.\u001B[39mappend(handle)\n\u001B[1;32m    869\u001B[0m \u001B[38;5;66;03m# Convert BytesIO or file objects passed with an encoding\u001B[39;00m\n",
      "\u001B[0;31mFileNotFoundError\u001B[0m: [Errno 2] No such file or directory: '../../data/d00_helpers/codebook/ch/rki_heart.xlsx'"
     ]
    }
   ],
   "source": [
    "# read in codebook and reduce to columns and rows of interest\n",
    "cb = pd.read_excel('../../data/d00_helpers/codebook/ch/rki_heart.xlsx', sheet_name='FollowUp', header=4)\n",
    "cb = cb[cb.elementtype=='question']\n",
    "cb = cb.iloc[:, :30]"
   ]
  }
 ],
 "metadata": {
  "kernelspec": {
   "display_name": "Python 3 (ipykernel)",
   "language": "python",
   "name": "python3"
  },
  "language_info": {
   "codemirror_mode": {
    "name": "ipython",
    "version": 3
   },
   "file_extension": ".py",
   "mimetype": "text/x-python",
   "name": "python",
   "nbconvert_exporter": "python",
   "pygments_lexer": "ipython3",
   "version": "3.9.0"
  }
 },
 "nbformat": 4,
 "nbformat_minor": 5
}
